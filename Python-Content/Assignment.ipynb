{
 "cells": [
  {
   "cell_type": "markdown",
   "id": "b03d6320-add2-4d84-a6c6-91a70e84272e",
   "metadata": {},
   "source": [
    "# Assignment \n",
    "\n",
    "As part of this course, you should complete an assignment. \n",
    "\n",
    "You have the choice of three different assignments.\n",
    "\n",
    "Here are your choices: \n",
    "\n",
    "1. Medical Image Classification\n",
    "2. Streamlit web application\n",
    "3. Tabular Data Classification or Regression\n",
    "\n",
    "**Deadline is the 25th of March!!**"
   ]
  },
  {
   "cell_type": "markdown",
   "id": "a89597b7-3359-4b23-8b73-2e7073b65071",
   "metadata": {},
   "source": [
    "## 1. Medical Image Classificaiton\n",
    "\n",
    "In this task, you are expected to classify dermatology medical images. \n",
    "\n",
    "For this, we will use MedMNIST, specifically DermaMNIST. The best approach would be to train on larger images, either 128 or even larger sized images. In the example during the seminar, we used the reduced size dataset. This resulted in poor performance. The bigger the image you choose, the better it will work!\n",
    "\n",
    "Options:\n",
    "\n",
    "1. Use larger images (as large as possible, but at least 128)\n",
    "2. Resampling to re-balance the dataset during training\n",
    "3. Use a Pre-trained Network (PyTorch Hub)\n",
    "4. Augmentation (Use the PyTorch `transforms.Compose` code from the seminar notebooks)\n",
    "5. Change from 7 class to 2 class (malignant/benign): prob use this as a last resort! \n",
    "\n",
    "Code for GPU check:\n",
    "\n",
    "```python\n",
    "device = torch.device(\"cuda\" if torch.cuda.is_available() else \"cpu\")\n",
    "```\n",
    "\n",
    "For this you will need to use a GPU. You can get a free GPU from Google Colab:\n",
    "\n",
    "<https://colab.research.google.com/>\n",
    "\n",
    "Change the runtime to GPU: Click Runtime -> Change runtime type and select T4 GPU.\n",
    "\n",
    "Submission:\n",
    "Send me a Jupyter Notebook with the accuracy, classification report, confusion matrix, etc."
   ]
  },
  {
   "cell_type": "markdown",
   "id": "df16095e-fb47-4b25-add1-e0459d4df238",
   "metadata": {},
   "source": [
    "## 2. Streamlit Web Application\n",
    "\n",
    "For this assignment, you must create a Streamlit application. \n",
    "\n",
    "A model is provided here as price_model.pickle in this directory. **If you wish to train your own model**:\n",
    "\n",
    "- You must train a model on some data about house prices.\n",
    "- Here is a house price dataset: <https://www.kaggle.com/datasets/yasserh/housing-prices-dataset>\n",
    "- Use only 3 or 4 of the features, e.g. area, number of bedrooms, and number of bathrooms. \n",
    "\n",
    "The web app should let me enter some details about the house, and it should predict for me the house price. \n",
    "\n",
    "It should contain 3 fields, and send the values to the model if all 3 fields are completed.\n",
    "\n",
    "Use something like \n",
    "\n",
    "```python\n",
    "text1 = st.text_input(label=\"Area Square Meters\")\n",
    "```\n",
    "\n",
    "to create text fields.\n",
    "\n",
    "Submission: Python file with the StreamLit application code."
   ]
  },
  {
   "cell_type": "markdown",
   "id": "85423498-efb5-4063-bd57-c91652454ae4",
   "metadata": {},
   "source": [
    "## 3. Tabular Data (Classification or Regression)\n",
    "\n",
    "In this assigment, you are free to choose any tabular dataset, and train an machine learning algorimth on this data. It can classification or regression. Do not use any of the datasets that come with Sci-Kit Learn, use a dataset you had to download, either from OpenML or a website such as Kaggle: <https://www.kaggle.com/datasets>\n",
    "\n",
    "1. Choose an appropriate algorithm for the task\n",
    "2. Split your data properly using a train/test split\n",
    "3. Analyse the results\n",
    "4. Discuss the metrics\n",
    "5. Plot a confusion matrix\n",
    "\n",
    "Submission: Jupyter Notebook."
   ]
  }
 ],
 "metadata": {
  "kernelspec": {
   "display_name": "Python 3 (ipykernel)",
   "language": "python",
   "name": "python3"
  },
  "language_info": {
   "codemirror_mode": {
    "name": "ipython",
    "version": 3
   },
   "file_extension": ".py",
   "mimetype": "text/x-python",
   "name": "python",
   "nbconvert_exporter": "python",
   "pygments_lexer": "ipython3",
   "version": "3.10.10"
  }
 },
 "nbformat": 4,
 "nbformat_minor": 5
}
