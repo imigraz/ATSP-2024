{
 "cells": [
  {
   "cell_type": "markdown",
   "id": "9b99e6c1-ef8b-410c-80a7-7265b959456d",
   "metadata": {},
   "source": [
    "# Day 1: Morning Session\n",
    "\n",
    "# Introduction\n",
    "\n",
    "Welcome to Python section of the Advanced Topics in Scientific Programming (ATSP) 2024 course! \n",
    "\n",
    "We have two days of Python, where we will discuss the following:\n",
    "\n",
    "- Day 1 will focus on basics of Python, Numpy, Jupyter, and then machine learning methods using Sci-Kit Learn\n",
    "    - As I understand it, you you have already done Pandas in the introduction course?\n",
    "    - If we need a refresher on Pandas, we can do so quickly in this morning session now. \n",
    "- Day 2 will focus on Deep Learning, model deployment, and your assignment\n",
    "\n",
    "Your assignment will be to complete an end to end machine learning project - you will have the choice of several assignments. We will go in to more details regarding the assignment tomorrow. One of the assignments will be an image classification assignment using deep neural networks. Another assignment will relate to text or tabular dataset.\n",
    "\n",
    "## Admin and Materials\n",
    "Let's first discuss some administrative matters and the material for the course.\n",
    "\n",
    "We provide the materials as follows: \n",
    "\n",
    "- All course materials are provided and presented as Jupyter notebooks\n",
    "- Jupyter is a web-based development enviroment for Python, R, etc.\n",
    "- During the seminars, we will use this server to run and execute the code live\n",
    "- Each of you has an account so you can log in to the server and access the materials and follow along while we code, you can also experiment with the code, etc.\n",
    "- The server will only run during the seminar times. Outside of the seminars, you will be able to access the notebooks via our GitHub repository\n",
    "\n",
    "This means that to run the notebooks outside of the seminar times, you will need to install and run Jupyter locally, or use something like Google Colab, which we discuss in detail tomorrow. Tomorrow afternoon, we will discuss your assignment, and in this session we can set up Jupyter on your local machines, etc.\n",
    "\n",
    "### Day 1\n",
    "\n",
    "Today we will discuss the following topics:\n",
    "\n",
    "- What is Jupyter and how to use it\n",
    "- Basics of Python\n",
    "- Basics of NumPy\n",
    "- Basics of Pandas, if required?\n",
    "- Machine Learning basics\n",
    "    - Classification, regression / Supervised vs. Unsupervised\n",
    "    - Overfitting and underfitting\n",
    "    - Model evalutation\n",
    "- SciKit Learn\n",
    "    - How to get data\n",
    "    - How to generate data\n",
    "    - Training, testing\n",
    "    - Cross validation\n",
    "    - Model persistence\n",
    "    - Scaling and normalisation\n",
    "    - Data preprocessing\n",
    "\n",
    "We will split this content into the morning and afternoon sessions. \n",
    "\n",
    "So, in a bit more detail, first we discuss Jupyter, and how to use it. We will use Jupyter almost entirely for this course, to cover the material, and to run code examples and so on. You can follow along and try code examples. Jupyter is a good skill to have if you work in data science, machine learning, or academic research in general. For example, it is very useful for reproducibility and for organising code, presenting work, and for development work when you are working on a project. You can use it as an IDE, and completely replace the use of a text editor. It is web-based, meaning all you need is a browser to use it. And it can be used remotely, for example you can code at home while accessing a server at work or anywhere else in the world. It is worth noting that Jupyter is not only for Python development, there are so-called kernels for dozens of languages, including R, Julia, MATLAB, Mathematica, SPSS, you name it! \n",
    "\n",
    "After covering Jupyter and how to use it, we cover the basics of Python. Python is a general purpose language, which makes it a very useful language to know - and of course it often used in the context of Machine Learning tasks, but it completely dominates as the language of choice for Deep Learning. If you are doing any kind of Deep Neural Network training, you will most likely be using Python and frameworks such as Torch and TensorFlow. So in this section we will cover the basics of Python, such as functions, lists, classes, etc. \n",
    "\n",
    "Once we have covered the basics of Python, then we will cover some tips and tricks for using Python in the context of Machine Learning, and cover some aspects of the language that make it useful for Data Science work in general.\n",
    "\n",
    "Next, we cover Numpy, which is a framework for handling data in Python. It provides essential functionality for manipulating array and matrix data and is used in practically any machine learing project. If required, we can cover Pandas as well, although I understand that this has already been covered in the \n",
    "\n",
    "After we have covered the basics of Python programming, Jupyter, and NumPy, we will move on to Machine Learning methods using Python. The focus of this course is practical Machine Learning. We will not discuss in detail how the algorithms we cover work, it is focussed on how to train algorithms, what are best practices, where to get data, etc. and we will be mostly using SciKit-Learn for this.\n",
    "\n",
    "**Please note**: these notebooks are rather text-heavy: this is by design. The reason being, is that it should be possible for you to download and read and go through all these noteooks completely independently after the course has finished. Hence they should be self explanatory and be useful as a reference later, if you wish to go back to a topic (for your assignment, for example).\n",
    "\n",
    "### Day 2\n",
    "\n",
    "Day 2 will focus on Neural Networks and Deep Learning, as well as model deployment.\n",
    "\n",
    "Topics include:\n",
    "\n",
    "- Simple neural networks: we will use PyTorch to define a simple neural network and train it\n",
    "- PyTorch: we will discuss the framework we will use to create neural networks\n",
    "- Deep learning: we move to deep networks, the basis for all of the recent advancements, such as generative models and GPT models\n",
    "- Image classification: we will train an image classifier on a number of small tasks\n",
    "- Image segmentation: we discuss image segmentation in the context of medicine\n",
    "- Pre-trained models: use networks that have already been trained\n",
    "- Fine-tuning models: adapt a pre-trained network to your specific task \n",
    "- Model deployment and web application development\n",
    "- Assignment\n",
    "\n",
    "## Get Started\n",
    "\n",
    "So, as mentioned, this course we are going to be using Jupyter almost exclusively. We have set up a server so that you can follow along with the examples that we cover here.\n",
    "\n",
    "The server can be accessed via a link that will be shown on the projector now!\n",
    "\n",
    "Do not worry if there is some warning about insecure HTTP: access to this server is limited to the MUG network and KAGes. No one else can access this server from outside of the MUG or the KAGes network.\n",
    "\n",
    "To log in, use s + matriculation number, e.g. `s07316801` and the password that will be shown on the whiteboard. \n",
    "\n",
    "When you log in, you will see the notebooks for the course. If you do not see any notebooks, then something went wrong! Most likely you have entered an incorrect matriculation number. Let's make sure everyone is logged in before we continue.\n",
    "\n",
    "Note that this server will only be running during the seminar times! Outside of seminar times, you can download the notebooks from the GitHub repository.\n",
    "\n",
    "Outside of the seminar times, you will need to either install Jupyter on your machines, or use one of the online services that we will cover later in the course. \n",
    "\n",
    "For now however, we will use this server for the next two days during the course.\n",
    "\n",
    "The material (for example these notebooks, plus other material from the R part of the course, and datasets and so on) are all available at any time under the following link:\n",
    "\n",
    "- <https://github.com/imigraz/ATSP-2024>\n",
    "\n",
    "Let's have a look at the repository now. You can download the contents of the repository as a zip file, or you can clone the repository using Git.\n",
    "\n",
    "## Exercises\n",
    "\n",
    "If we have time, there are some small exercises along the way that you can complete. However, because it is unclear if we will have time for these, the grading will be based only the assignment that you have to complete."
   ]
  },
  {
   "cell_type": "markdown",
   "id": "457d9deb-704d-4eb2-9797-8e5849020d02",
   "metadata": {},
   "source": [
    "---"
   ]
  },
  {
   "cell_type": "markdown",
   "id": "54f4b9eb-296d-4737-86a4-e037f1e56ab4",
   "metadata": {},
   "source": [
    "# Jupyter\n",
    "\n",
    "This environment that we are using now is called Jupyter. It provides an interactive web-based environment called notebooks. \n",
    "\n",
    "It is worth noting that Jupyter is not just for Python development. There are so-called kernels from dozens of languags, see <https://github.com/jupyter/jupyter/wiki/Jupyter-kernels>, including R. Also, Jupyter is used widely in acaedmia to disseminate results and experiments. It is therefore a very useful tool to aid reproducibility. A particularly good example of this can be found here: <https://www.nature.com/articles/ng.3051> - you will find that there are a number of Jupyter notebooks associated with the paper, and they can be used to reproduce the exact same plots found with in the paper itself: <https://github.com/theandygross/TCGA/>. If you supply your experiments as a Jupyter notebook, anyone can download the notebooks, and run them on their local machine, confirming your results. This can greatly enhance your chances of getting a paper published! \n",
    "\n",
    "GitHub natively supports Jupyter, so you can host notebooks for free there. Example: <https://github.com/mdbloice/Augmentor/blob/master/notebooks/Augmentor_Keras.ipynb>. GitHub is often used to host Jupyter notebooks for a publication, as we saw above. Note that GitHub hosts notebooks **statically**, meaning they cannot be executed. You can view them, and download them, but not run them. \n",
    "\n",
    "Back to the structure of a notebook. Notebooks can contain text, images, and also code. When you execute Python code, the code is sent to a server (which can running on your local machine or elsewhere), and the results or output of the code appear in the notebook.\n",
    "\n",
    "Therefore, there are different types of cells. Text cells and code cells. \n",
    "\n",
    "This is a text cell. Below we have a code cell:"
   ]
  },
  {
   "cell_type": "code",
   "execution_count": 1,
   "id": "982dca69-4398-4283-a309-35553e3f218b",
   "metadata": {},
   "outputs": [
    {
     "name": "stdout",
     "output_type": "stream",
     "text": [
      "A code cell is executed and the results are printed to the notebook!\n"
     ]
    }
   ],
   "source": [
    "print(\"A code cell is executed and the results are printed to the notebook!\")"
   ]
  },
  {
   "cell_type": "markdown",
   "id": "429cb72f-c671-4f92-a762-0e3f6ad3cb36",
   "metadata": {},
   "source": [
    "The return result does not neccessarily only contain textual or numerical data, they can also be images or plots, of course.\n",
    "\n",
    "## Jupyter Basic Usage\n",
    "\n",
    "I will demonstrate the following now:\n",
    "\n",
    "- Create new cells\n",
    "- Making a cell active \n",
    "- Executing a cell\n",
    "- Changing the cell type\n",
    "- Placing a cell above and below the current position\n",
    "- Hiding the output of a cell\n",
    "- Moving a cell up or down\n",
    "\n",
    "Also, the IDE itself allows you to use tabs, open terminals, view data, and so on. It is a proper IDE, where you can do most of work from! \n",
    "\n",
    "- Create a new notebook\n",
    "- Browse notebooks\n",
    "- Open a terminal\n",
    "- Open a dataset\n",
    "\n",
    "In the menu there are a few options to look at:\n",
    "\n",
    "- **Run** menu\n",
    "    - Run a cell\n",
    "    - Run all cells\n",
    "- **File** menu\n",
    "    - Download\n",
    "    - Convert\n",
    "- **Kernel** menu\n",
    "    - What is a kernel?\n",
    "    - Interrupt kernel\n",
    "    - Restart kernel"
   ]
  },
  {
   "cell_type": "markdown",
   "id": "875c9835-b7ce-48cf-addf-b82ff5cb0650",
   "metadata": {},
   "source": [
    "## Jupyter Tips and Tricks\n",
    "\n",
    "Ok, so we have seen the basic usage, now let's discuss some mor advanced features you may not know about, even if you use Jupyter a lot.\n",
    "\n",
    "### Magics \n",
    "\n",
    "You can execute magics using `%` and `%%`. \n",
    "\n",
    "Line magics begin with a single `%` and they apply only to that one line.\n",
    "\n",
    "Cell magics begin with double `%%` and apply to the entire cell.\n",
    "\n",
    "#### Line Magics\n",
    "\n",
    "For example, to see a history of your previous commands, use `%history`:"
   ]
  },
  {
   "cell_type": "code",
   "execution_count": 2,
   "id": "1064e1c1-e060-4234-9856-d3f4f4d80e4b",
   "metadata": {},
   "outputs": [
    {
     "name": "stdout",
     "output_type": "stream",
     "text": [
      "import torchinfo\n",
      "\n",
      "torchinfo.summary(model)\n",
      "torchinfo.summary(model)\n",
      "from tqdm.notebook import tqdm\n",
      "\n",
      "for epoch in range(number_of_epochs):\n",
      "    train_correct = 0\n",
      "    train_total = 0\n",
      "    test_correct = 0\n",
      "    test_total = 0\n",
      "    \n",
      "    model.train()\n",
      "    for inputs, targets in tqdm(train_loader):\n",
      "        # forward + backward + optimize\n",
      "        optimizer.zero_grad()\n",
      "        outputs = model(inputs)\n",
      "        \n",
      "        #if task == 'multi-label, binary-class':\n",
      "        #    targets = targets.to(torch.float32)\n",
      "        #    loss = criterion(outputs, targets)\n",
      "        #else:\n",
      "        targets = targets.squeeze().long()\n",
      "        loss = criterion(outputs, targets)\n",
      "        \n",
      "        loss.backward()\n",
      "        optimizer.step()\n",
      "from sklearn.metrics import classification_report\n",
      "\n",
      "y_pred_cr = []\n",
      "y_true_cr = []\n",
      "\n",
      "def test(split):\n",
      "    model.eval()\n",
      "    y_true = torch.tensor([])\n",
      "    y_score = torch.tensor([])\n",
      "    \n",
      "    data_loader = train_loader if split == 'train' else test_loader\n",
      "\n",
      "    with torch.no_grad():\n",
      "        for inputs, targets in data_loader:\n",
      "            outputs = model(inputs)\n",
      "\n",
      "            #if task == 'multi-label, binary-class':\n",
      "            #    targets = targets.to(torch.float32)\n",
      "            #    outputs = outputs.softmax(dim=-1)\n",
      "            #else:\n",
      "            targets = targets.squeeze().long()\n",
      "            outputs = outputs.softmax(dim=-1)\n",
      "            targets = targets.float().resize_(len(targets), 1)\n",
      "\n",
      "            y_true = torch.cat((y_true, targets), 0)\n",
      "            y_score = torch.cat((y_score, outputs), 0)\n",
      "\n",
      "        \n",
      "        y_true = y_true.numpy()\n",
      "        y_score = y_score.detach().numpy()\n",
      "        \n",
      "        evaluator = Evaluator('dermamnist', split)\n",
      "        metrics = evaluator.evaluate(y_score)\n",
      "    \n",
      "        # print('%s  auc: %.3f  acc:%.3f' % (split, *metrics))\n",
      "        print(f\"Model accuracy: {metrics[1]:.3f}\")\n",
      "        \n",
      "        # For classification report\n",
      "        for score in y_score:\n",
      "            y_pred_cr.append(np.argmax(score))\n",
      "\n",
      "        for score in y_true:\n",
      "            y_true_cr.append(int(score[0]))\n",
      "        \n",
      "#test('train')\n",
      "test('test')\n",
      "print(classification_report(y_true_cr, y_pred_cr, zero_division=0.0, target_names=labels))\n",
      "from sklearn.metrics import confusion_matrix, ConfusionMatrixDisplay\n",
      "cm = confusion_matrix(cr_true_labels, cr_pred_labels)\n",
      "\n",
      "disp = ConfusionMatrixDisplay(confusion_matrix=cm, display_labels=classes)\n",
      "disp.plot(cmap='Blues', colorbar=False);\n",
      "cm = confusion_matrix(y_true_cr, y_pred_cr)\n",
      "\n",
      "disp = ConfusionMatrixDisplay(confusion_matrix=cm, display_labels=labels)\n",
      "disp.plot(cmap='Blues', colorbar=False);\n",
      "model\n",
      "cm = confusion_matrix(y_true_cr, y_pred_cr)\n",
      "\n",
      "disp = ConfusionMatrixDisplay(confusion_matrix=cm, display_labels=labels)\n",
      "disp.plot(cmap='Blues', colorbar=False);\n",
      "print(\"A code cell is executed and the results are printed to the notebook!\")\n"
     ]
    }
   ],
   "source": [
    "%history -l 10"
   ]
  },
  {
   "cell_type": "markdown",
   "id": "a96248f2-1e25-4e61-8bba-92c4b95f9cb0",
   "metadata": {},
   "source": [
    "The `-l 10` argument prints only the last 10 commands."
   ]
  },
  {
   "cell_type": "markdown",
   "id": "5c195b5c-9802-46d9-8793-872bd7f91930",
   "metadata": {},
   "source": [
    "Another useful one is the `%whos` command, which lists all currently stored variables and some information about each one."
   ]
  },
  {
   "cell_type": "code",
   "execution_count": 3,
   "id": "eef70a7a-9741-4bd4-a8e3-1ab9adbe35f6",
   "metadata": {},
   "outputs": [
    {
     "name": "stdout",
     "output_type": "stream",
     "text": [
      "Interactive namespace is empty.\n"
     ]
    }
   ],
   "source": [
    "%whos"
   ]
  },
  {
   "cell_type": "markdown",
   "id": "d6a92eaa-08ab-4770-8055-96e5bdb5ac2f",
   "metadata": {},
   "source": [
    "If you only want strings, use this:"
   ]
  },
  {
   "cell_type": "code",
   "execution_count": 4,
   "id": "536d7cea-0fbc-4844-ad3b-fcf2c7fba086",
   "metadata": {},
   "outputs": [
    {
     "name": "stdout",
     "output_type": "stream",
     "text": [
      "No variables match your requested type.\n"
     ]
    }
   ],
   "source": [
    "%whos list"
   ]
  },
  {
   "cell_type": "markdown",
   "id": "8b8022ce-5594-4036-94af-aaf5c8bcb082",
   "metadata": {},
   "source": [
    "#### Cell Magics\n",
    "\n",
    "These operate on the entire cell. \n",
    "\n",
    "A very useful one is the `%%timeit` cell magic:"
   ]
  },
  {
   "cell_type": "code",
   "execution_count": 5,
   "id": "ce46dcef-48b8-4d15-a8f3-19444be1e64b",
   "metadata": {},
   "outputs": [
    {
     "name": "stdout",
     "output_type": "stream",
     "text": [
      "48.7 ns ± 0.0404 ns per loop (mean ± std. dev. of 7 runs, 10,000,000 loops each)\n"
     ]
    }
   ],
   "source": [
    "%%timeit\n",
    "\n",
    "a = [1,2,4]\n",
    "b = 6\n",
    "\n",
    "c = a * b"
   ]
  },
  {
   "cell_type": "markdown",
   "id": "1dac0ba7-4d8b-43b9-9929-c1e31fa96b8e",
   "metadata": {},
   "source": [
    "Or, write the entire contents of the cell to a file on the disk:"
   ]
  },
  {
   "cell_type": "code",
   "execution_count": 6,
   "id": "ba7b7457-89b0-4cbd-806a-680aae38d83f",
   "metadata": {},
   "outputs": [
    {
     "name": "stdout",
     "output_type": "stream",
     "text": [
      "Overwriting atsp.txt\n"
     ]
    }
   ],
   "source": [
    "%%writefile atsp.txt\n",
    "\n",
    "hello, world"
   ]
  },
  {
   "cell_type": "markdown",
   "id": "79aa889f-e6df-43b2-bf70-3b49eed5d699",
   "metadata": {},
   "source": [
    "Use `-a` to append to a file:"
   ]
  },
  {
   "cell_type": "code",
   "execution_count": 7,
   "id": "1442bcd9-f5eb-43e6-b00e-fe198f558118",
   "metadata": {},
   "outputs": [
    {
     "name": "stdout",
     "output_type": "stream",
     "text": [
      "Appending to atsp.txt\n"
     ]
    }
   ],
   "source": [
    "%%writefile -a atsp.txt\n",
    "\n",
    "welcome to the course"
   ]
  },
  {
   "cell_type": "markdown",
   "id": "63c8bb28-a769-4d44-8e13-f742952667dd",
   "metadata": {},
   "source": [
    "This is very useful for writing logs!"
   ]
  },
  {
   "cell_type": "markdown",
   "id": "e093b22d-fb04-47b3-8097-b20fb59818a3",
   "metadata": {},
   "source": [
    "To see a list of all magics, use `%magic`. Be warned, this produces a lot of output! However, we can use this to demonstrate how to hide the output of a cell."
   ]
  },
  {
   "cell_type": "code",
   "execution_count": 8,
   "id": "0c1b7849-998a-4008-ba66-1c8a6ad17287",
   "metadata": {},
   "outputs": [
    {
     "data": {
      "text/plain": [
       "\n",
       "IPython's 'magic' functions\n",
       "===========================\n",
       "\n",
       "The magic function system provides a series of functions which allow you to\n",
       "control the behavior of IPython itself, plus a lot of system-type\n",
       "features. There are two kinds of magics, line-oriented and cell-oriented.\n",
       "\n",
       "Line magics are prefixed with the % character and work much like OS\n",
       "command-line calls: they get as an argument the rest of the line, where\n",
       "arguments are passed without parentheses or quotes.  For example, this will\n",
       "time the given statement::\n",
       "\n",
       "        %timeit range(1000)\n",
       "\n",
       "Cell magics are prefixed with a double %%, and they are functions that get as\n",
       "an argument not only the rest of the line, but also the lines below it in a\n",
       "separate argument.  These magics are called with two arguments: the rest of the\n",
       "call line and the body of the cell, consisting of the lines below the first.\n",
       "For example::\n",
       "\n",
       "        %%timeit x = numpy.random.randn((100, 100))\n",
       "        numpy.linalg.svd(x)\n",
       "\n",
       "will time the execution of the numpy svd routine, running the assignment of x\n",
       "as part of the setup phase, which is not timed.\n",
       "\n",
       "In a line-oriented client (the terminal or Qt console IPython), starting a new\n",
       "input with %% will automatically enter cell mode, and IPython will continue\n",
       "reading input until a blank line is given.  In the notebook, simply type the\n",
       "whole cell as one entity, but keep in mind that the %% escape can only be at\n",
       "the very start of the cell.\n",
       "\n",
       "NOTE: If you have 'automagic' enabled (via the command line option or with the\n",
       "%automagic function), you don't need to type in the % explicitly for line\n",
       "magics; cell magics always require an explicit '%%' escape.  By default,\n",
       "IPython ships with automagic on, so you should only rarely need the % escape.\n",
       "\n",
       "Example: typing '%cd mydir' (without the quotes) changes your working directory\n",
       "to 'mydir', if it exists.\n",
       "\n",
       "For a list of the available magic functions, use %lsmagic. For a description\n",
       "of any of them, type %magic_name?, e.g. '%cd?'.\n",
       "\n",
       "Currently the magic system has the following functions:\n",
       "%alias:\n",
       "    Define an alias for a system command.\n",
       "    \n",
       "    '%alias alias_name cmd' defines 'alias_name' as an alias for 'cmd'\n",
       "    \n",
       "    Then, typing 'alias_name params' will execute the system command 'cmd\n",
       "    params' (from your underlying operating system).\n",
       "    \n",
       "    Aliases have lower precedence than magic functions and Python normal\n",
       "    variables, so if 'foo' is both a Python variable and an alias, the\n",
       "    alias can not be executed until 'del foo' removes the Python variable.\n",
       "    \n",
       "    You can use the %l specifier in an alias definition to represent the\n",
       "    whole line when the alias is called.  For example::\n",
       "    \n",
       "      In [2]: alias bracket echo \"Input in brackets: <%l>\"\n",
       "      In [3]: bracket hello world\n",
       "      Input in brackets: <hello world>\n",
       "    \n",
       "    You can also define aliases with parameters using %s specifiers (one\n",
       "    per parameter)::\n",
       "    \n",
       "      In [1]: alias parts echo first %s second %s\n",
       "      In [2]: %parts A B\n",
       "      first A second B\n",
       "      In [3]: %parts A\n",
       "      Incorrect number of arguments: 2 expected.\n",
       "      parts is an alias to: 'echo first %s second %s'\n",
       "    \n",
       "    Note that %l and %s are mutually exclusive.  You can only use one or\n",
       "    the other in your aliases.\n",
       "    \n",
       "    Aliases expand Python variables just like system calls using ! or !!\n",
       "    do: all expressions prefixed with '$' get expanded.  For details of\n",
       "    the semantic rules, see PEP-215:\n",
       "    https://peps.python.org/pep-0215/.  This is the library used by\n",
       "    IPython for variable expansion.  If you want to access a true shell\n",
       "    variable, an extra $ is necessary to prevent its expansion by\n",
       "    IPython::\n",
       "    \n",
       "      In [6]: alias show echo\n",
       "      In [7]: PATH='A Python string'\n",
       "      In [8]: show $PATH\n",
       "      A Python string\n",
       "      In [9]: show $$PATH\n",
       "      /usr/local/lf9560/bin:/usr/local/intel/compiler70/ia32/bin:...\n",
       "    \n",
       "    You can use the alias facility to access all of $PATH.  See the %rehashx\n",
       "    function, which automatically creates aliases for the contents of your\n",
       "    $PATH.\n",
       "    \n",
       "    If called with no parameters, %alias prints the current alias table\n",
       "    for your system.  For posix systems, the default aliases are 'cat',\n",
       "    'cp', 'mv', 'rm', 'rmdir', and 'mkdir', and other platform-specific\n",
       "    aliases are added.  For windows-based systems, the default aliases are\n",
       "    'copy', 'ddir', 'echo', 'ls', 'ldir', 'mkdir', 'ren', and 'rmdir'.\n",
       "    \n",
       "    You can see the definition of alias by adding a question mark in the\n",
       "    end::\n",
       "    \n",
       "      In [1]: cat?\n",
       "      Repr: <alias cat for 'cat'>\n",
       "%alias_magic:\n",
       "    ::\n",
       "    \n",
       "      %alias_magic [-l] [-c] [-p PARAMS] name target\n",
       "    \n",
       "    Create an alias for an existing line or cell magic.\n",
       "    \n",
       "    Examples\n",
       "    --------\n",
       "    ::\n",
       "    \n",
       "      In [1]: %alias_magic t timeit\n",
       "      Created `%t` as an alias for `%timeit`.\n",
       "      Created `%%t` as an alias for `%%timeit`.\n",
       "    \n",
       "      In [2]: %t -n1 pass\n",
       "      107 ns ± 43.6 ns per loop (mean ± std. dev. of 7 runs, 1 loop each)\n",
       "    \n",
       "      In [3]: %%t -n1\n",
       "         ...: pass\n",
       "         ...:\n",
       "      107 ns ± 58.3 ns per loop (mean ± std. dev. of 7 runs, 1 loop each)\n",
       "    \n",
       "      In [4]: %alias_magic --cell whereami pwd\n",
       "      UsageError: Cell magic function `%%pwd` not found.\n",
       "      In [5]: %alias_magic --line whereami pwd\n",
       "      Created `%whereami` as an alias for `%pwd`.\n",
       "    \n",
       "      In [6]: %whereami\n",
       "      Out[6]: '/home/testuser'\n",
       "    \n",
       "      In [7]: %alias_magic h history -p \"-l 30\" --line\n",
       "      Created `%h` as an alias for `%history -l 30`.\n",
       "    \n",
       "    positional arguments:\n",
       "      name                  Name of the magic to be created.\n",
       "      target                Name of the existing line or cell magic.\n",
       "    \n",
       "    options:\n",
       "      -l, --line            Create a line magic alias.\n",
       "      -c, --cell            Create a cell magic alias.\n",
       "      -p PARAMS, --params PARAMS\n",
       "                            Parameters passed to the magic function.\n",
       "%autoawait:\n",
       "    \n",
       "    Allow to change the status of the autoawait option.\n",
       "    \n",
       "    This allow you to set a specific asynchronous code runner.\n",
       "    \n",
       "    If no value is passed, print the currently used asynchronous integration\n",
       "    and whether it is activated.\n",
       "    \n",
       "    It can take a number of value evaluated in the following order:\n",
       "    \n",
       "    - False/false/off deactivate autoawait integration\n",
       "    - True/true/on activate autoawait integration using configured default\n",
       "      loop\n",
       "    - asyncio/curio/trio activate autoawait integration and use integration\n",
       "      with said library.\n",
       "    \n",
       "    - `sync` turn on the pseudo-sync integration (mostly used for\n",
       "      `IPython.embed()` which does not run IPython with a real eventloop and\n",
       "      deactivate running asynchronous code. Turning on Asynchronous code with\n",
       "      the pseudo sync loop is undefined behavior and may lead IPython to crash.\n",
       "    \n",
       "    If the passed parameter does not match any of the above and is a python\n",
       "    identifier, get said object from user namespace and set it as the\n",
       "    runner, and activate autoawait.\n",
       "    \n",
       "    If the object is a fully qualified object name, attempt to import it and\n",
       "    set it as the runner, and activate autoawait.\n",
       "    \n",
       "    The exact behavior of autoawait is experimental and subject to change\n",
       "    across version of IPython and Python.\n",
       "%autocall:\n",
       "    Make functions callable without having to type parentheses.\n",
       "    \n",
       "    Usage:\n",
       "    \n",
       "       %autocall [mode]\n",
       "    \n",
       "    The mode can be one of: 0->Off, 1->Smart, 2->Full.  If not given, the\n",
       "    value is toggled on and off (remembering the previous state).\n",
       "    \n",
       "    In more detail, these values mean:\n",
       "    \n",
       "    0 -> fully disabled\n",
       "    \n",
       "    1 -> active, but do not apply if there are no arguments on the line.\n",
       "    \n",
       "    In this mode, you get::\n",
       "    \n",
       "      In [1]: callable\n",
       "      Out[1]: <built-in function callable>\n",
       "    \n",
       "      In [2]: callable 'hello'\n",
       "      ------> callable('hello')\n",
       "      Out[2]: False\n",
       "    \n",
       "    2 -> Active always.  Even if no arguments are present, the callable\n",
       "    object is called::\n",
       "    \n",
       "      In [2]: float\n",
       "      ------> float()\n",
       "      Out[2]: 0.0\n",
       "    \n",
       "    Note that even with autocall off, you can still use '/' at the start of\n",
       "    a line to treat the first argument on the command line as a function\n",
       "    and add parentheses to it::\n",
       "    \n",
       "      In [8]: /str 43\n",
       "      ------> str(43)\n",
       "      Out[8]: '43'\n",
       "    \n",
       "    # all-random (note for auto-testing)\n",
       "%automagic:\n",
       "    Make magic functions callable without having to type the initial %.\n",
       "    \n",
       "    Without arguments toggles on/off (when off, you must call it as\n",
       "    %automagic, of course).  With arguments it sets the value, and you can\n",
       "    use any of (case insensitive):\n",
       "    \n",
       "     - on, 1, True: to activate\n",
       "    \n",
       "     - off, 0, False: to deactivate.\n",
       "    \n",
       "    Note that magic functions have lowest priority, so if there's a\n",
       "    variable whose name collides with that of a magic fn, automagic won't\n",
       "    work for that function (you get the variable instead). However, if you\n",
       "    delete the variable (del var), the previously shadowed magic function\n",
       "    becomes visible to automagic again.\n",
       "%autosave:\n",
       "    Set the autosave interval in the notebook (in seconds).\n",
       "    \n",
       "    The default value is 120, or two minutes.\n",
       "    ``%autosave 0`` will disable autosave.\n",
       "    \n",
       "    This magic only has an effect when called from the notebook interface.\n",
       "    It has no effect when called in a startup file.\n",
       "%bookmark:\n",
       "    Manage IPython's bookmark system.\n",
       "    \n",
       "    %bookmark <name>       - set bookmark to current dir\n",
       "    %bookmark <name> <dir> - set bookmark to <dir>\n",
       "    %bookmark -l           - list all bookmarks\n",
       "    %bookmark -d <name>    - remove bookmark\n",
       "    %bookmark -r           - remove all bookmarks\n",
       "    \n",
       "    You can later on access a bookmarked folder with::\n",
       "    \n",
       "      %cd -b <name>\n",
       "    \n",
       "    or simply '%cd <name>' if there is no directory called <name> AND\n",
       "    there is such a bookmark defined.\n",
       "    \n",
       "    Your bookmarks persist through IPython sessions, but they are\n",
       "    associated with each profile.\n",
       "%cat:\n",
       "    Alias for `!cat`\n",
       "%cd:\n",
       "    Change the current working directory.\n",
       "    \n",
       "    This command automatically maintains an internal list of directories\n",
       "    you visit during your IPython session, in the variable ``_dh``. The\n",
       "    command :magic:`%dhist` shows this history nicely formatted. You can\n",
       "    also do ``cd -<tab>`` to see directory history conveniently.\n",
       "    Usage:\n",
       "    \n",
       "      - ``cd 'dir'``: changes to directory 'dir'.\n",
       "      - ``cd -``: changes to the last visited directory.\n",
       "      - ``cd -<n>``: changes to the n-th directory in the directory history.\n",
       "      - ``cd --foo``: change to directory that matches 'foo' in history\n",
       "      - ``cd -b <bookmark_name>``: jump to a bookmark set by %bookmark\n",
       "      - Hitting a tab key after ``cd -b`` allows you to tab-complete\n",
       "        bookmark names.\n",
       "    \n",
       "      .. note::\n",
       "        ``cd <bookmark_name>`` is enough if there is no directory\n",
       "        ``<bookmark_name>``, but a bookmark with the name exists.\n",
       "    \n",
       "    Options:\n",
       "    \n",
       "    -q               Be quiet. Do not print the working directory after the\n",
       "                     cd command is executed. By default IPython's cd\n",
       "                     command does print this directory, since the default\n",
       "                     prompts do not display path information.\n",
       "    \n",
       "    .. note::\n",
       "       Note that ``!cd`` doesn't work for this purpose because the shell\n",
       "       where ``!command`` runs is immediately discarded after executing\n",
       "       'command'.\n",
       "    \n",
       "    Examples\n",
       "    --------\n",
       "    ::\n",
       "    \n",
       "      In [10]: cd parent/child\n",
       "      /home/tsuser/parent/child\n",
       "%clear:\n",
       "    Clear the terminal.\n",
       "%code_wrap:\n",
       "    ::\n",
       "    \n",
       "      %code_wrap [--remove] [--list] [--list-all] [name]\n",
       "    \n",
       "    Simple magic to quickly define a code transformer for all IPython's future imput.\n",
       "    \n",
       "    ``__code__`` and ``__ret__`` are special variable that represent the code to run\n",
       "    and the value of the last expression of ``__code__`` respectively.\n",
       "    \n",
       "    Examples\n",
       "    --------\n",
       "    \n",
       "    .. ipython::\n",
       "    \n",
       "        In [1]: %%code_wrap before_after\n",
       "           ...: print('before')\n",
       "           ...: __code__\n",
       "           ...: print('after')\n",
       "           ...: __ret__\n",
       "    \n",
       "        In [2]: 1\n",
       "        before\n",
       "        after\n",
       "        Out[2]: 1\n",
       "    \n",
       "        In [3]: %code_wrap --list\n",
       "        before_after\n",
       "    \n",
       "        In [4]: %code_wrap --list-all\n",
       "        before_after :\n",
       "            print('before')\n",
       "            __code__\n",
       "            print('after')\n",
       "            __ret__\n",
       "    \n",
       "        In [5]: %code_wrap --remove before_after\n",
       "    \n",
       "    positional arguments:\n",
       "      name\n",
       "    \n",
       "    options:\n",
       "      --remove    remove the current transformer\n",
       "      --list      list existing transformers name\n",
       "      --list-all  list existing transformers name and code template\n",
       "%colors:\n",
       "    Switch color scheme for prompts, info system and exception handlers.\n",
       "    \n",
       "    Currently implemented schemes: NoColor, Linux, LightBG.\n",
       "    \n",
       "    Color scheme names are not case-sensitive.\n",
       "    \n",
       "    Examples\n",
       "    --------\n",
       "    To get a plain black and white terminal::\n",
       "    \n",
       "      %colors nocolor\n",
       "%conda:\n",
       "    Run the conda package manager within the current kernel.\n",
       "    \n",
       "    Usage:\n",
       "      %conda install [pkgs]\n",
       "%config:\n",
       "    configure IPython\n",
       "    \n",
       "        %config Class[.trait=value]\n",
       "    \n",
       "    This magic exposes most of the IPython config system. Any\n",
       "    Configurable class should be able to be configured with the simple\n",
       "    line::\n",
       "    \n",
       "        %config Class.trait=value\n",
       "    \n",
       "    Where `value` will be resolved in the user's namespace, if it is an\n",
       "    expression or variable name.\n",
       "    \n",
       "    Examples\n",
       "    --------\n",
       "    \n",
       "    To see what classes are available for config, pass no arguments::\n",
       "    \n",
       "        In [1]: %config\n",
       "        Available objects for config:\n",
       "            AliasManager\n",
       "            DisplayFormatter\n",
       "            HistoryManager\n",
       "            IPCompleter\n",
       "            LoggingMagics\n",
       "            MagicsManager\n",
       "            OSMagics\n",
       "            PrefilterManager\n",
       "            ScriptMagics\n",
       "            TerminalInteractiveShell\n",
       "    \n",
       "    To view what is configurable on a given class, just pass the class\n",
       "    name::\n",
       "    \n",
       "        In [2]: %config LoggingMagics\n",
       "        LoggingMagics(Magics) options\n",
       "        ---------------------------\n",
       "        LoggingMagics.quiet=<Bool>\n",
       "            Suppress output of log state when logging is enabled\n",
       "            Current: False\n",
       "    \n",
       "    but the real use is in setting values::\n",
       "    \n",
       "        In [3]: %config LoggingMagics.quiet = True\n",
       "    \n",
       "    and these values are read from the user_ns if they are variables::\n",
       "    \n",
       "        In [4]: feeling_quiet=False\n",
       "    \n",
       "        In [5]: %config LoggingMagics.quiet = feeling_quiet\n",
       "%connect_info:\n",
       "    Print information for connecting other clients to this kernel\n",
       "    \n",
       "    It will print the contents of this session's connection file, as well as\n",
       "    shortcuts for local clients.\n",
       "    \n",
       "    In the simplest case, when called from the most recently launched kernel,\n",
       "    secondary clients can be connected, simply with:\n",
       "    \n",
       "    $> jupyter <app> --existing\n",
       "%cp:\n",
       "    Alias for `!cp`\n",
       "%debug:\n",
       "    ::\n",
       "    \n",
       "      %debug [--breakpoint FILE:LINE] [statement ...]\n",
       "    \n",
       "    Activate the interactive debugger.\n",
       "    \n",
       "    This magic command support two ways of activating debugger.\n",
       "    One is to activate debugger before executing code.  This way, you\n",
       "    can set a break point, to step through the code from the point.\n",
       "    You can use this mode by giving statements to execute and optionally\n",
       "    a breakpoint.\n",
       "    \n",
       "    The other one is to activate debugger in post-mortem mode.  You can\n",
       "    activate this mode simply running %debug without any argument.\n",
       "    If an exception has just occurred, this lets you inspect its stack\n",
       "    frames interactively.  Note that this will always work only on the last\n",
       "    traceback that occurred, so you must call this quickly after an\n",
       "    exception that you wish to inspect has fired, because if another one\n",
       "    occurs, it clobbers the previous one.\n",
       "    \n",
       "    If you want IPython to automatically do this on every exception, see\n",
       "    the %pdb magic for more details.\n",
       "    \n",
       "    .. versionchanged:: 7.3\n",
       "        When running code, user variables are no longer expanded,\n",
       "        the magic line is always left unmodified.\n",
       "    \n",
       "    positional arguments:\n",
       "      statement             Code to run in debugger. You can omit this in cell magic mode.\n",
       "    \n",
       "    options:\n",
       "      --breakpoint <FILE:LINE>, -b <FILE:LINE>\n",
       "                            Set break point at LINE in FILE.\n",
       "%dhist:\n",
       "    Print your history of visited directories.\n",
       "    \n",
       "    %dhist       -> print full history\n",
       "    %dhist n     -> print last n entries only\n",
       "    %dhist n1 n2 -> print entries between n1 and n2 (n2 not included)\n",
       "    \n",
       "    This history is automatically maintained by the %cd command, and\n",
       "    always available as the global list variable _dh. You can use %cd -<n>\n",
       "    to go to directory number <n>.\n",
       "    \n",
       "    Note that most of time, you should view directory history by entering\n",
       "    cd -<TAB>.\n",
       "%dirs:\n",
       "    Return the current directory stack.\n",
       "%doctest_mode:\n",
       "    Toggle doctest mode on and off.\n",
       "    \n",
       "    This mode is intended to make IPython behave as much as possible like a\n",
       "    plain Python shell, from the perspective of how its prompts, exceptions\n",
       "    and output look.  This makes it easy to copy and paste parts of a\n",
       "    session into doctests.  It does so by:\n",
       "    \n",
       "    - Changing the prompts to the classic ``>>>`` ones.\n",
       "    - Changing the exception reporting mode to 'Plain'.\n",
       "    - Disabling pretty-printing of output.\n",
       "    \n",
       "    Note that IPython also supports the pasting of code snippets that have\n",
       "    leading '>>>' and '...' prompts in them.  This means that you can paste\n",
       "    doctests from files or docstrings (even if they have leading\n",
       "    whitespace), and the code will execute correctly.  You can then use\n",
       "    '%history -t' to see the translated history; this will give you the\n",
       "    input after removal of all the leading prompts and whitespace, which\n",
       "    can be pasted back into an editor.\n",
       "    \n",
       "    With these features, you can switch into this mode easily whenever you\n",
       "    need to do testing and changes to doctests, without having to leave\n",
       "    your existing IPython session.\n",
       "%ed:\n",
       "    Alias for `%edit`.\n",
       "%edit:\n",
       "    Bring up an editor and execute the resulting code.\n",
       "    \n",
       "    Usage:\n",
       "      %edit [options] [args]\n",
       "    \n",
       "    %edit runs an external text editor. You will need to set the command for\n",
       "    this editor via the ``TerminalInteractiveShell.editor`` option in your\n",
       "    configuration file before it will work.\n",
       "    \n",
       "    This command allows you to conveniently edit multi-line code right in\n",
       "    your IPython session.\n",
       "    \n",
       "    If called without arguments, %edit opens up an empty editor with a\n",
       "    temporary file and will execute the contents of this file when you\n",
       "    close it (don't forget to save it!).\n",
       "    \n",
       "    Options:\n",
       "    \n",
       "    -n <number>\n",
       "      Open the editor at a specified line number. By default, the IPython\n",
       "      editor hook uses the unix syntax 'editor +N filename', but you can\n",
       "      configure this by providing your own modified hook if your favorite\n",
       "      editor supports line-number specifications with a different syntax.\n",
       "    \n",
       "    -p\n",
       "      Call the editor with the same data as the previous time it was used,\n",
       "      regardless of how long ago (in your current session) it was.\n",
       "    \n",
       "    -r\n",
       "      Use 'raw' input. This option only applies to input taken from the\n",
       "      user's history.  By default, the 'processed' history is used, so that\n",
       "      magics are loaded in their transformed version to valid Python.  If\n",
       "      this option is given, the raw input as typed as the command line is\n",
       "      used instead.  When you exit the editor, it will be executed by\n",
       "      IPython's own processor.\n",
       "    \n",
       "    Arguments:\n",
       "    \n",
       "    If arguments are given, the following possibilities exist:\n",
       "    \n",
       "    - The arguments are numbers or pairs of colon-separated numbers (like\n",
       "      1 4:8 9). These are interpreted as lines of previous input to be\n",
       "      loaded into the editor. The syntax is the same of the %macro command.\n",
       "    \n",
       "    - If the argument doesn't start with a number, it is evaluated as a\n",
       "      variable and its contents loaded into the editor. You can thus edit\n",
       "      any string which contains python code (including the result of\n",
       "      previous edits).\n",
       "    \n",
       "    - If the argument is the name of an object (other than a string),\n",
       "      IPython will try to locate the file where it was defined and open the\n",
       "      editor at the point where it is defined. You can use ``%edit function``\n",
       "      to load an editor exactly at the point where 'function' is defined,\n",
       "      edit it and have the file be executed automatically.\n",
       "    \n",
       "      If the object is a macro (see %macro for details), this opens up your\n",
       "      specified editor with a temporary file containing the macro's data.\n",
       "      Upon exit, the macro is reloaded with the contents of the file.\n",
       "    \n",
       "      Note: opening at an exact line is only supported under Unix, and some\n",
       "      editors (like kedit and gedit up to Gnome 2.8) do not understand the\n",
       "      '+NUMBER' parameter necessary for this feature. Good editors like\n",
       "      (X)Emacs, vi, jed, pico and joe all do.\n",
       "    \n",
       "    - If the argument is not found as a variable, IPython will look for a\n",
       "      file with that name (adding .py if necessary) and load it into the\n",
       "      editor. It will execute its contents with execfile() when you exit,\n",
       "      loading any code in the file into your interactive namespace.\n",
       "    \n",
       "    Unlike in the terminal, this is designed to use a GUI editor, and we do\n",
       "    not know when it has closed. So the file you edit will not be\n",
       "    automatically executed or printed.\n",
       "    \n",
       "    Note that %edit is also available through the alias %ed.\n",
       "%env:\n",
       "    Get, set, or list environment variables.\n",
       "    \n",
       "    Usage:\n",
       "    \n",
       "      :``%env``: lists all environment variables/values\n",
       "      :``%env var``: get value for var\n",
       "      :``%env var val``: set value for var\n",
       "      :``%env var=val``: set value for var\n",
       "      :``%env var=$val``: set value for var, using python expansion if possible\n",
       "%gui:\n",
       "    Enable or disable IPython GUI event loop integration.\n",
       "    \n",
       "    %gui [GUINAME]\n",
       "    \n",
       "    This magic replaces IPython's threaded shells that were activated\n",
       "    using the (pylab/wthread/etc.) command line flags.  GUI toolkits\n",
       "    can now be enabled at runtime and keyboard\n",
       "    interrupts should work without any problems.  The following toolkits\n",
       "    are supported:  wxPython, PyQt4, PyGTK, Tk and Cocoa (OSX)::\n",
       "    \n",
       "        %gui wx      # enable wxPython event loop integration\n",
       "        %gui qt      # enable PyQt/PySide event loop integration\n",
       "                     # with the latest version available.\n",
       "        %gui qt6     # enable PyQt6/PySide6 event loop integration\n",
       "        %gui qt5     # enable PyQt5/PySide2 event loop integration\n",
       "        %gui gtk     # enable PyGTK event loop integration\n",
       "        %gui gtk3    # enable Gtk3 event loop integration\n",
       "        %gui gtk4    # enable Gtk4 event loop integration\n",
       "        %gui tk      # enable Tk event loop integration\n",
       "        %gui osx     # enable Cocoa event loop integration\n",
       "                     # (requires %matplotlib 1.1)\n",
       "        %gui         # disable all event loop integration\n",
       "    \n",
       "    WARNING:  after any of these has been called you can simply create\n",
       "    an application object, but DO NOT start the event loop yourself, as\n",
       "    we have already handled that.\n",
       "%hist:\n",
       "    Alias for `%history`.\n",
       "%history:\n",
       "    ::\n",
       "    \n",
       "      %history [-n] [-o] [-p] [-t] [-f FILENAME] [-g [PATTERN ...]] [-l [LIMIT]] [-u] [range ...]\n",
       "    \n",
       "    Print input history (_i<n> variables), with most recent last.\n",
       "    \n",
       "    By default, input history is printed without line numbers so it can be\n",
       "    directly pasted into an editor. Use -n to show them.\n",
       "    \n",
       "    By default, all input history from the current session is displayed.\n",
       "    Ranges of history can be indicated using the syntax:\n",
       "    \n",
       "    ``4``\n",
       "        Line 4, current session\n",
       "    ``4-6``\n",
       "        Lines 4-6, current session\n",
       "    ``243/1-5``\n",
       "        Lines 1-5, session 243\n",
       "    ``~2/7``\n",
       "        Line 7, session 2 before current\n",
       "    ``~8/1-~6/5``\n",
       "        From the first line of 8 sessions ago, to the fifth line of 6\n",
       "        sessions ago.\n",
       "    \n",
       "    Multiple ranges can be entered, separated by spaces\n",
       "    \n",
       "    The same syntax is used by %macro, %save, %edit, %rerun\n",
       "    \n",
       "    Examples\n",
       "    --------\n",
       "    ::\n",
       "    \n",
       "      In [6]: %history -n 4-6\n",
       "      4:a = 12\n",
       "      5:print a**2\n",
       "      6:%history -n 4-6\n",
       "    \n",
       "    positional arguments:\n",
       "      range\n",
       "    \n",
       "    options:\n",
       "      -n                  print line numbers for each input. This feature is only available if numbered prompts are in use.\n",
       "      -o                  also print outputs for each input.\n",
       "      -p                  print classic '>>>' python prompts before each input. This is useful for making documentation, and in conjunction with -o, for producing doctest-\n",
       "                          ready output.\n",
       "      -t                  print the 'translated' history, as IPython understands it. IPython filters your input and converts it all into valid Python source before executing\n",
       "                          it (things like magics or aliases are turned into function calls, for example). With this option, you'll see the native history instead of the user-\n",
       "                          entered version: '%cd /' will be seen as 'get_ipython().run_line_magic(\"cd\", \"/\")' instead of '%cd /'.\n",
       "      -f FILENAME         FILENAME: instead of printing the output to the screen, redirect it to the given file. The file is always overwritten, though *when it can*, IPython\n",
       "                          asks for confirmation first. In particular, running the command 'history -f FILENAME' from the IPython Notebook interface will replace FILENAME even\n",
       "                          if it already exists *without* confirmation.\n",
       "      -g <[PATTERN ...]>  treat the arg as a glob pattern to search for in (full) history. This includes the saved history (almost all commands ever written). The pattern may\n",
       "                          contain '?' to match one unknown character and '*' to match any number of unknown characters. Use '%hist -g' to show full saved history (may be very\n",
       "                          long).\n",
       "      -l <[LIMIT]>        get the last n lines from all sessions. Specify n as a single arg, or the default is the last 10 lines.\n",
       "      -u                  when searching history using `-g`, show only unique history.\n",
       "%killbgscripts:\n",
       "    Kill all BG processes started by %%script and its family.\n",
       "%ldir:\n",
       "    Alias for `!ls -F -o --color %l | grep /$`\n",
       "%less:\n",
       "    Show a file through the pager.\n",
       "    \n",
       "    Files ending in .py are syntax-highlighted.\n",
       "%lf:\n",
       "    Alias for `!ls -F -o --color %l | grep ^-`\n",
       "%lk:\n",
       "    Alias for `!ls -F -o --color %l | grep ^l`\n",
       "%ll:\n",
       "    Alias for `!ls -F -o --color`\n",
       "%load:\n",
       "    Load code into the current frontend.\n",
       "    \n",
       "    Usage:\n",
       "      %load [options] source\n",
       "    \n",
       "      where source can be a filename, URL, input history range, macro, or\n",
       "      element in the user namespace\n",
       "    \n",
       "    If no arguments are given, loads the history of this session up to this\n",
       "    point.\n",
       "    \n",
       "    Options:\n",
       "    \n",
       "      -r <lines>: Specify lines or ranges of lines to load from the source.\n",
       "      Ranges could be specified as x-y (x..y) or in python-style x:y \n",
       "      (x..(y-1)). Both limits x and y can be left blank (meaning the \n",
       "      beginning and end of the file, respectively).\n",
       "    \n",
       "      -s <symbols>: Specify function or classes to load from python source. \n",
       "    \n",
       "      -y : Don't ask confirmation for loading source above 200 000 characters.\n",
       "    \n",
       "      -n : Include the user's namespace when searching for source code.\n",
       "    \n",
       "    This magic command can either take a local filename, a URL, an history\n",
       "    range (see %history) or a macro as argument, it will prompt for\n",
       "    confirmation before loading source with more than 200 000 characters, unless\n",
       "    -y flag is passed or if the frontend does not support raw_input::\n",
       "    \n",
       "    %load\n",
       "    %load myscript.py\n",
       "    %load 7-27\n",
       "    %load myMacro\n",
       "    %load http://www.example.com/myscript.py\n",
       "    %load -r 5-10 myscript.py\n",
       "    %load -r 10-20,30,40: foo.py\n",
       "    %load -s MyClass,wonder_function myscript.py\n",
       "    %load -n MyClass\n",
       "    %load -n my_module.wonder_function\n",
       "%load_ext:\n",
       "    Load an IPython extension by its module name.\n",
       "%loadpy:\n",
       "    Alias of `%load`\n",
       "    \n",
       "    `%loadpy` has gained some flexibility and dropped the requirement of a `.py`\n",
       "    extension. So it has been renamed simply into %load. You can look at\n",
       "    `%load`'s docstring for more info.\n",
       "%logoff:\n",
       "    Temporarily stop logging.\n",
       "    \n",
       "    You must have previously started logging.\n",
       "%logon:\n",
       "    Restart logging.\n",
       "    \n",
       "    This function is for restarting logging which you've temporarily\n",
       "    stopped with %logoff. For starting logging for the first time, you\n",
       "    must use the %logstart function, which allows you to specify an\n",
       "    optional log filename.\n",
       "%logstart:\n",
       "    Start logging anywhere in a session.\n",
       "    \n",
       "    %logstart [-o|-r|-t|-q] [log_name [log_mode]]\n",
       "    \n",
       "    If no name is given, it defaults to a file named 'ipython_log.py' in your\n",
       "    current directory, in 'rotate' mode (see below).\n",
       "    \n",
       "    '%logstart name' saves to file 'name' in 'backup' mode.  It saves your\n",
       "    history up to that point and then continues logging.\n",
       "    \n",
       "    %logstart takes a second optional parameter: logging mode. This can be one\n",
       "    of (note that the modes are given unquoted):\n",
       "    \n",
       "    append\n",
       "        Keep logging at the end of any existing file.\n",
       "    \n",
       "    backup\n",
       "        Rename any existing file to name~ and start name.\n",
       "    \n",
       "    global\n",
       "        Append to  a single logfile in your home directory.\n",
       "    \n",
       "    over\n",
       "        Overwrite any existing log.\n",
       "    \n",
       "    rotate\n",
       "        Create rotating logs: name.1~, name.2~, etc.\n",
       "    \n",
       "    Options:\n",
       "    \n",
       "      -o\n",
       "        log also IPython's output. In this mode, all commands which\n",
       "        generate an Out[NN] prompt are recorded to the logfile, right after\n",
       "        their corresponding input line. The output lines are always\n",
       "        prepended with a '#[Out]# ' marker, so that the log remains valid\n",
       "        Python code.\n",
       "    \n",
       "      Since this marker is always the same, filtering only the output from\n",
       "      a log is very easy, using for example a simple awk call::\n",
       "    \n",
       "        awk -F'#\\[Out\\]# ' '{if($2) {print $2}}' ipython_log.py\n",
       "    \n",
       "      -r\n",
       "        log 'raw' input.  Normally, IPython's logs contain the processed\n",
       "        input, so that user lines are logged in their final form, converted\n",
       "        into valid Python.  For example, %Exit is logged as\n",
       "        _ip.magic(\"Exit\").  If the -r flag is given, all input is logged\n",
       "        exactly as typed, with no transformations applied.\n",
       "    \n",
       "      -t\n",
       "        put timestamps before each input line logged (these are put in\n",
       "        comments).\n",
       "    \n",
       "      -q \n",
       "        suppress output of logstate message when logging is invoked\n",
       "%logstate:\n",
       "    Print the status of the logging system.\n",
       "%logstop:\n",
       "    Fully stop logging and close log file.\n",
       "    \n",
       "    In order to start logging again, a new %logstart call needs to be made,\n",
       "    possibly (though not necessarily) with a new filename, mode and other\n",
       "    options.\n",
       "%ls:\n",
       "    Alias for `!ls -F --color`\n",
       "%lsmagic:\n",
       "    List currently available magic functions.\n",
       "%lx:\n",
       "    Alias for `!ls -F -o --color %l | grep ^-..x`\n",
       "%macro:\n",
       "    Define a macro for future re-execution. It accepts ranges of history,\n",
       "    filenames or string objects.\n",
       "    \n",
       "    Usage:\n",
       "      %macro [options] name n1-n2 n3-n4 ... n5 .. n6 ...\n",
       "    \n",
       "    Options:\n",
       "    \n",
       "      -r: use 'raw' input.  By default, the 'processed' history is used,\n",
       "      so that magics are loaded in their transformed version to valid\n",
       "      Python.  If this option is given, the raw input as typed at the\n",
       "      command line is used instead.\n",
       "    \n",
       "      -q: quiet macro definition.  By default, a tag line is printed \n",
       "      to indicate the macro has been created, and then the contents of \n",
       "      the macro are printed.  If this option is given, then no printout\n",
       "      is produced once the macro is created.\n",
       "    \n",
       "    This will define a global variable called `name` which is a string\n",
       "    made of joining the slices and lines you specify (n1,n2,... numbers\n",
       "    above) from your input history into a single string. This variable\n",
       "    acts like an automatic function which re-executes those lines as if\n",
       "    you had typed them. You just type 'name' at the prompt and the code\n",
       "    executes.\n",
       "    \n",
       "    The syntax for indicating input ranges is described in %history.\n",
       "    \n",
       "    Note: as a 'hidden' feature, you can also use traditional python slice\n",
       "    notation, where N:M means numbers N through M-1.\n",
       "    \n",
       "    For example, if your history contains (print using %hist -n )::\n",
       "    \n",
       "      44: x=1\n",
       "      45: y=3\n",
       "      46: z=x+y\n",
       "      47: print x\n",
       "      48: a=5\n",
       "      49: print 'x',x,'y',y\n",
       "    \n",
       "    you can create a macro with lines 44 through 47 (included) and line 49\n",
       "    called my_macro with::\n",
       "    \n",
       "      In [55]: %macro my_macro 44-47 49\n",
       "    \n",
       "    Now, typing `my_macro` (without quotes) will re-execute all this code\n",
       "    in one pass.\n",
       "    \n",
       "    You don't need to give the line-numbers in order, and any given line\n",
       "    number can appear multiple times. You can assemble macros with any\n",
       "    lines from your input history in any order.\n",
       "    \n",
       "    The macro is a simple object which holds its value in an attribute,\n",
       "    but IPython's display system checks for macros and executes them as\n",
       "    code instead of printing them when you type their name.\n",
       "    \n",
       "    You can view a macro's contents by explicitly printing it with::\n",
       "    \n",
       "      print macro_name\n",
       "%magic:\n",
       "    Print information about the magic function system.\n",
       "    \n",
       "    Supported formats: -latex, -brief, -rest\n",
       "%mamba:\n",
       "    Run the mamba package manager within the current kernel.\n",
       "    \n",
       "    Usage:\n",
       "      %mamba install [pkgs]\n",
       "%man:\n",
       "    Find the man page for the given command and display in pager.\n",
       "%matplotlib:\n",
       "    ::\n",
       "    \n",
       "      %matplotlib [-l] [gui]\n",
       "    \n",
       "    Set up matplotlib to work interactively.\n",
       "    \n",
       "    This function lets you activate matplotlib interactive support\n",
       "    at any point during an IPython session. It does not import anything\n",
       "    into the interactive namespace.\n",
       "    \n",
       "    If you are using the inline matplotlib backend in the IPython Notebook\n",
       "    you can set which figure formats are enabled using the following::\n",
       "    \n",
       "        In [1]: from matplotlib_inline.backend_inline import set_matplotlib_formats\n",
       "    \n",
       "        In [2]: set_matplotlib_formats('pdf', 'svg')\n",
       "    \n",
       "    The default for inline figures sets `bbox_inches` to 'tight'. This can\n",
       "    cause discrepancies between the displayed image and the identical\n",
       "    image created using `savefig`. This behavior can be disabled using the\n",
       "    `%config` magic::\n",
       "    \n",
       "        In [3]: %config InlineBackend.print_figure_kwargs = {'bbox_inches':None}\n",
       "    \n",
       "    In addition, see the docstrings of\n",
       "    `matplotlib_inline.backend_inline.set_matplotlib_formats` and\n",
       "    `matplotlib_inline.backend_inline.set_matplotlib_close` for more information on\n",
       "    changing additional behaviors of the inline backend.\n",
       "    \n",
       "    Examples\n",
       "    --------\n",
       "    To enable the inline backend for usage with the IPython Notebook::\n",
       "    \n",
       "        In [1]: %matplotlib inline\n",
       "    \n",
       "    In this case, where the matplotlib default is TkAgg::\n",
       "    \n",
       "        In [2]: %matplotlib\n",
       "        Using matplotlib backend: TkAgg\n",
       "    \n",
       "    But you can explicitly request a different GUI backend::\n",
       "    \n",
       "        In [3]: %matplotlib qt\n",
       "    \n",
       "    You can list the available backends using the -l/--list option::\n",
       "    \n",
       "       In [4]: %matplotlib --list\n",
       "       Available matplotlib backends: ['osx', 'qt4', 'qt5', 'gtk3', 'gtk4', 'notebook', 'wx', 'qt', 'nbagg',\n",
       "       'gtk', 'tk', 'inline']\n",
       "    \n",
       "    positional arguments:\n",
       "      gui         Name of the matplotlib backend to use ('agg', 'gtk', 'gtk3', 'gtk4', 'inline', 'ipympl', 'nbagg', 'notebook', 'osx', 'pdf', 'ps', 'qt', 'qt4', 'qt5', 'qt6',\n",
       "                  'svg', 'tk', 'webagg', 'widget', 'wx'). If given, the corresponding matplotlib backend is used, otherwise it will be matplotlib's default (which you can set\n",
       "                  in your matplotlib config file).\n",
       "    \n",
       "    options:\n",
       "      -l, --list  Show available matplotlib backends\n",
       "%micromamba:\n",
       "    Run the conda package manager within the current kernel.\n",
       "    \n",
       "    Usage:\n",
       "      %micromamba install [pkgs]\n",
       "%mkdir:\n",
       "    Alias for `!mkdir`\n",
       "%more:\n",
       "    Show a file through the pager.\n",
       "    \n",
       "    Files ending in .py are syntax-highlighted.\n",
       "%mv:\n",
       "    Alias for `!mv`\n",
       "%notebook:\n",
       "    ::\n",
       "    \n",
       "      %notebook filename\n",
       "    \n",
       "    Export and convert IPython notebooks.\n",
       "    \n",
       "    This function can export the current IPython history to a notebook file.\n",
       "    For example, to export the history to \"foo.ipynb\" do \"%notebook foo.ipynb\".\n",
       "    \n",
       "    positional arguments:\n",
       "      filename  Notebook name or filename\n",
       "%page:\n",
       "    Pretty print the object and display it through a pager.\n",
       "    \n",
       "    %page [options] OBJECT\n",
       "    \n",
       "    If no object is given, use _ (last output).\n",
       "    \n",
       "    Options:\n",
       "    \n",
       "      -r: page str(object), don't pretty-print it.\n",
       "%pastebin:\n",
       "    Upload code to dpaste.com, returning the URL.\n",
       "    \n",
       "    Usage:\n",
       "      %pastebin [-d \"Custom description\"][-e 24] 1-7\n",
       "    \n",
       "    The argument can be an input history range, a filename, or the name of a\n",
       "    string or macro.\n",
       "    \n",
       "    If no arguments are given, uploads the history of this session up to\n",
       "    this point.\n",
       "    \n",
       "    Options:\n",
       "    \n",
       "      -d: Pass a custom description. The default will say\n",
       "          \"Pasted from IPython\".\n",
       "      -e: Pass number of days for the link to be expired.\n",
       "          The default will be 7 days.\n",
       "%pdb:\n",
       "    Control the automatic calling of the pdb interactive debugger.\n",
       "    \n",
       "    Call as '%pdb on', '%pdb 1', '%pdb off' or '%pdb 0'. If called without\n",
       "    argument it works as a toggle.\n",
       "    \n",
       "    When an exception is triggered, IPython can optionally call the\n",
       "    interactive pdb debugger after the traceback printout. %pdb toggles\n",
       "    this feature on and off.\n",
       "    \n",
       "    The initial state of this feature is set in your configuration\n",
       "    file (the option is ``InteractiveShell.pdb``).\n",
       "    \n",
       "    If you want to just activate the debugger AFTER an exception has fired,\n",
       "    without having to type '%pdb on' and rerunning your code, you can use\n",
       "    the %debug magic.\n",
       "%pdef:\n",
       "    Print the call signature for any callable object.\n",
       "    \n",
       "    If the object is a class, print the constructor information.\n",
       "    \n",
       "    Examples\n",
       "    --------\n",
       "    ::\n",
       "    \n",
       "      In [3]: %pdef urllib.urlopen\n",
       "      urllib.urlopen(url, data=None, proxies=None)\n",
       "%pdoc:\n",
       "    Print the docstring for an object.\n",
       "    \n",
       "    If the given object is a class, it will print both the class and the\n",
       "    constructor docstrings.\n",
       "%pfile:\n",
       "    Print (or run through pager) the file where an object is defined.\n",
       "    \n",
       "    The file opens at the line where the object definition begins. IPython\n",
       "    will honor the environment variable PAGER if set, and otherwise will\n",
       "    do its best to print the file in a convenient form.\n",
       "    \n",
       "    If the given argument is not an object currently defined, IPython will\n",
       "    try to interpret it as a filename (automatically adding a .py extension\n",
       "    if needed). You can thus use %pfile as a syntax highlighting code\n",
       "    viewer.\n",
       "%pinfo:\n",
       "    Provide detailed information about an object.\n",
       "    \n",
       "    '%pinfo object' is just a synonym for object? or ?object.\n",
       "%pinfo2:\n",
       "    Provide extra detailed information about an object.\n",
       "    \n",
       "    '%pinfo2 object' is just a synonym for object?? or ??object.\n",
       "%pip:\n",
       "    Run the pip package manager within the current kernel.\n",
       "    \n",
       "    Usage:\n",
       "      %pip install [pkgs]\n",
       "%popd:\n",
       "    Change to directory popped off the top of the stack.\n",
       "%pprint:\n",
       "    Toggle pretty printing on/off.\n",
       "%precision:\n",
       "    Set floating point precision for pretty printing.\n",
       "    \n",
       "    Can set either integer precision or a format string.\n",
       "    \n",
       "    If numpy has been imported and precision is an int,\n",
       "    numpy display precision will also be set, via ``numpy.set_printoptions``.\n",
       "    \n",
       "    If no argument is given, defaults will be restored.\n",
       "    \n",
       "    Examples\n",
       "    --------\n",
       "    ::\n",
       "    \n",
       "        In [1]: from math import pi\n",
       "    \n",
       "        In [2]: %precision 3\n",
       "        Out[2]: '%.3f'\n",
       "    \n",
       "        In [3]: pi\n",
       "        Out[3]: 3.142\n",
       "    \n",
       "        In [4]: %precision %i\n",
       "        Out[4]: '%i'\n",
       "    \n",
       "        In [5]: pi\n",
       "        Out[5]: 3\n",
       "    \n",
       "        In [6]: %precision %e\n",
       "        Out[6]: '%e'\n",
       "    \n",
       "        In [7]: pi**10\n",
       "        Out[7]: 9.364805e+04\n",
       "    \n",
       "        In [8]: %precision\n",
       "        Out[8]: '%r'\n",
       "    \n",
       "        In [9]: pi**10\n",
       "        Out[9]: 93648.047476082982\n",
       "%prun:\n",
       "    Run a statement through the python code profiler.\n",
       "    \n",
       "    Usage, in line mode:\n",
       "      %prun [options] statement\n",
       "    \n",
       "    Usage, in cell mode:\n",
       "      %%prun [options] [statement]\n",
       "      code...\n",
       "      code...\n",
       "    \n",
       "    In cell mode, the additional code lines are appended to the (possibly\n",
       "    empty) statement in the first line.  Cell mode allows you to easily\n",
       "    profile multiline blocks without having to put them in a separate\n",
       "    function.\n",
       "    \n",
       "    The given statement (which doesn't require quote marks) is run via the\n",
       "    python profiler in a manner similar to the profile.run() function.\n",
       "    Namespaces are internally managed to work correctly; profile.run\n",
       "    cannot be used in IPython because it makes certain assumptions about\n",
       "    namespaces which do not hold under IPython.\n",
       "    \n",
       "    Options:\n",
       "    \n",
       "    -l <limit>\n",
       "      you can place restrictions on what or how much of the\n",
       "      profile gets printed. The limit value can be:\n",
       "    \n",
       "         * A string: only information for function names containing this string\n",
       "           is printed.\n",
       "    \n",
       "         * An integer: only these many lines are printed.\n",
       "    \n",
       "         * A float (between 0 and 1): this fraction of the report is printed\n",
       "           (for example, use a limit of 0.4 to see the topmost 40% only).\n",
       "    \n",
       "      You can combine several limits with repeated use of the option. For\n",
       "      example, ``-l __init__ -l 5`` will print only the topmost 5 lines of\n",
       "      information about class constructors.\n",
       "    \n",
       "    -r\n",
       "      return the pstats.Stats object generated by the profiling. This\n",
       "      object has all the information about the profile in it, and you can\n",
       "      later use it for further analysis or in other functions.\n",
       "    \n",
       "    -s <key>\n",
       "      sort profile by given key. You can provide more than one key\n",
       "      by using the option several times: '-s key1 -s key2 -s key3...'. The\n",
       "      default sorting key is 'time'.\n",
       "    \n",
       "      The following is copied verbatim from the profile documentation\n",
       "      referenced below:\n",
       "    \n",
       "      When more than one key is provided, additional keys are used as\n",
       "      secondary criteria when the there is equality in all keys selected\n",
       "      before them.\n",
       "    \n",
       "      Abbreviations can be used for any key names, as long as the\n",
       "      abbreviation is unambiguous.  The following are the keys currently\n",
       "      defined:\n",
       "    \n",
       "      ============  =====================\n",
       "      Valid Arg     Meaning\n",
       "      ============  =====================\n",
       "      \"calls\"       call count\n",
       "      \"cumulative\"  cumulative time\n",
       "      \"file\"        file name\n",
       "      \"module\"      file name\n",
       "      \"pcalls\"      primitive call count\n",
       "      \"line\"        line number\n",
       "      \"name\"        function name\n",
       "      \"nfl\"         name/file/line\n",
       "      \"stdname\"     standard name\n",
       "      \"time\"        internal time\n",
       "      ============  =====================\n",
       "    \n",
       "      Note that all sorts on statistics are in descending order (placing\n",
       "      most time consuming items first), where as name, file, and line number\n",
       "      searches are in ascending order (i.e., alphabetical). The subtle\n",
       "      distinction between \"nfl\" and \"stdname\" is that the standard name is a\n",
       "      sort of the name as printed, which means that the embedded line\n",
       "      numbers get compared in an odd way.  For example, lines 3, 20, and 40\n",
       "      would (if the file names were the same) appear in the string order\n",
       "      \"20\" \"3\" and \"40\".  In contrast, \"nfl\" does a numeric compare of the\n",
       "      line numbers.  In fact, sort_stats(\"nfl\") is the same as\n",
       "      sort_stats(\"name\", \"file\", \"line\").\n",
       "    \n",
       "    -T <filename>\n",
       "      save profile results as shown on screen to a text\n",
       "      file. The profile is still shown on screen.\n",
       "    \n",
       "    -D <filename>\n",
       "      save (via dump_stats) profile statistics to given\n",
       "      filename. This data is in a format understood by the pstats module, and\n",
       "      is generated by a call to the dump_stats() method of profile\n",
       "      objects. The profile is still shown on screen.\n",
       "    \n",
       "    -q\n",
       "      suppress output to the pager.  Best used with -T and/or -D above.\n",
       "    \n",
       "    If you want to run complete programs under the profiler's control, use\n",
       "    ``%run -p [prof_opts] filename.py [args to program]`` where prof_opts\n",
       "    contains profiler specific options as described here.\n",
       "    \n",
       "    You can read the complete documentation for the profile module with::\n",
       "    \n",
       "      In [1]: import profile; profile.help()\n",
       "    \n",
       "    .. versionchanged:: 7.3\n",
       "        User variables are no longer expanded,\n",
       "        the magic line is always left unmodified.\n",
       "%psearch:\n",
       "    Search for object in namespaces by wildcard.\n",
       "    \n",
       "    %psearch [options] PATTERN [OBJECT TYPE]\n",
       "    \n",
       "    Note: ? can be used as a synonym for %psearch, at the beginning or at\n",
       "    the end: both a*? and ?a* are equivalent to '%psearch a*'.  Still, the\n",
       "    rest of the command line must be unchanged (options come first), so\n",
       "    for example the following forms are equivalent\n",
       "    \n",
       "    %psearch -i a* function\n",
       "    -i a* function?\n",
       "    ?-i a* function\n",
       "    \n",
       "    Arguments:\n",
       "    \n",
       "      PATTERN\n",
       "    \n",
       "      where PATTERN is a string containing * as a wildcard similar to its\n",
       "      use in a shell.  The pattern is matched in all namespaces on the\n",
       "      search path. By default objects starting with a single _ are not\n",
       "      matched, many IPython generated objects have a single\n",
       "      underscore. The default is case insensitive matching. Matching is\n",
       "      also done on the attributes of objects and not only on the objects\n",
       "      in a module.\n",
       "    \n",
       "      [OBJECT TYPE]\n",
       "    \n",
       "      Is the name of a python type from the types module. The name is\n",
       "      given in lowercase without the ending type, ex. StringType is\n",
       "      written string. By adding a type here only objects matching the\n",
       "      given type are matched. Using all here makes the pattern match all\n",
       "      types (this is the default).\n",
       "    \n",
       "    Options:\n",
       "    \n",
       "      -a: makes the pattern match even objects whose names start with a\n",
       "      single underscore.  These names are normally omitted from the\n",
       "      search.\n",
       "    \n",
       "      -i/-c: make the pattern case insensitive/sensitive.  If neither of\n",
       "      these options are given, the default is read from your configuration\n",
       "      file, with the option ``InteractiveShell.wildcards_case_sensitive``.\n",
       "      If this option is not specified in your configuration file, IPython's\n",
       "      internal default is to do a case sensitive search.\n",
       "    \n",
       "      -e/-s NAMESPACE: exclude/search a given namespace.  The pattern you\n",
       "      specify can be searched in any of the following namespaces:\n",
       "      'builtin', 'user', 'user_global','internal', 'alias', where\n",
       "      'builtin' and 'user' are the search defaults.  Note that you should\n",
       "      not use quotes when specifying namespaces.\n",
       "    \n",
       "      -l: List all available object types for object matching. This function\n",
       "      can be used without arguments.\n",
       "    \n",
       "      'Builtin' contains the python module builtin, 'user' contains all\n",
       "      user data, 'alias' only contain the shell aliases and no python\n",
       "      objects, 'internal' contains objects used by IPython.  The\n",
       "      'user_global' namespace is only used by embedded IPython instances,\n",
       "      and it contains module-level globals.  You can add namespaces to the\n",
       "      search with -s or exclude them with -e (these options can be given\n",
       "      more than once).\n",
       "    \n",
       "    Examples\n",
       "    --------\n",
       "    ::\n",
       "    \n",
       "      %psearch a*            -> objects beginning with an a\n",
       "      %psearch -e builtin a* -> objects NOT in the builtin space starting in a\n",
       "      %psearch a* function   -> all functions beginning with an a\n",
       "      %psearch re.e*         -> objects beginning with an e in module re\n",
       "      %psearch r*.e*         -> objects that start with e in modules starting in r\n",
       "      %psearch r*.* string   -> all strings in modules beginning with r\n",
       "    \n",
       "    Case sensitive search::\n",
       "    \n",
       "      %psearch -c a*         list all object beginning with lower case a\n",
       "    \n",
       "    Show objects beginning with a single _::\n",
       "    \n",
       "      %psearch -a _*         list objects beginning with a single underscore\n",
       "    \n",
       "    List available objects::\n",
       "    \n",
       "      %psearch -l            list all available object types\n",
       "%psource:\n",
       "    Print (or run through pager) the source code for an object.\n",
       "%pushd:\n",
       "    Place the current dir on stack and change directory.\n",
       "    \n",
       "    Usage:\n",
       "      %pushd ['dirname']\n",
       "%pwd:\n",
       "    Return the current working directory path.\n",
       "    \n",
       "    Examples\n",
       "    --------\n",
       "    ::\n",
       "    \n",
       "      In [9]: pwd\n",
       "      Out[9]: '/home/tsuser/sprint/ipython'\n",
       "%pycat:\n",
       "    Show a syntax-highlighted file through a pager.\n",
       "    \n",
       "    This magic is similar to the cat utility, but it will assume the file\n",
       "    to be Python source and will show it with syntax highlighting.\n",
       "    \n",
       "    This magic command can either take a local filename, an url,\n",
       "    an history range (see %history) or a macro as argument.\n",
       "    \n",
       "    If no parameter is given, prints out history of current session up to\n",
       "    this point. ::\n",
       "    \n",
       "    %pycat myscript.py\n",
       "    %pycat 7-27\n",
       "    %pycat myMacro\n",
       "    %pycat http://www.example.com/myscript.py\n",
       "%pylab:\n",
       "    ::\n",
       "    \n",
       "      %pylab [--no-import-all] [gui]\n",
       "    \n",
       "    Load numpy and matplotlib to work interactively.\n",
       "    \n",
       "    This function lets you activate pylab (matplotlib, numpy and\n",
       "    interactive support) at any point during an IPython session.\n",
       "    \n",
       "    %pylab makes the following imports::\n",
       "    \n",
       "        import numpy\n",
       "        import matplotlib\n",
       "        from matplotlib import pylab, mlab, pyplot\n",
       "        np = numpy\n",
       "        plt = pyplot\n",
       "    \n",
       "        from IPython.display import display\n",
       "        from IPython.core.pylabtools import figsize, getfigs\n",
       "    \n",
       "        from pylab import *\n",
       "        from numpy import *\n",
       "    \n",
       "    If you pass `--no-import-all`, the last two `*` imports will be excluded.\n",
       "    \n",
       "    See the %matplotlib magic for more details about activating matplotlib\n",
       "    without affecting the interactive namespace.\n",
       "    \n",
       "    positional arguments:\n",
       "      gui              Name of the matplotlib backend to use ('agg', 'gtk', 'gtk3', 'gtk4', 'inline', 'ipympl', 'nbagg', 'notebook', 'osx', 'pdf', 'ps', 'qt', 'qt4', 'qt5',\n",
       "                       'qt6', 'svg', 'tk', 'webagg', 'widget', 'wx'). If given, the corresponding matplotlib backend is used, otherwise it will be matplotlib's default (which\n",
       "                       you can set in your matplotlib config file).\n",
       "    \n",
       "    options:\n",
       "      --no-import-all  Prevent IPython from performing ``import *`` into the interactive namespace. You can govern the default behavior of this flag with the\n",
       "                       InteractiveShellApp.pylab_import_all configurable.\n",
       "%qtconsole:\n",
       "    Open a qtconsole connected to this kernel.\n",
       "    \n",
       "    Useful for connecting a qtconsole to running notebooks, for better\n",
       "    debugging.\n",
       "%quickref:\n",
       "    Show a quick reference sheet\n",
       "%recall:\n",
       "    Repeat a command, or get command to input line for editing.\n",
       "    \n",
       "    %recall and %rep are equivalent.\n",
       "    \n",
       "    - %recall (no arguments):\n",
       "    \n",
       "    Place a string version of last computation result (stored in the\n",
       "    special '_' variable) to the next input prompt. Allows you to create\n",
       "    elaborate command lines without using copy-paste::\n",
       "    \n",
       "         In[1]: l = [\"hei\", \"vaan\"]\n",
       "         In[2]: \"\".join(l)\n",
       "        Out[2]: heivaan\n",
       "         In[3]: %recall\n",
       "         In[4]: heivaan_ <== cursor blinking\n",
       "    \n",
       "    %recall 45\n",
       "    \n",
       "    Place history line 45 on the next input prompt. Use %hist to find\n",
       "    out the number.\n",
       "    \n",
       "    %recall 1-4\n",
       "    \n",
       "    Combine the specified lines into one cell, and place it on the next\n",
       "    input prompt. See %history for the slice syntax.\n",
       "    \n",
       "    %recall foo+bar\n",
       "    \n",
       "    If foo+bar can be evaluated in the user namespace, the result is\n",
       "    placed at the next input prompt. Otherwise, the history is searched\n",
       "    for lines which contain that substring, and the most recent one is\n",
       "    placed at the next input prompt.\n",
       "%rehashx:\n",
       "    Update the alias table with all executable files in $PATH.\n",
       "    \n",
       "    rehashx explicitly checks that every entry in $PATH is a file\n",
       "    with execute access (os.X_OK).\n",
       "    \n",
       "    Under Windows, it checks executability as a match against a\n",
       "    '|'-separated string of extensions, stored in the IPython config\n",
       "    variable win_exec_ext.  This defaults to 'exe|com|bat'.\n",
       "    \n",
       "    This function also resets the root module cache of module completer,\n",
       "    used on slow filesystems.\n",
       "%reload_ext:\n",
       "    Reload an IPython extension by its module name.\n",
       "%rep:\n",
       "    Alias for `%recall`.\n",
       "%rerun:\n",
       "    Re-run previous input\n",
       "    \n",
       "    By default, you can specify ranges of input history to be repeated\n",
       "    (as with %history). With no arguments, it will repeat the last line.\n",
       "    \n",
       "    Options:\n",
       "    \n",
       "      -l <n> : Repeat the last n lines of input, not including the\n",
       "      current command.\n",
       "    \n",
       "      -g foo : Repeat the most recent line which contains foo\n",
       "%reset:\n",
       "    Resets the namespace by removing all names defined by the user, if\n",
       "    called without arguments, or by removing some types of objects, such\n",
       "    as everything currently in IPython's In[] and Out[] containers (see\n",
       "    the parameters for details).\n",
       "    \n",
       "    Parameters\n",
       "    ----------\n",
       "    -f\n",
       "        force reset without asking for confirmation.\n",
       "    -s\n",
       "        'Soft' reset: Only clears your namespace, leaving history intact.\n",
       "        References to objects may be kept. By default (without this option),\n",
       "        we do a 'hard' reset, giving you a new session and removing all\n",
       "        references to objects from the current session.\n",
       "    --aggressive\n",
       "        Try to aggressively remove modules from sys.modules ; this\n",
       "        may allow you to reimport Python modules that have been updated and\n",
       "        pick up changes, but can have unintended consequences.\n",
       "    \n",
       "    in\n",
       "        reset input history\n",
       "    out\n",
       "        reset output history\n",
       "    dhist\n",
       "        reset directory history\n",
       "    array\n",
       "        reset only variables that are NumPy arrays\n",
       "    \n",
       "    See Also\n",
       "    --------\n",
       "    reset_selective : invoked as ``%reset_selective``\n",
       "    \n",
       "    Examples\n",
       "    --------\n",
       "    ::\n",
       "    \n",
       "      In [6]: a = 1\n",
       "    \n",
       "      In [7]: a\n",
       "      Out[7]: 1\n",
       "    \n",
       "      In [8]: 'a' in get_ipython().user_ns\n",
       "      Out[8]: True\n",
       "    \n",
       "      In [9]: %reset -f\n",
       "    \n",
       "      In [1]: 'a' in get_ipython().user_ns\n",
       "      Out[1]: False\n",
       "    \n",
       "      In [2]: %reset -f in\n",
       "      Flushing input history\n",
       "    \n",
       "      In [3]: %reset -f dhist in\n",
       "      Flushing directory history\n",
       "      Flushing input history\n",
       "    \n",
       "    Notes\n",
       "    -----\n",
       "    Calling this magic from clients that do not implement standard input,\n",
       "    such as the ipython notebook interface, will reset the namespace\n",
       "    without confirmation.\n",
       "%reset_selective:\n",
       "    Resets the namespace by removing names defined by the user.\n",
       "    \n",
       "    Input/Output history are left around in case you need them.\n",
       "    \n",
       "    %reset_selective [-f] regex\n",
       "    \n",
       "    No action is taken if regex is not included\n",
       "    \n",
       "    Options\n",
       "      -f : force reset without asking for confirmation.\n",
       "    \n",
       "    See Also\n",
       "    --------\n",
       "    reset : invoked as ``%reset``\n",
       "    \n",
       "    Examples\n",
       "    --------\n",
       "    We first fully reset the namespace so your output looks identical to\n",
       "    this example for pedagogical reasons; in practice you do not need a\n",
       "    full reset::\n",
       "    \n",
       "      In [1]: %reset -f\n",
       "    \n",
       "    Now, with a clean namespace we can make a few variables and use\n",
       "    ``%reset_selective`` to only delete names that match our regexp::\n",
       "    \n",
       "      In [2]: a=1; b=2; c=3; b1m=4; b2m=5; b3m=6; b4m=7; b2s=8\n",
       "    \n",
       "      In [3]: who_ls\n",
       "      Out[3]: ['a', 'b', 'b1m', 'b2m', 'b2s', 'b3m', 'b4m', 'c']\n",
       "    \n",
       "      In [4]: %reset_selective -f b[2-3]m\n",
       "    \n",
       "      In [5]: who_ls\n",
       "      Out[5]: ['a', 'b', 'b1m', 'b2s', 'b4m', 'c']\n",
       "    \n",
       "      In [6]: %reset_selective -f d\n",
       "    \n",
       "      In [7]: who_ls\n",
       "      Out[7]: ['a', 'b', 'b1m', 'b2s', 'b4m', 'c']\n",
       "    \n",
       "      In [8]: %reset_selective -f c\n",
       "    \n",
       "      In [9]: who_ls\n",
       "      Out[9]: ['a', 'b', 'b1m', 'b2s', 'b4m']\n",
       "    \n",
       "      In [10]: %reset_selective -f b\n",
       "    \n",
       "      In [11]: who_ls\n",
       "      Out[11]: ['a']\n",
       "    \n",
       "    Notes\n",
       "    -----\n",
       "    Calling this magic from clients that do not implement standard input,\n",
       "    such as the ipython notebook interface, will reset the namespace\n",
       "    without confirmation.\n",
       "%rm:\n",
       "    Alias for `!rm`\n",
       "%rmdir:\n",
       "    Alias for `!rmdir`\n",
       "%run:\n",
       "    Run the named file inside IPython as a program.\n",
       "    \n",
       "    Usage::\n",
       "    \n",
       "      %run [-n -i -e -G]\n",
       "           [( -t [-N<N>] | -d [-b<N>] | -p [profile options] )]\n",
       "           ( -m mod | filename ) [args]\n",
       "    \n",
       "    The filename argument should be either a pure Python script (with\n",
       "    extension ``.py``), or a file with custom IPython syntax (such as\n",
       "    magics). If the latter, the file can be either a script with ``.ipy``\n",
       "    extension, or a Jupyter notebook with ``.ipynb`` extension. When running\n",
       "    a Jupyter notebook, the output from print statements and other\n",
       "    displayed objects will appear in the terminal (even matplotlib figures\n",
       "    will open, if a terminal-compliant backend is being used). Note that,\n",
       "    at the system command line, the ``jupyter run`` command offers similar\n",
       "    functionality for executing notebooks (albeit currently with some\n",
       "    differences in supported options).\n",
       "    \n",
       "    Parameters after the filename are passed as command-line arguments to\n",
       "    the program (put in sys.argv). Then, control returns to IPython's\n",
       "    prompt.\n",
       "    \n",
       "    This is similar to running at a system prompt ``python file args``,\n",
       "    but with the advantage of giving you IPython's tracebacks, and of\n",
       "    loading all variables into your interactive namespace for further use\n",
       "    (unless -p is used, see below).\n",
       "    \n",
       "    The file is executed in a namespace initially consisting only of\n",
       "    ``__name__=='__main__'`` and sys.argv constructed as indicated. It thus\n",
       "    sees its environment as if it were being run as a stand-alone program\n",
       "    (except for sharing global objects such as previously imported\n",
       "    modules). But after execution, the IPython interactive namespace gets\n",
       "    updated with all variables defined in the program (except for __name__\n",
       "    and sys.argv). This allows for very convenient loading of code for\n",
       "    interactive work, while giving each program a 'clean sheet' to run in.\n",
       "    \n",
       "    Arguments are expanded using shell-like glob match.  Patterns\n",
       "    '*', '?', '[seq]' and '[!seq]' can be used.  Additionally,\n",
       "    tilde '~' will be expanded into user's home directory.  Unlike\n",
       "    real shells, quotation does not suppress expansions.  Use\n",
       "    *two* back slashes (e.g. ``\\\\*``) to suppress expansions.\n",
       "    To completely disable these expansions, you can use -G flag.\n",
       "    \n",
       "    On Windows systems, the use of single quotes `'` when specifying\n",
       "    a file is not supported. Use double quotes `\"`.\n",
       "    \n",
       "    Options:\n",
       "    \n",
       "    -n\n",
       "      __name__ is NOT set to '__main__', but to the running file's name\n",
       "      without extension (as python does under import).  This allows running\n",
       "      scripts and reloading the definitions in them without calling code\n",
       "      protected by an ``if __name__ == \"__main__\"`` clause.\n",
       "    \n",
       "    -i\n",
       "      run the file in IPython's namespace instead of an empty one. This\n",
       "      is useful if you are experimenting with code written in a text editor\n",
       "      which depends on variables defined interactively.\n",
       "    \n",
       "    -e\n",
       "      ignore sys.exit() calls or SystemExit exceptions in the script\n",
       "      being run.  This is particularly useful if IPython is being used to\n",
       "      run unittests, which always exit with a sys.exit() call.  In such\n",
       "      cases you are interested in the output of the test results, not in\n",
       "      seeing a traceback of the unittest module.\n",
       "    \n",
       "    -t\n",
       "      print timing information at the end of the run.  IPython will give\n",
       "      you an estimated CPU time consumption for your script, which under\n",
       "      Unix uses the resource module to avoid the wraparound problems of\n",
       "      time.clock().  Under Unix, an estimate of time spent on system tasks\n",
       "      is also given (for Windows platforms this is reported as 0.0).\n",
       "    \n",
       "    If -t is given, an additional ``-N<N>`` option can be given, where <N>\n",
       "    must be an integer indicating how many times you want the script to\n",
       "    run.  The final timing report will include total and per run results.\n",
       "    \n",
       "    For example (testing the script uniq_stable.py)::\n",
       "    \n",
       "        In [1]: run -t uniq_stable\n",
       "    \n",
       "        IPython CPU timings (estimated):\n",
       "          User  :    0.19597 s.\n",
       "          System:        0.0 s.\n",
       "    \n",
       "        In [2]: run -t -N5 uniq_stable\n",
       "    \n",
       "        IPython CPU timings (estimated):\n",
       "        Total runs performed: 5\n",
       "          Times :      Total       Per run\n",
       "          User  :   0.910862 s,  0.1821724 s.\n",
       "          System:        0.0 s,        0.0 s.\n",
       "    \n",
       "    -d\n",
       "      run your program under the control of pdb, the Python debugger.\n",
       "      This allows you to execute your program step by step, watch variables,\n",
       "      etc.  Internally, what IPython does is similar to calling::\n",
       "    \n",
       "          pdb.run('execfile(\"YOURFILENAME\")')\n",
       "    \n",
       "      with a breakpoint set on line 1 of your file.  You can change the line\n",
       "      number for this automatic breakpoint to be <N> by using the -bN option\n",
       "      (where N must be an integer). For example::\n",
       "    \n",
       "          %run -d -b40 myscript\n",
       "    \n",
       "      will set the first breakpoint at line 40 in myscript.py.  Note that\n",
       "      the first breakpoint must be set on a line which actually does\n",
       "      something (not a comment or docstring) for it to stop execution.\n",
       "    \n",
       "      Or you can specify a breakpoint in a different file::\n",
       "    \n",
       "          %run -d -b myotherfile.py:20 myscript\n",
       "    \n",
       "      When the pdb debugger starts, you will see a (Pdb) prompt.  You must\n",
       "      first enter 'c' (without quotes) to start execution up to the first\n",
       "      breakpoint.\n",
       "    \n",
       "      Entering 'help' gives information about the use of the debugger.  You\n",
       "      can easily see pdb's full documentation with \"import pdb;pdb.help()\"\n",
       "      at a prompt.\n",
       "    \n",
       "    -p\n",
       "      run program under the control of the Python profiler module (which\n",
       "      prints a detailed report of execution times, function calls, etc).\n",
       "    \n",
       "      You can pass other options after -p which affect the behavior of the\n",
       "      profiler itself. See the docs for %prun for details.\n",
       "    \n",
       "      In this mode, the program's variables do NOT propagate back to the\n",
       "      IPython interactive namespace (because they remain in the namespace\n",
       "      where the profiler executes them).\n",
       "    \n",
       "      Internally this triggers a call to %prun, see its documentation for\n",
       "      details on the options available specifically for profiling.\n",
       "    \n",
       "    There is one special usage for which the text above doesn't apply:\n",
       "    if the filename ends with .ipy[nb], the file is run as ipython script,\n",
       "    just as if the commands were written on IPython prompt.\n",
       "    \n",
       "    -m\n",
       "      specify module name to load instead of script path. Similar to\n",
       "      the -m option for the python interpreter. Use this option last if you\n",
       "      want to combine with other %run options. Unlike the python interpreter\n",
       "      only source modules are allowed no .pyc or .pyo files.\n",
       "      For example::\n",
       "    \n",
       "          %run -m example\n",
       "    \n",
       "      will run the example module.\n",
       "    \n",
       "    -G\n",
       "      disable shell-like glob expansion of arguments.\n",
       "%save:\n",
       "    Save a set of lines or a macro to a given filename.\n",
       "    \n",
       "    Usage:\n",
       "      %save [options] filename [history]\n",
       "    \n",
       "    Options:\n",
       "    \n",
       "      -r: use 'raw' input.  By default, the 'processed' history is used,\n",
       "      so that magics are loaded in their transformed version to valid\n",
       "      Python.  If this option is given, the raw input as typed as the\n",
       "      command line is used instead.\n",
       "    \n",
       "      -f: force overwrite.  If file exists, %save will prompt for overwrite\n",
       "      unless -f is given.\n",
       "    \n",
       "      -a: append to the file instead of overwriting it.\n",
       "    \n",
       "    The history argument uses the same syntax as %history for input ranges,\n",
       "    then saves the lines to the filename you specify.\n",
       "    \n",
       "    If no ranges are specified, saves history of the current session up to\n",
       "    this point.\n",
       "    \n",
       "    It adds a '.py' extension to the file if you don't do so yourself, and\n",
       "    it asks for confirmation before overwriting existing files.\n",
       "    \n",
       "    If `-r` option is used, the default extension is `.ipy`.\n",
       "%sc:\n",
       "    Shell capture - run shell command and capture output (DEPRECATED use !).\n",
       "    \n",
       "    DEPRECATED. Suboptimal, retained for backwards compatibility.\n",
       "    \n",
       "    You should use the form 'var = !command' instead. Example:\n",
       "    \n",
       "     \"%sc -l myfiles = ls ~\" should now be written as\n",
       "    \n",
       "     \"myfiles = !ls ~\"\n",
       "    \n",
       "    myfiles.s, myfiles.l and myfiles.n still apply as documented\n",
       "    below.\n",
       "    \n",
       "    --\n",
       "    %sc [options] varname=command\n",
       "    \n",
       "    IPython will run the given command using commands.getoutput(), and\n",
       "    will then update the user's interactive namespace with a variable\n",
       "    called varname, containing the value of the call.  Your command can\n",
       "    contain shell wildcards, pipes, etc.\n",
       "    \n",
       "    The '=' sign in the syntax is mandatory, and the variable name you\n",
       "    supply must follow Python's standard conventions for valid names.\n",
       "    \n",
       "    (A special format without variable name exists for internal use)\n",
       "    \n",
       "    Options:\n",
       "    \n",
       "      -l: list output.  Split the output on newlines into a list before\n",
       "      assigning it to the given variable.  By default the output is stored\n",
       "      as a single string.\n",
       "    \n",
       "      -v: verbose.  Print the contents of the variable.\n",
       "    \n",
       "    In most cases you should not need to split as a list, because the\n",
       "    returned value is a special type of string which can automatically\n",
       "    provide its contents either as a list (split on newlines) or as a\n",
       "    space-separated string.  These are convenient, respectively, either\n",
       "    for sequential processing or to be passed to a shell command.\n",
       "    \n",
       "    For example::\n",
       "    \n",
       "        # Capture into variable a\n",
       "        In [1]: sc a=ls *py\n",
       "    \n",
       "        # a is a string with embedded newlines\n",
       "        In [2]: a\n",
       "        Out[2]: 'setup.py\\nwin32_manual_post_install.py'\n",
       "    \n",
       "        # which can be seen as a list:\n",
       "        In [3]: a.l\n",
       "        Out[3]: ['setup.py', 'win32_manual_post_install.py']\n",
       "    \n",
       "        # or as a whitespace-separated string:\n",
       "        In [4]: a.s\n",
       "        Out[4]: 'setup.py win32_manual_post_install.py'\n",
       "    \n",
       "        # a.s is useful to pass as a single command line:\n",
       "        In [5]: !wc -l $a.s\n",
       "          146 setup.py\n",
       "          130 win32_manual_post_install.py\n",
       "          276 total\n",
       "    \n",
       "        # while the list form is useful to loop over:\n",
       "        In [6]: for f in a.l:\n",
       "           ...:      !wc -l $f\n",
       "           ...:\n",
       "        146 setup.py\n",
       "        130 win32_manual_post_install.py\n",
       "    \n",
       "    Similarly, the lists returned by the -l option are also special, in\n",
       "    the sense that you can equally invoke the .s attribute on them to\n",
       "    automatically get a whitespace-separated string from their contents::\n",
       "    \n",
       "        In [7]: sc -l b=ls *py\n",
       "    \n",
       "        In [8]: b\n",
       "        Out[8]: ['setup.py', 'win32_manual_post_install.py']\n",
       "    \n",
       "        In [9]: b.s\n",
       "        Out[9]: 'setup.py win32_manual_post_install.py'\n",
       "    \n",
       "    In summary, both the lists and strings used for output capture have\n",
       "    the following special attributes::\n",
       "    \n",
       "        .l (or .list) : value as list.\n",
       "        .n (or .nlstr): value as newline-separated string.\n",
       "        .s (or .spstr): value as space-separated string.\n",
       "%set_env:\n",
       "    Set environment variables.  Assumptions are that either \"val\" is a\n",
       "    name in the user namespace, or val is something that evaluates to a\n",
       "    string.\n",
       "    \n",
       "    Usage:\n",
       "      :``%set_env var val``: set value for var\n",
       "      :``%set_env var=val``: set value for var\n",
       "      :``%set_env var=$val``: set value for var, using python expansion if possible\n",
       "%store:\n",
       "    Lightweight persistence for python variables.\n",
       "    \n",
       "    Example::\n",
       "    \n",
       "      In [1]: l = ['hello',10,'world']\n",
       "      In [2]: %store l\n",
       "      Stored 'l' (list)\n",
       "      In [3]: exit\n",
       "    \n",
       "      (IPython session is closed and started again...)\n",
       "    \n",
       "      ville@badger:~$ ipython\n",
       "      In [1]: l\n",
       "      NameError: name 'l' is not defined\n",
       "      In [2]: %store -r\n",
       "      In [3]: l\n",
       "      Out[3]: ['hello', 10, 'world']\n",
       "    \n",
       "    Usage:\n",
       "    \n",
       "    * ``%store``          - Show list of all variables and their current\n",
       "                            values\n",
       "    * ``%store spam bar`` - Store the *current* value of the variables spam\n",
       "                            and bar to disk\n",
       "    * ``%store -d spam``  - Remove the variable and its value from storage\n",
       "    * ``%store -z``       - Remove all variables from storage\n",
       "    * ``%store -r``       - Refresh all variables, aliases and directory history\n",
       "                            from store (overwrite current vals)\n",
       "    * ``%store -r spam bar`` - Refresh specified variables and aliases from store\n",
       "                               (delete current val)\n",
       "    * ``%store foo >a.txt``  - Store value of foo to new file a.txt\n",
       "    * ``%store foo >>a.txt`` - Append value of foo to file a.txt\n",
       "    \n",
       "    It should be noted that if you change the value of a variable, you\n",
       "    need to %store it again if you want to persist the new value.\n",
       "    \n",
       "    Note also that the variables will need to be pickleable; most basic\n",
       "    python types can be safely %store'd.\n",
       "    \n",
       "    Also aliases can be %store'd across sessions.\n",
       "    To remove an alias from the storage, use the %unalias magic.\n",
       "%sx:\n",
       "    Shell execute - run shell command and capture output (!! is short-hand).\n",
       "    \n",
       "    %sx command\n",
       "    \n",
       "    IPython will run the given command using commands.getoutput(), and\n",
       "    return the result formatted as a list (split on '\\n').  Since the\n",
       "    output is _returned_, it will be stored in ipython's regular output\n",
       "    cache Out[N] and in the '_N' automatic variables.\n",
       "    \n",
       "    Notes:\n",
       "    \n",
       "    1) If an input line begins with '!!', then %sx is automatically\n",
       "    invoked.  That is, while::\n",
       "    \n",
       "      !ls\n",
       "    \n",
       "    causes ipython to simply issue system('ls'), typing::\n",
       "    \n",
       "      !!ls\n",
       "    \n",
       "    is a shorthand equivalent to::\n",
       "    \n",
       "      %sx ls\n",
       "    \n",
       "    2) %sx differs from %sc in that %sx automatically splits into a list,\n",
       "    like '%sc -l'.  The reason for this is to make it as easy as possible\n",
       "    to process line-oriented shell output via further python commands.\n",
       "    %sc is meant to provide much finer control, but requires more\n",
       "    typing.\n",
       "    \n",
       "    3) Just like %sc -l, this is a list with special attributes:\n",
       "    ::\n",
       "    \n",
       "      .l (or .list) : value as list.\n",
       "      .n (or .nlstr): value as newline-separated string.\n",
       "      .s (or .spstr): value as whitespace-separated string.\n",
       "    \n",
       "    This is very useful when trying to use such lists as arguments to\n",
       "    system commands.\n",
       "%system:\n",
       "    Shell execute - run shell command and capture output (!! is short-hand).\n",
       "    \n",
       "    %sx command\n",
       "    \n",
       "    IPython will run the given command using commands.getoutput(), and\n",
       "    return the result formatted as a list (split on '\\n').  Since the\n",
       "    output is _returned_, it will be stored in ipython's regular output\n",
       "    cache Out[N] and in the '_N' automatic variables.\n",
       "    \n",
       "    Notes:\n",
       "    \n",
       "    1) If an input line begins with '!!', then %sx is automatically\n",
       "    invoked.  That is, while::\n",
       "    \n",
       "      !ls\n",
       "    \n",
       "    causes ipython to simply issue system('ls'), typing::\n",
       "    \n",
       "      !!ls\n",
       "    \n",
       "    is a shorthand equivalent to::\n",
       "    \n",
       "      %sx ls\n",
       "    \n",
       "    2) %sx differs from %sc in that %sx automatically splits into a list,\n",
       "    like '%sc -l'.  The reason for this is to make it as easy as possible\n",
       "    to process line-oriented shell output via further python commands.\n",
       "    %sc is meant to provide much finer control, but requires more\n",
       "    typing.\n",
       "    \n",
       "    3) Just like %sc -l, this is a list with special attributes:\n",
       "    ::\n",
       "    \n",
       "      .l (or .list) : value as list.\n",
       "      .n (or .nlstr): value as newline-separated string.\n",
       "      .s (or .spstr): value as whitespace-separated string.\n",
       "    \n",
       "    This is very useful when trying to use such lists as arguments to\n",
       "    system commands.\n",
       "%tb:\n",
       "    Print the last traceback.\n",
       "    \n",
       "    Optionally, specify an exception reporting mode, tuning the\n",
       "    verbosity of the traceback. By default the currently-active exception\n",
       "    mode is used. See %xmode for changing exception reporting modes.\n",
       "    \n",
       "    Valid modes: Plain, Context, Verbose, and Minimal.\n",
       "%time:\n",
       "    Time execution of a Python statement or expression.\n",
       "    \n",
       "    The CPU and wall clock times are printed, and the value of the\n",
       "    expression (if any) is returned.  Note that under Win32, system time\n",
       "    is always reported as 0, since it can not be measured.\n",
       "    \n",
       "    This function can be used both as a line and cell magic:\n",
       "    \n",
       "    - In line mode you can time a single-line statement (though multiple\n",
       "      ones can be chained with using semicolons).\n",
       "    \n",
       "    - In cell mode, you can time the cell body (a directly\n",
       "      following statement raises an error).\n",
       "    \n",
       "    This function provides very basic timing functionality.  Use the timeit\n",
       "    magic for more control over the measurement.\n",
       "    \n",
       "    .. versionchanged:: 7.3\n",
       "        User variables are no longer expanded,\n",
       "        the magic line is always left unmodified.\n",
       "    \n",
       "    Examples\n",
       "    --------\n",
       "    ::\n",
       "    \n",
       "      In [1]: %time 2**128\n",
       "      CPU times: user 0.00 s, sys: 0.00 s, total: 0.00 s\n",
       "      Wall time: 0.00\n",
       "      Out[1]: 340282366920938463463374607431768211456L\n",
       "    \n",
       "      In [2]: n = 1000000\n",
       "    \n",
       "      In [3]: %time sum(range(n))\n",
       "      CPU times: user 1.20 s, sys: 0.05 s, total: 1.25 s\n",
       "      Wall time: 1.37\n",
       "      Out[3]: 499999500000L\n",
       "    \n",
       "      In [4]: %time print 'hello world'\n",
       "      hello world\n",
       "      CPU times: user 0.00 s, sys: 0.00 s, total: 0.00 s\n",
       "      Wall time: 0.00\n",
       "    \n",
       "    .. note::\n",
       "        The time needed by Python to compile the given expression will be\n",
       "        reported if it is more than 0.1s.\n",
       "    \n",
       "        In the example below, the actual exponentiation is done by Python\n",
       "        at compilation time, so while the expression can take a noticeable\n",
       "        amount of time to compute, that time is purely due to the\n",
       "        compilation::\n",
       "    \n",
       "            In [5]: %time 3**9999;\n",
       "            CPU times: user 0.00 s, sys: 0.00 s, total: 0.00 s\n",
       "            Wall time: 0.00 s\n",
       "    \n",
       "            In [6]: %time 3**999999;\n",
       "            CPU times: user 0.00 s, sys: 0.00 s, total: 0.00 s\n",
       "            Wall time: 0.00 s\n",
       "            Compiler : 0.78 s\n",
       "%timeit:\n",
       "    Time execution of a Python statement or expression\n",
       "    \n",
       "    Usage, in line mode:\n",
       "      %timeit [-n<N> -r<R> [-t|-c] -q -p<P> -o] statement\n",
       "    or in cell mode:\n",
       "      %%timeit [-n<N> -r<R> [-t|-c] -q -p<P> -o] setup_code\n",
       "      code\n",
       "      code...\n",
       "    \n",
       "    Time execution of a Python statement or expression using the timeit\n",
       "    module.  This function can be used both as a line and cell magic:\n",
       "    \n",
       "    - In line mode you can time a single-line statement (though multiple\n",
       "      ones can be chained with using semicolons).\n",
       "    \n",
       "    - In cell mode, the statement in the first line is used as setup code\n",
       "      (executed but not timed) and the body of the cell is timed.  The cell\n",
       "      body has access to any variables created in the setup code.\n",
       "    \n",
       "    Options:\n",
       "    -n<N>: execute the given statement <N> times in a loop. If <N> is not\n",
       "    provided, <N> is determined so as to get sufficient accuracy.\n",
       "    \n",
       "    -r<R>: number of repeats <R>, each consisting of <N> loops, and take the\n",
       "    average result.\n",
       "    Default: 7\n",
       "    \n",
       "    -t: use time.time to measure the time, which is the default on Unix.\n",
       "    This function measures wall time.\n",
       "    \n",
       "    -c: use time.clock to measure the time, which is the default on\n",
       "    Windows and measures wall time. On Unix, resource.getrusage is used\n",
       "    instead and returns the CPU user time.\n",
       "    \n",
       "    -p<P>: use a precision of <P> digits to display the timing result.\n",
       "    Default: 3\n",
       "    \n",
       "    -q: Quiet, do not print result.\n",
       "    \n",
       "    -o: return a TimeitResult that can be stored in a variable to inspect\n",
       "        the result in more details.\n",
       "    \n",
       "    .. versionchanged:: 7.3\n",
       "        User variables are no longer expanded,\n",
       "        the magic line is always left unmodified.\n",
       "    \n",
       "    Examples\n",
       "    --------\n",
       "    ::\n",
       "    \n",
       "      In [1]: %timeit pass\n",
       "      8.26 ns ± 0.12 ns per loop (mean ± std. dev. of 7 runs, 100000000 loops each)\n",
       "    \n",
       "      In [2]: u = None\n",
       "    \n",
       "      In [3]: %timeit u is None\n",
       "      29.9 ns ± 0.643 ns per loop (mean ± std. dev. of 7 runs, 10000000 loops each)\n",
       "    \n",
       "      In [4]: %timeit -r 4 u == None\n",
       "    \n",
       "      In [5]: import time\n",
       "    \n",
       "      In [6]: %timeit -n1 time.sleep(2)\n",
       "    \n",
       "    The times reported by %timeit will be slightly higher than those\n",
       "    reported by the timeit.py script when variables are accessed. This is\n",
       "    due to the fact that %timeit executes the statement in the namespace\n",
       "    of the shell, compared with timeit.py, which uses a single setup\n",
       "    statement to import function or create variables. Generally, the bias\n",
       "    does not matter as long as results from timeit.py are not mixed with\n",
       "    those from %timeit.\n",
       "%unalias:\n",
       "    Remove an alias\n",
       "%unload_ext:\n",
       "    Unload an IPython extension by its module name.\n",
       "    \n",
       "    Not all extensions can be unloaded, only those which define an\n",
       "    ``unload_ipython_extension`` function.\n",
       "%who:\n",
       "    Print all interactive variables, with some minimal formatting.\n",
       "    \n",
       "    If any arguments are given, only variables whose type matches one of\n",
       "    these are printed.  For example::\n",
       "    \n",
       "      %who function str\n",
       "    \n",
       "    will only list functions and strings, excluding all other types of\n",
       "    variables.  To find the proper type names, simply use type(var) at a\n",
       "    command line to see how python prints type names.  For example:\n",
       "    \n",
       "    ::\n",
       "    \n",
       "      In [1]: type('hello')\n",
       "      Out[1]: <type 'str'>\n",
       "    \n",
       "    indicates that the type name for strings is 'str'.\n",
       "    \n",
       "    ``%who`` always excludes executed names loaded through your configuration\n",
       "    file and things which are internal to IPython.\n",
       "    \n",
       "    This is deliberate, as typically you may load many modules and the\n",
       "    purpose of %who is to show you only what you've manually defined.\n",
       "    \n",
       "    Examples\n",
       "    --------\n",
       "    \n",
       "    Define two variables and list them with who::\n",
       "    \n",
       "      In [1]: alpha = 123\n",
       "    \n",
       "      In [2]: beta = 'test'\n",
       "    \n",
       "      In [3]: %who\n",
       "      alpha   beta\n",
       "    \n",
       "      In [4]: %who int\n",
       "      alpha\n",
       "    \n",
       "      In [5]: %who str\n",
       "      beta\n",
       "%who_ls:\n",
       "    Return a sorted list of all interactive variables.\n",
       "    \n",
       "    If arguments are given, only variables of types matching these\n",
       "    arguments are returned.\n",
       "    \n",
       "    Examples\n",
       "    --------\n",
       "    Define two variables and list them with who_ls::\n",
       "    \n",
       "      In [1]: alpha = 123\n",
       "    \n",
       "      In [2]: beta = 'test'\n",
       "    \n",
       "      In [3]: %who_ls\n",
       "      Out[3]: ['alpha', 'beta']\n",
       "    \n",
       "      In [4]: %who_ls int\n",
       "      Out[4]: ['alpha']\n",
       "    \n",
       "      In [5]: %who_ls str\n",
       "      Out[5]: ['beta']\n",
       "%whos:\n",
       "    Like %who, but gives some extra information about each variable.\n",
       "    \n",
       "    The same type filtering of %who can be applied here.\n",
       "    \n",
       "    For all variables, the type is printed. Additionally it prints:\n",
       "    \n",
       "      - For {},[],(): their length.\n",
       "    \n",
       "      - For numpy arrays, a summary with shape, number of\n",
       "        elements, typecode and size in memory.\n",
       "    \n",
       "      - Everything else: a string representation, snipping their middle if\n",
       "        too long.\n",
       "    \n",
       "    Examples\n",
       "    --------\n",
       "    Define two variables and list them with whos::\n",
       "    \n",
       "      In [1]: alpha = 123\n",
       "    \n",
       "      In [2]: beta = 'test'\n",
       "    \n",
       "      In [3]: %whos\n",
       "      Variable   Type        Data/Info\n",
       "      --------------------------------\n",
       "      alpha      int         123\n",
       "      beta       str         test\n",
       "%xdel:\n",
       "    Delete a variable, trying to clear it from anywhere that\n",
       "    IPython's machinery has references to it. By default, this uses\n",
       "    the identity of the named object in the user namespace to remove\n",
       "    references held under other names. The object is also removed\n",
       "    from the output history.\n",
       "    \n",
       "    Options\n",
       "      -n : Delete the specified name from all namespaces, without\n",
       "      checking their identity.\n",
       "%xmode:\n",
       "    Switch modes for the exception handlers.\n",
       "    \n",
       "    Valid modes: Plain, Context, Verbose, and Minimal.\n",
       "    \n",
       "    If called without arguments, acts as a toggle.\n",
       "    \n",
       "    When in verbose mode the value `--show` (and `--hide`)\n",
       "    will respectively show (or hide) frames with ``__tracebackhide__ =\n",
       "    True`` value set.\n",
       "%%!:\n",
       "    Shell execute - run shell command and capture output (!! is short-hand).\n",
       "    \n",
       "    %sx command\n",
       "    \n",
       "    IPython will run the given command using commands.getoutput(), and\n",
       "    return the result formatted as a list (split on '\\n').  Since the\n",
       "    output is _returned_, it will be stored in ipython's regular output\n",
       "    cache Out[N] and in the '_N' automatic variables.\n",
       "    \n",
       "    Notes:\n",
       "    \n",
       "    1) If an input line begins with '!!', then %sx is automatically\n",
       "    invoked.  That is, while::\n",
       "    \n",
       "      !ls\n",
       "    \n",
       "    causes ipython to simply issue system('ls'), typing::\n",
       "    \n",
       "      !!ls\n",
       "    \n",
       "    is a shorthand equivalent to::\n",
       "    \n",
       "      %sx ls\n",
       "    \n",
       "    2) %sx differs from %sc in that %sx automatically splits into a list,\n",
       "    like '%sc -l'.  The reason for this is to make it as easy as possible\n",
       "    to process line-oriented shell output via further python commands.\n",
       "    %sc is meant to provide much finer control, but requires more\n",
       "    typing.\n",
       "    \n",
       "    3) Just like %sc -l, this is a list with special attributes:\n",
       "    ::\n",
       "    \n",
       "      .l (or .list) : value as list.\n",
       "      .n (or .nlstr): value as newline-separated string.\n",
       "      .s (or .spstr): value as whitespace-separated string.\n",
       "    \n",
       "    This is very useful when trying to use such lists as arguments to\n",
       "    system commands.\n",
       "%%HTML:\n",
       "    Alias for `%%html`.\n",
       "%%SVG:\n",
       "    Alias for `%%svg`.\n",
       "%%bash:\n",
       "    %%bash script magic\n",
       "    \n",
       "    Run cells with bash in a subprocess.\n",
       "    \n",
       "    This is a shortcut for `%%script bash`\n",
       "%%capture:\n",
       "    ::\n",
       "    \n",
       "      %capture [--no-stderr] [--no-stdout] [--no-display] [output]\n",
       "    \n",
       "    run the cell, capturing stdout, stderr, and IPython's rich display() calls.\n",
       "    \n",
       "    positional arguments:\n",
       "      output        The name of the variable in which to store output. This is a utils.io.CapturedIO object with stdout/err attributes for the text of the captured output.\n",
       "                    CapturedOutput also has a show() method for displaying the output, and __call__ as well, so you can use that to quickly display the output. If unspecified,\n",
       "                    captured output is discarded.\n",
       "    \n",
       "    options:\n",
       "      --no-stderr   Don't capture stderr.\n",
       "      --no-stdout   Don't capture stdout.\n",
       "      --no-display  Don't capture IPython's rich display.\n",
       "%%code_wrap:\n",
       "    ::\n",
       "    \n",
       "      %code_wrap [--remove] [--list] [--list-all] [name]\n",
       "    \n",
       "    Simple magic to quickly define a code transformer for all IPython's future imput.\n",
       "    \n",
       "    ``__code__`` and ``__ret__`` are special variable that represent the code to run\n",
       "    and the value of the last expression of ``__code__`` respectively.\n",
       "    \n",
       "    Examples\n",
       "    --------\n",
       "    \n",
       "    .. ipython::\n",
       "    \n",
       "        In [1]: %%code_wrap before_after\n",
       "           ...: print('before')\n",
       "           ...: __code__\n",
       "           ...: print('after')\n",
       "           ...: __ret__\n",
       "    \n",
       "        In [2]: 1\n",
       "        before\n",
       "        after\n",
       "        Out[2]: 1\n",
       "    \n",
       "        In [3]: %code_wrap --list\n",
       "        before_after\n",
       "    \n",
       "        In [4]: %code_wrap --list-all\n",
       "        before_after :\n",
       "            print('before')\n",
       "            __code__\n",
       "            print('after')\n",
       "            __ret__\n",
       "    \n",
       "        In [5]: %code_wrap --remove before_after\n",
       "    \n",
       "    positional arguments:\n",
       "      name\n",
       "    \n",
       "    options:\n",
       "      --remove    remove the current transformer\n",
       "      --list      list existing transformers name\n",
       "      --list-all  list existing transformers name and code template\n",
       "%%debug:\n",
       "    ::\n",
       "    \n",
       "      %debug [--breakpoint FILE:LINE] [statement ...]\n",
       "    \n",
       "    Activate the interactive debugger.\n",
       "    \n",
       "    This magic command support two ways of activating debugger.\n",
       "    One is to activate debugger before executing code.  This way, you\n",
       "    can set a break point, to step through the code from the point.\n",
       "    You can use this mode by giving statements to execute and optionally\n",
       "    a breakpoint.\n",
       "    \n",
       "    The other one is to activate debugger in post-mortem mode.  You can\n",
       "    activate this mode simply running %debug without any argument.\n",
       "    If an exception has just occurred, this lets you inspect its stack\n",
       "    frames interactively.  Note that this will always work only on the last\n",
       "    traceback that occurred, so you must call this quickly after an\n",
       "    exception that you wish to inspect has fired, because if another one\n",
       "    occurs, it clobbers the previous one.\n",
       "    \n",
       "    If you want IPython to automatically do this on every exception, see\n",
       "    the %pdb magic for more details.\n",
       "    \n",
       "    .. versionchanged:: 7.3\n",
       "        When running code, user variables are no longer expanded,\n",
       "        the magic line is always left unmodified.\n",
       "    \n",
       "    positional arguments:\n",
       "      statement             Code to run in debugger. You can omit this in cell magic mode.\n",
       "    \n",
       "    options:\n",
       "      --breakpoint <FILE:LINE>, -b <FILE:LINE>\n",
       "                            Set break point at LINE in FILE.\n",
       "%%file:\n",
       "    Alias for `%%writefile`.\n",
       "%%html:\n",
       "    ::\n",
       "    \n",
       "      %html [--isolated]\n",
       "    \n",
       "    Render the cell as a block of HTML\n",
       "    \n",
       "    options:\n",
       "      --isolated  Annotate the cell as 'isolated'. Isolated cells are rendered inside their own <iframe> tag\n",
       "%%javascript:\n",
       "    Run the cell block of Javascript code\n",
       "    \n",
       "    Starting with IPython 8.0 %%javascript is pending deprecation to be replaced\n",
       "    by a more flexible system\n",
       "    \n",
       "    Please See https://github.com/ipython/ipython/issues/13376\n",
       "%%js:\n",
       "    Run the cell block of Javascript code\n",
       "    \n",
       "    Alias of `%%javascript`\n",
       "    \n",
       "    Starting with IPython 8.0 %%javascript is pending deprecation to be replaced\n",
       "    by a more flexible system\n",
       "    \n",
       "    Please See https://github.com/ipython/ipython/issues/13376\n",
       "%%latex:\n",
       "    Render the cell as a block of LaTeX\n",
       "    \n",
       "    The subset of LaTeX which is supported depends on the implementation in\n",
       "    the client.  In the Jupyter Notebook, this magic only renders the subset\n",
       "    of LaTeX defined by MathJax\n",
       "    [here](https://docs.mathjax.org/en/v2.5-latest/tex.html).\n",
       "%%markdown:\n",
       "    Render the cell as Markdown text block\n",
       "%%perl:\n",
       "    %%perl script magic\n",
       "    \n",
       "    Run cells with perl in a subprocess.\n",
       "    \n",
       "    This is a shortcut for `%%script perl`\n",
       "%%prun:\n",
       "    Run a statement through the python code profiler.\n",
       "    \n",
       "    Usage, in line mode:\n",
       "      %prun [options] statement\n",
       "    \n",
       "    Usage, in cell mode:\n",
       "      %%prun [options] [statement]\n",
       "      code...\n",
       "      code...\n",
       "    \n",
       "    In cell mode, the additional code lines are appended to the (possibly\n",
       "    empty) statement in the first line.  Cell mode allows you to easily\n",
       "    profile multiline blocks without having to put them in a separate\n",
       "    function.\n",
       "    \n",
       "    The given statement (which doesn't require quote marks) is run via the\n",
       "    python profiler in a manner similar to the profile.run() function.\n",
       "    Namespaces are internally managed to work correctly; profile.run\n",
       "    cannot be used in IPython because it makes certain assumptions about\n",
       "    namespaces which do not hold under IPython.\n",
       "    \n",
       "    Options:\n",
       "    \n",
       "    -l <limit>\n",
       "      you can place restrictions on what or how much of the\n",
       "      profile gets printed. The limit value can be:\n",
       "    \n",
       "         * A string: only information for function names containing this string\n",
       "           is printed.\n",
       "    \n",
       "         * An integer: only these many lines are printed.\n",
       "    \n",
       "         * A float (between 0 and 1): this fraction of the report is printed\n",
       "           (for example, use a limit of 0.4 to see the topmost 40% only).\n",
       "    \n",
       "      You can combine several limits with repeated use of the option. For\n",
       "      example, ``-l __init__ -l 5`` will print only the topmost 5 lines of\n",
       "      information about class constructors.\n",
       "    \n",
       "    -r\n",
       "      return the pstats.Stats object generated by the profiling. This\n",
       "      object has all the information about the profile in it, and you can\n",
       "      later use it for further analysis or in other functions.\n",
       "    \n",
       "    -s <key>\n",
       "      sort profile by given key. You can provide more than one key\n",
       "      by using the option several times: '-s key1 -s key2 -s key3...'. The\n",
       "      default sorting key is 'time'.\n",
       "    \n",
       "      The following is copied verbatim from the profile documentation\n",
       "      referenced below:\n",
       "    \n",
       "      When more than one key is provided, additional keys are used as\n",
       "      secondary criteria when the there is equality in all keys selected\n",
       "      before them.\n",
       "    \n",
       "      Abbreviations can be used for any key names, as long as the\n",
       "      abbreviation is unambiguous.  The following are the keys currently\n",
       "      defined:\n",
       "    \n",
       "      ============  =====================\n",
       "      Valid Arg     Meaning\n",
       "      ============  =====================\n",
       "      \"calls\"       call count\n",
       "      \"cumulative\"  cumulative time\n",
       "      \"file\"        file name\n",
       "      \"module\"      file name\n",
       "      \"pcalls\"      primitive call count\n",
       "      \"line\"        line number\n",
       "      \"name\"        function name\n",
       "      \"nfl\"         name/file/line\n",
       "      \"stdname\"     standard name\n",
       "      \"time\"        internal time\n",
       "      ============  =====================\n",
       "    \n",
       "      Note that all sorts on statistics are in descending order (placing\n",
       "      most time consuming items first), where as name, file, and line number\n",
       "      searches are in ascending order (i.e., alphabetical). The subtle\n",
       "      distinction between \"nfl\" and \"stdname\" is that the standard name is a\n",
       "      sort of the name as printed, which means that the embedded line\n",
       "      numbers get compared in an odd way.  For example, lines 3, 20, and 40\n",
       "      would (if the file names were the same) appear in the string order\n",
       "      \"20\" \"3\" and \"40\".  In contrast, \"nfl\" does a numeric compare of the\n",
       "      line numbers.  In fact, sort_stats(\"nfl\") is the same as\n",
       "      sort_stats(\"name\", \"file\", \"line\").\n",
       "    \n",
       "    -T <filename>\n",
       "      save profile results as shown on screen to a text\n",
       "      file. The profile is still shown on screen.\n",
       "    \n",
       "    -D <filename>\n",
       "      save (via dump_stats) profile statistics to given\n",
       "      filename. This data is in a format understood by the pstats module, and\n",
       "      is generated by a call to the dump_stats() method of profile\n",
       "      objects. The profile is still shown on screen.\n",
       "    \n",
       "    -q\n",
       "      suppress output to the pager.  Best used with -T and/or -D above.\n",
       "    \n",
       "    If you want to run complete programs under the profiler's control, use\n",
       "    ``%run -p [prof_opts] filename.py [args to program]`` where prof_opts\n",
       "    contains profiler specific options as described here.\n",
       "    \n",
       "    You can read the complete documentation for the profile module with::\n",
       "    \n",
       "      In [1]: import profile; profile.help()\n",
       "    \n",
       "    .. versionchanged:: 7.3\n",
       "        User variables are no longer expanded,\n",
       "        the magic line is always left unmodified.\n",
       "%%pypy:\n",
       "    %%pypy script magic\n",
       "    \n",
       "    Run cells with pypy in a subprocess.\n",
       "    \n",
       "    This is a shortcut for `%%script pypy`\n",
       "%%python:\n",
       "    %%python script magic\n",
       "    \n",
       "    Run cells with python in a subprocess.\n",
       "    \n",
       "    This is a shortcut for `%%script python`\n",
       "%%python2:\n",
       "    %%python2 script magic\n",
       "    \n",
       "    Run cells with python2 in a subprocess.\n",
       "    \n",
       "    This is a shortcut for `%%script python2`\n",
       "%%python3:\n",
       "    %%python3 script magic\n",
       "    \n",
       "    Run cells with python3 in a subprocess.\n",
       "    \n",
       "    This is a shortcut for `%%script python3`\n",
       "%%ruby:\n",
       "    %%ruby script magic\n",
       "    \n",
       "    Run cells with ruby in a subprocess.\n",
       "    \n",
       "    This is a shortcut for `%%script ruby`\n",
       "%%script:\n",
       "    ::\n",
       "    \n",
       "      %shebang [--no-raise-error] [--proc PROC] [--bg] [--err ERR] [--out OUT]\n",
       "    \n",
       "    Run a cell via a shell command\n",
       "    \n",
       "    The `%%script` line is like the #! line of script,\n",
       "    specifying a program (bash, perl, ruby, etc.) with which to run.\n",
       "    \n",
       "    The rest of the cell is run by that program.\n",
       "    \n",
       "    Examples\n",
       "    --------\n",
       "    ::\n",
       "    \n",
       "        In [1]: %%script bash\n",
       "           ...: for i in 1 2 3; do\n",
       "           ...:   echo $i\n",
       "           ...: done\n",
       "        1\n",
       "        2\n",
       "        3\n",
       "    \n",
       "    options:\n",
       "      --no-raise-error  Whether you should raise an error message in addition to a stream on stderr if you get a nonzero exit code.\n",
       "      --proc PROC       The variable in which to store Popen instance. This is used only when --bg option is given.\n",
       "      --bg              Whether to run the script in the background. If given, the only way to see the output of the command is with --out/err.\n",
       "      --err ERR         The variable in which to store stderr from the script. If the script is backgrounded, this will be the stderr *pipe*, instead of the stderr text itself\n",
       "                        and will not be autoclosed.\n",
       "      --out OUT         The variable in which to store stdout from the script. If the script is backgrounded, this will be the stdout *pipe*, instead of the stderr text itself\n",
       "                        and will not be auto closed.\n",
       "%%sh:\n",
       "    %%sh script magic\n",
       "    \n",
       "    Run cells with sh in a subprocess.\n",
       "    \n",
       "    This is a shortcut for `%%script sh`\n",
       "%%svg:\n",
       "    Render the cell as an SVG literal\n",
       "%%sx:\n",
       "    Shell execute - run shell command and capture output (!! is short-hand).\n",
       "    \n",
       "    %sx command\n",
       "    \n",
       "    IPython will run the given command using commands.getoutput(), and\n",
       "    return the result formatted as a list (split on '\\n').  Since the\n",
       "    output is _returned_, it will be stored in ipython's regular output\n",
       "    cache Out[N] and in the '_N' automatic variables.\n",
       "    \n",
       "    Notes:\n",
       "    \n",
       "    1) If an input line begins with '!!', then %sx is automatically\n",
       "    invoked.  That is, while::\n",
       "    \n",
       "      !ls\n",
       "    \n",
       "    causes ipython to simply issue system('ls'), typing::\n",
       "    \n",
       "      !!ls\n",
       "    \n",
       "    is a shorthand equivalent to::\n",
       "    \n",
       "      %sx ls\n",
       "    \n",
       "    2) %sx differs from %sc in that %sx automatically splits into a list,\n",
       "    like '%sc -l'.  The reason for this is to make it as easy as possible\n",
       "    to process line-oriented shell output via further python commands.\n",
       "    %sc is meant to provide much finer control, but requires more\n",
       "    typing.\n",
       "    \n",
       "    3) Just like %sc -l, this is a list with special attributes:\n",
       "    ::\n",
       "    \n",
       "      .l (or .list) : value as list.\n",
       "      .n (or .nlstr): value as newline-separated string.\n",
       "      .s (or .spstr): value as whitespace-separated string.\n",
       "    \n",
       "    This is very useful when trying to use such lists as arguments to\n",
       "    system commands.\n",
       "%%system:\n",
       "    Shell execute - run shell command and capture output (!! is short-hand).\n",
       "    \n",
       "    %sx command\n",
       "    \n",
       "    IPython will run the given command using commands.getoutput(), and\n",
       "    return the result formatted as a list (split on '\\n').  Since the\n",
       "    output is _returned_, it will be stored in ipython's regular output\n",
       "    cache Out[N] and in the '_N' automatic variables.\n",
       "    \n",
       "    Notes:\n",
       "    \n",
       "    1) If an input line begins with '!!', then %sx is automatically\n",
       "    invoked.  That is, while::\n",
       "    \n",
       "      !ls\n",
       "    \n",
       "    causes ipython to simply issue system('ls'), typing::\n",
       "    \n",
       "      !!ls\n",
       "    \n",
       "    is a shorthand equivalent to::\n",
       "    \n",
       "      %sx ls\n",
       "    \n",
       "    2) %sx differs from %sc in that %sx automatically splits into a list,\n",
       "    like '%sc -l'.  The reason for this is to make it as easy as possible\n",
       "    to process line-oriented shell output via further python commands.\n",
       "    %sc is meant to provide much finer control, but requires more\n",
       "    typing.\n",
       "    \n",
       "    3) Just like %sc -l, this is a list with special attributes:\n",
       "    ::\n",
       "    \n",
       "      .l (or .list) : value as list.\n",
       "      .n (or .nlstr): value as newline-separated string.\n",
       "      .s (or .spstr): value as whitespace-separated string.\n",
       "    \n",
       "    This is very useful when trying to use such lists as arguments to\n",
       "    system commands.\n",
       "%%time:\n",
       "    Time execution of a Python statement or expression.\n",
       "    \n",
       "    The CPU and wall clock times are printed, and the value of the\n",
       "    expression (if any) is returned.  Note that under Win32, system time\n",
       "    is always reported as 0, since it can not be measured.\n",
       "    \n",
       "    This function can be used both as a line and cell magic:\n",
       "    \n",
       "    - In line mode you can time a single-line statement (though multiple\n",
       "      ones can be chained with using semicolons).\n",
       "    \n",
       "    - In cell mode, you can time the cell body (a directly\n",
       "      following statement raises an error).\n",
       "    \n",
       "    This function provides very basic timing functionality.  Use the timeit\n",
       "    magic for more control over the measurement.\n",
       "    \n",
       "    .. versionchanged:: 7.3\n",
       "        User variables are no longer expanded,\n",
       "        the magic line is always left unmodified.\n",
       "    \n",
       "    Examples\n",
       "    --------\n",
       "    ::\n",
       "    \n",
       "      In [1]: %time 2**128\n",
       "      CPU times: user 0.00 s, sys: 0.00 s, total: 0.00 s\n",
       "      Wall time: 0.00\n",
       "      Out[1]: 340282366920938463463374607431768211456L\n",
       "    \n",
       "      In [2]: n = 1000000\n",
       "    \n",
       "      In [3]: %time sum(range(n))\n",
       "      CPU times: user 1.20 s, sys: 0.05 s, total: 1.25 s\n",
       "      Wall time: 1.37\n",
       "      Out[3]: 499999500000L\n",
       "    \n",
       "      In [4]: %time print 'hello world'\n",
       "      hello world\n",
       "      CPU times: user 0.00 s, sys: 0.00 s, total: 0.00 s\n",
       "      Wall time: 0.00\n",
       "    \n",
       "    .. note::\n",
       "        The time needed by Python to compile the given expression will be\n",
       "        reported if it is more than 0.1s.\n",
       "    \n",
       "        In the example below, the actual exponentiation is done by Python\n",
       "        at compilation time, so while the expression can take a noticeable\n",
       "        amount of time to compute, that time is purely due to the\n",
       "        compilation::\n",
       "    \n",
       "            In [5]: %time 3**9999;\n",
       "            CPU times: user 0.00 s, sys: 0.00 s, total: 0.00 s\n",
       "            Wall time: 0.00 s\n",
       "    \n",
       "            In [6]: %time 3**999999;\n",
       "            CPU times: user 0.00 s, sys: 0.00 s, total: 0.00 s\n",
       "            Wall time: 0.00 s\n",
       "            Compiler : 0.78 s\n",
       "%%timeit:\n",
       "    Time execution of a Python statement or expression\n",
       "    \n",
       "    Usage, in line mode:\n",
       "      %timeit [-n<N> -r<R> [-t|-c] -q -p<P> -o] statement\n",
       "    or in cell mode:\n",
       "      %%timeit [-n<N> -r<R> [-t|-c] -q -p<P> -o] setup_code\n",
       "      code\n",
       "      code...\n",
       "    \n",
       "    Time execution of a Python statement or expression using the timeit\n",
       "    module.  This function can be used both as a line and cell magic:\n",
       "    \n",
       "    - In line mode you can time a single-line statement (though multiple\n",
       "      ones can be chained with using semicolons).\n",
       "    \n",
       "    - In cell mode, the statement in the first line is used as setup code\n",
       "      (executed but not timed) and the body of the cell is timed.  The cell\n",
       "      body has access to any variables created in the setup code.\n",
       "    \n",
       "    Options:\n",
       "    -n<N>: execute the given statement <N> times in a loop. If <N> is not\n",
       "    provided, <N> is determined so as to get sufficient accuracy.\n",
       "    \n",
       "    -r<R>: number of repeats <R>, each consisting of <N> loops, and take the\n",
       "    average result.\n",
       "    Default: 7\n",
       "    \n",
       "    -t: use time.time to measure the time, which is the default on Unix.\n",
       "    This function measures wall time.\n",
       "    \n",
       "    -c: use time.clock to measure the time, which is the default on\n",
       "    Windows and measures wall time. On Unix, resource.getrusage is used\n",
       "    instead and returns the CPU user time.\n",
       "    \n",
       "    -p<P>: use a precision of <P> digits to display the timing result.\n",
       "    Default: 3\n",
       "    \n",
       "    -q: Quiet, do not print result.\n",
       "    \n",
       "    -o: return a TimeitResult that can be stored in a variable to inspect\n",
       "        the result in more details.\n",
       "    \n",
       "    .. versionchanged:: 7.3\n",
       "        User variables are no longer expanded,\n",
       "        the magic line is always left unmodified.\n",
       "    \n",
       "    Examples\n",
       "    --------\n",
       "    ::\n",
       "    \n",
       "      In [1]: %timeit pass\n",
       "      8.26 ns ± 0.12 ns per loop (mean ± std. dev. of 7 runs, 100000000 loops each)\n",
       "    \n",
       "      In [2]: u = None\n",
       "    \n",
       "      In [3]: %timeit u is None\n",
       "      29.9 ns ± 0.643 ns per loop (mean ± std. dev. of 7 runs, 10000000 loops each)\n",
       "    \n",
       "      In [4]: %timeit -r 4 u == None\n",
       "    \n",
       "      In [5]: import time\n",
       "    \n",
       "      In [6]: %timeit -n1 time.sleep(2)\n",
       "    \n",
       "    The times reported by %timeit will be slightly higher than those\n",
       "    reported by the timeit.py script when variables are accessed. This is\n",
       "    due to the fact that %timeit executes the statement in the namespace\n",
       "    of the shell, compared with timeit.py, which uses a single setup\n",
       "    statement to import function or create variables. Generally, the bias\n",
       "    does not matter as long as results from timeit.py are not mixed with\n",
       "    those from %timeit.\n",
       "%%writefile:\n",
       "    ::\n",
       "    \n",
       "      %writefile [-a] filename\n",
       "    \n",
       "    Write the contents of the cell to a file.\n",
       "    \n",
       "    The file will be overwritten unless the -a (--append) flag is specified.\n",
       "    \n",
       "    positional arguments:\n",
       "      filename      file to write\n",
       "    \n",
       "    options:\n",
       "      -a, --append  Append contents of the cell to an existing file. The file will be created if it does not exist.\n",
       "\n",
       "Summary of magic functions (from %lsmagic):\n",
       "Available line magics:\n",
       "%alias  %alias_magic  %autoawait  %autocall  %automagic  %autosave  %bookmark  %cat  %cd  %clear  %code_wrap  %colors  %conda  %config  %connect_info  %cp  %debug  %dhist  %dirs  %doctest_mode  %ed  %edit  %env  %gui  %hist  %history  %killbgscripts  %ldir  %less  %lf  %lk  %ll  %load  %load_ext  %loadpy  %logoff  %logon  %logstart  %logstate  %logstop  %ls  %lsmagic  %lx  %macro  %magic  %mamba  %man  %matplotlib  %micromamba  %mkdir  %more  %mv  %notebook  %page  %pastebin  %pdb  %pdef  %pdoc  %pfile  %pinfo  %pinfo2  %pip  %popd  %pprint  %precision  %prun  %psearch  %psource  %pushd  %pwd  %pycat  %pylab  %qtconsole  %quickref  %recall  %rehashx  %reload_ext  %rep  %rerun  %reset  %reset_selective  %rm  %rmdir  %run  %save  %sc  %set_env  %store  %sx  %system  %tb  %time  %timeit  %unalias  %unload_ext  %who  %who_ls  %whos  %xdel  %xmode\n",
       "\n",
       "Available cell magics:\n",
       "%%!  %%HTML  %%SVG  %%bash  %%capture  %%code_wrap  %%debug  %%file  %%html  %%javascript  %%js  %%latex  %%markdown  %%perl  %%prun  %%pypy  %%python  %%python2  %%python3  %%ruby  %%script  %%sh  %%svg  %%sx  %%system  %%time  %%timeit  %%writefile\n",
       "\n",
       "Automagic is ON, % prefix IS NOT needed for line magics."
      ]
     },
     "metadata": {},
     "output_type": "display_data"
    }
   ],
   "source": [
    "%magic"
   ]
  },
  {
   "cell_type": "markdown",
   "id": "0bbe651f-6107-4113-bfc7-8093bc5e5047",
   "metadata": {},
   "source": [
    "### Execute Commands\n",
    "You can execute commands from the command line using the exclamation mark at the beginning of a line:"
   ]
  },
  {
   "cell_type": "code",
   "execution_count": 9,
   "id": "ca0b22ea-8d61-4578-957b-8c54625c3f78",
   "metadata": {},
   "outputs": [
    {
     "name": "stdout",
     "output_type": "stream",
     "text": [
      " Assignment.ipynb\t    dog.jpg\n",
      " atsp.txt\t\t    img\n",
      " Augmentation.ipynb\t   'Lin Reg Examples.ipynb'\n",
      "'Balancing Dataset.ipynb'   mathtools.py\n",
      " CIFAR10.ipynb\t\t    model.pickle\n",
      " classifier.pickle\t   'Normalisation and Scaling.ipynb'\n",
      " data\t\t\t    old-notebooks\n",
      "'Day 1 - Afternoon.ipynb'   __pycache__\n",
      "'Day 1 - Morning.ipynb'    'Removed Sections.ipynb'\n",
      "'Day 2 - Afternoon.ipynb'  'Scientific Notation.ipynb'\n",
      "'Day 2 - Morning.ipynb'     XGBoost.ipynb\n"
     ]
    }
   ],
   "source": [
    "! ls"
   ]
  },
  {
   "cell_type": "code",
   "execution_count": 10,
   "id": "cd4d41bc-66f4-4675-809d-4984872f22dd",
   "metadata": {},
   "outputs": [
    {
     "name": "stdout",
     "output_type": "stream",
     "text": [
      "Filesystem      Size  Used Avail Use% Mounted on\n",
      "tmpfs            13G  4.6M   13G   1% /run\n",
      "/dev/nvme0n1p2  1.8T  482G  1.3T  28% /\n",
      "tmpfs            63G  1.2G   62G   2% /dev/shm\n",
      "tmpfs           5.0M  4.0K  5.0M   1% /run/lock\n",
      "/dev/nvme0n1p1  511M  6.1M  505M   2% /boot/efi\n",
      "/dev/sda        7.3T  575G  6.3T   9% /home/mblo/Samsung8TB\n",
      "tmpfs            13G  340K   13G   1% /run/user/1000\n",
      "tmpfs            63G     0   63G   0% /run/qemu\n"
     ]
    }
   ],
   "source": [
    "! df -h"
   ]
  },
  {
   "cell_type": "markdown",
   "id": "1c46dee8-b726-4080-b6b2-d90fdd5921dd",
   "metadata": {},
   "source": [
    "### Documentation\n",
    "Use `?` to access documentation of any function or class\n",
    "\n",
    "For example, we can view the documentation of the build in Python function `open()` which is used to open files on the disk."
   ]
  },
  {
   "cell_type": "code",
   "execution_count": 11,
   "id": "68e368c9-cd37-454e-87b9-1958226f4ad6",
   "metadata": {},
   "outputs": [
    {
     "data": {
      "text/plain": [
       "\u001b[0;31mSignature:\u001b[0m\n",
       "\u001b[0mopen\u001b[0m\u001b[0;34m(\u001b[0m\u001b[0;34m\u001b[0m\n",
       "\u001b[0;34m\u001b[0m    \u001b[0mfile\u001b[0m\u001b[0;34m,\u001b[0m\u001b[0;34m\u001b[0m\n",
       "\u001b[0;34m\u001b[0m    \u001b[0mmode\u001b[0m\u001b[0;34m=\u001b[0m\u001b[0;34m'r'\u001b[0m\u001b[0;34m,\u001b[0m\u001b[0;34m\u001b[0m\n",
       "\u001b[0;34m\u001b[0m    \u001b[0mbuffering\u001b[0m\u001b[0;34m=\u001b[0m\u001b[0;34m-\u001b[0m\u001b[0;36m1\u001b[0m\u001b[0;34m,\u001b[0m\u001b[0;34m\u001b[0m\n",
       "\u001b[0;34m\u001b[0m    \u001b[0mencoding\u001b[0m\u001b[0;34m=\u001b[0m\u001b[0;32mNone\u001b[0m\u001b[0;34m,\u001b[0m\u001b[0;34m\u001b[0m\n",
       "\u001b[0;34m\u001b[0m    \u001b[0merrors\u001b[0m\u001b[0;34m=\u001b[0m\u001b[0;32mNone\u001b[0m\u001b[0;34m,\u001b[0m\u001b[0;34m\u001b[0m\n",
       "\u001b[0;34m\u001b[0m    \u001b[0mnewline\u001b[0m\u001b[0;34m=\u001b[0m\u001b[0;32mNone\u001b[0m\u001b[0;34m,\u001b[0m\u001b[0;34m\u001b[0m\n",
       "\u001b[0;34m\u001b[0m    \u001b[0mclosefd\u001b[0m\u001b[0;34m=\u001b[0m\u001b[0;32mTrue\u001b[0m\u001b[0;34m,\u001b[0m\u001b[0;34m\u001b[0m\n",
       "\u001b[0;34m\u001b[0m    \u001b[0mopener\u001b[0m\u001b[0;34m=\u001b[0m\u001b[0;32mNone\u001b[0m\u001b[0;34m,\u001b[0m\u001b[0;34m\u001b[0m\n",
       "\u001b[0;34m\u001b[0m\u001b[0;34m)\u001b[0m\u001b[0;34m\u001b[0m\u001b[0;34m\u001b[0m\u001b[0m\n",
       "\u001b[0;31mDocstring:\u001b[0m\n",
       "Open file and return a stream.  Raise OSError upon failure.\n",
       "\n",
       "file is either a text or byte string giving the name (and the path\n",
       "if the file isn't in the current working directory) of the file to\n",
       "be opened or an integer file descriptor of the file to be\n",
       "wrapped. (If a file descriptor is given, it is closed when the\n",
       "returned I/O object is closed, unless closefd is set to False.)\n",
       "\n",
       "mode is an optional string that specifies the mode in which the file\n",
       "is opened. It defaults to 'r' which means open for reading in text\n",
       "mode.  Other common values are 'w' for writing (truncating the file if\n",
       "it already exists), 'x' for creating and writing to a new file, and\n",
       "'a' for appending (which on some Unix systems, means that all writes\n",
       "append to the end of the file regardless of the current seek position).\n",
       "In text mode, if encoding is not specified the encoding used is platform\n",
       "dependent: locale.getpreferredencoding(False) is called to get the\n",
       "current locale encoding. (For reading and writing raw bytes use binary\n",
       "mode and leave encoding unspecified.) The available modes are:\n",
       "\n",
       "========= ===============================================================\n",
       "Character Meaning\n",
       "--------- ---------------------------------------------------------------\n",
       "'r'       open for reading (default)\n",
       "'w'       open for writing, truncating the file first\n",
       "'x'       create a new file and open it for writing\n",
       "'a'       open for writing, appending to the end of the file if it exists\n",
       "'b'       binary mode\n",
       "'t'       text mode (default)\n",
       "'+'       open a disk file for updating (reading and writing)\n",
       "'U'       universal newline mode (deprecated)\n",
       "========= ===============================================================\n",
       "\n",
       "The default mode is 'rt' (open for reading text). For binary random\n",
       "access, the mode 'w+b' opens and truncates the file to 0 bytes, while\n",
       "'r+b' opens the file without truncation. The 'x' mode implies 'w' and\n",
       "raises an `FileExistsError` if the file already exists.\n",
       "\n",
       "Python distinguishes between files opened in binary and text modes,\n",
       "even when the underlying operating system doesn't. Files opened in\n",
       "binary mode (appending 'b' to the mode argument) return contents as\n",
       "bytes objects without any decoding. In text mode (the default, or when\n",
       "'t' is appended to the mode argument), the contents of the file are\n",
       "returned as strings, the bytes having been first decoded using a\n",
       "platform-dependent encoding or using the specified encoding if given.\n",
       "\n",
       "'U' mode is deprecated and will raise an exception in future versions\n",
       "of Python.  It has no effect in Python 3.  Use newline to control\n",
       "universal newlines mode.\n",
       "\n",
       "buffering is an optional integer used to set the buffering policy.\n",
       "Pass 0 to switch buffering off (only allowed in binary mode), 1 to select\n",
       "line buffering (only usable in text mode), and an integer > 1 to indicate\n",
       "the size of a fixed-size chunk buffer.  When no buffering argument is\n",
       "given, the default buffering policy works as follows:\n",
       "\n",
       "* Binary files are buffered in fixed-size chunks; the size of the buffer\n",
       "  is chosen using a heuristic trying to determine the underlying device's\n",
       "  \"block size\" and falling back on `io.DEFAULT_BUFFER_SIZE`.\n",
       "  On many systems, the buffer will typically be 4096 or 8192 bytes long.\n",
       "\n",
       "* \"Interactive\" text files (files for which isatty() returns True)\n",
       "  use line buffering.  Other text files use the policy described above\n",
       "  for binary files.\n",
       "\n",
       "encoding is the name of the encoding used to decode or encode the\n",
       "file. This should only be used in text mode. The default encoding is\n",
       "platform dependent, but any encoding supported by Python can be\n",
       "passed.  See the codecs module for the list of supported encodings.\n",
       "\n",
       "errors is an optional string that specifies how encoding errors are to\n",
       "be handled---this argument should not be used in binary mode. Pass\n",
       "'strict' to raise a ValueError exception if there is an encoding error\n",
       "(the default of None has the same effect), or pass 'ignore' to ignore\n",
       "errors. (Note that ignoring encoding errors can lead to data loss.)\n",
       "See the documentation for codecs.register or run 'help(codecs.Codec)'\n",
       "for a list of the permitted encoding error strings.\n",
       "\n",
       "newline controls how universal newlines works (it only applies to text\n",
       "mode). It can be None, '', '\\n', '\\r', and '\\r\\n'.  It works as\n",
       "follows:\n",
       "\n",
       "* On input, if newline is None, universal newlines mode is\n",
       "  enabled. Lines in the input can end in '\\n', '\\r', or '\\r\\n', and\n",
       "  these are translated into '\\n' before being returned to the\n",
       "  caller. If it is '', universal newline mode is enabled, but line\n",
       "  endings are returned to the caller untranslated. If it has any of\n",
       "  the other legal values, input lines are only terminated by the given\n",
       "  string, and the line ending is returned to the caller untranslated.\n",
       "\n",
       "* On output, if newline is None, any '\\n' characters written are\n",
       "  translated to the system default line separator, os.linesep. If\n",
       "  newline is '' or '\\n', no translation takes place. If newline is any\n",
       "  of the other legal values, any '\\n' characters written are translated\n",
       "  to the given string.\n",
       "\n",
       "If closefd is False, the underlying file descriptor will be kept open\n",
       "when the file is closed. This does not work when a file name is given\n",
       "and must be True in that case.\n",
       "\n",
       "A custom opener can be used by passing a callable as *opener*. The\n",
       "underlying file descriptor for the file object is then obtained by\n",
       "calling *opener* with (*file*, *flags*). *opener* must return an open\n",
       "file descriptor (passing os.open as *opener* results in functionality\n",
       "similar to passing None).\n",
       "\n",
       "open() returns a file object whose type depends on the mode, and\n",
       "through which the standard file operations such as reading and writing\n",
       "are performed. When open() is used to open a file in a text mode ('w',\n",
       "'r', 'wt', 'rt', etc.), it returns a TextIOWrapper. When used to open\n",
       "a file in a binary mode, the returned class varies: in read binary\n",
       "mode, it returns a BufferedReader; in write binary and append binary\n",
       "modes, it returns a BufferedWriter, and in read/write mode, it returns\n",
       "a BufferedRandom.\n",
       "\n",
       "It is also possible to use a string or bytearray as a file for both\n",
       "reading and writing. For strings StringIO can be used like a file\n",
       "opened in a text mode, and for bytes a BytesIO can be used like a file\n",
       "opened in a binary mode.\n",
       "\u001b[0;31mType:\u001b[0m      function"
      ]
     },
     "metadata": {},
     "output_type": "display_data"
    }
   ],
   "source": [
    "open?"
   ]
  },
  {
   "cell_type": "markdown",
   "id": "c97843d6-910a-4aee-8eb3-8372b1ad8610",
   "metadata": {},
   "source": [
    "**Note**: you do not write the parentheses:"
   ]
  },
  {
   "cell_type": "code",
   "execution_count": 12,
   "id": "073f3344-37da-4a40-bb9d-0a443eb535eb",
   "metadata": {},
   "outputs": [
    {
     "ename": "SyntaxError",
     "evalue": "invalid syntax (3190824969.py, line 1)",
     "output_type": "error",
     "traceback": [
      "\u001b[0;36m  Cell \u001b[0;32mIn[12], line 1\u001b[0;36m\u001b[0m\n\u001b[0;31m    open()?\u001b[0m\n\u001b[0m          ^\u001b[0m\n\u001b[0;31mSyntaxError\u001b[0m\u001b[0;31m:\u001b[0m invalid syntax\n"
     ]
    }
   ],
   "source": [
    "open()?"
   ]
  },
  {
   "cell_type": "markdown",
   "id": "a6345838-88d3-4ad3-a3d2-a226d4bb71de",
   "metadata": {},
   "source": [
    "### Autocompletion / Intellisense\n",
    "\n",
    "Use `Tab`  to autocomplete your code, such as showing you a list available functions: "
   ]
  },
  {
   "cell_type": "code",
   "execution_count": 13,
   "id": "d065f5d5-ecf2-4b14-b9d9-4a357c07d5d0",
   "metadata": {},
   "outputs": [],
   "source": [
    "a = \"some text\""
   ]
  },
  {
   "cell_type": "code",
   "execution_count": 14,
   "id": "cc37ff73-78d3-4ec7-8da8-2fbe9f2d2f34",
   "metadata": {},
   "outputs": [
    {
     "data": {
      "text/plain": [
       "'Some text'"
      ]
     },
     "execution_count": 14,
     "metadata": {},
     "output_type": "execute_result"
    }
   ],
   "source": [
    "a.capitalize()"
   ]
  },
  {
   "cell_type": "markdown",
   "id": "8966d355-f4c6-48e0-8c59-f623d8dbdc2d",
   "metadata": {},
   "source": [
    "Use `Shift + Tab` to bring up the documentation and the parameters for that function:"
   ]
  },
  {
   "cell_type": "code",
   "execution_count": 15,
   "id": "e6cee3b6-64b3-49ee-ae92-9edffbe9ea29",
   "metadata": {},
   "outputs": [
    {
     "data": {
      "text/plain": [
       "'Some text'"
      ]
     },
     "execution_count": 15,
     "metadata": {},
     "output_type": "execute_result"
    }
   ],
   "source": [
    "a.capitalize()"
   ]
  },
  {
   "cell_type": "markdown",
   "id": "f667f9ff-8294-4cf1-808d-2b1ac776b090",
   "metadata": {},
   "source": [
    "## Keyboard Shortcuts\n",
    "\n",
    "In the help menu, under Help -> Short Keyboard Shortcuts \n",
    "\n",
    "Some I use a lot:\n",
    "\n",
    "- `Esc`: exits edit mode.\n",
    "- `Enter`: enter edit mode.\n",
    "- `A`: create a new cell above\n",
    "- `B`: create a new cell below\n",
    "- `D` + `D`: delete current cell (hit `D` twice in quick succession)\n",
    "- `Y`: Change cell to code cell\n",
    "- `M`: Change cell to text/markdown cell\n",
    "- `Shift` + `L`: show line numbers. This is useful for error messages. "
   ]
  },
  {
   "cell_type": "markdown",
   "id": "1b899c0f-17c5-4272-97bb-02bfcf22c1f4",
   "metadata": {},
   "source": [
    "### Markdown\n",
    "\n",
    "As mentioned, text cells in Jupyter can be formatted using Markdown. \n",
    "\n",
    "Here is the most important Markdown formatting syntax:\n",
    "\n",
    "Headings:\n",
    "```\n",
    "# Header 1\n",
    "## Header 2\n",
    "### Header 3\n",
    "```\n",
    "\n",
    "Text formatting:\n",
    "\n",
    "```\n",
    "Some **bold** text\n",
    "Some *italics* text \n",
    "```\n",
    "\n",
    "Lists:\n",
    "```\n",
    "- a list\n",
    "- of unordered\n",
    "- items\n",
    "\n",
    "1. a list\n",
    "2. of ordered\n",
    "3. items\n",
    "\n",
    "- [x] a list\n",
    "- [ ] of todo\n",
    "- [ ] items\n",
    "```\n",
    "\n",
    "Code:\n",
    "```\n",
    "A `code` sample\n",
    "```\n",
    "Blocks of code use 3 backticks.\n",
    "\n",
    "Horozontal Rule:\n",
    "\n",
    "```\n",
    "---\n",
    "```\n",
    "\n",
    "Links:\n",
    "```\n",
    "[title](https://www.example.com)\n",
    "```\n",
    "or \n",
    "```\n",
    "<https://example.com>\n",
    "```\n",
    "\n",
    "Images:\n",
    "```\n",
    "![Text Description](image.jpg)\n",
    "```\n",
    "\n",
    "See the following guide for a comprehensive list: <https://www.markdownguide.org/cheat-sheet/>"
   ]
  },
  {
   "cell_type": "markdown",
   "id": "2d2d6ebb-9bcd-4c54-8099-49d19fcd215b",
   "metadata": {},
   "source": [
    "### Interactivity\n",
    "\n",
    "We will not cover this, however it is possible to run interactive widgets in Jupyer notebooks. \n",
    "\n",
    "See <https://ipywidgets.readthedocs.io/en/stable/> for more details. \n",
    "\n",
    "Using interactive elements you can have sliders for example, where variables can be adjusted visually and so on.\n",
    "\n",
    "---"
   ]
  },
  {
   "cell_type": "markdown",
   "id": "595b627f-c558-42d0-a84f-1d1bae13b9f6",
   "metadata": {},
   "source": [
    "# Basics of Python\n",
    "\n",
    "Good guide https://swcarpentry.github.io/python-novice-gapminder/04-built-in.html\n",
    "\n",
    "- Variables\n",
    "- Types\n",
    "- Comments\n",
    "- Built-in Functions\n",
    "- Writing Functions\n",
    "- Classes\n",
    "- Modules"
   ]
  },
  {
   "cell_type": "markdown",
   "id": "42556051-6442-4377-8a22-e933e11cd9ae",
   "metadata": {},
   "source": [
    "## What is Python\n",
    "\n",
    "Python is a general purpose programming language. This differs somewhat from R which is much more focussed on statistics and data analysis. For example in Python you can write GUI applications, web applications, server-side applications, as well as use it for systems administration, machine learning, or statistics. It is a very broad language.\n",
    "\n",
    "Therefore, Python has become probably the most popular language in the world, with the exception of perhaps JavaScript, which is used for web development (and is not as general purpose as Python).\n",
    "\n",
    "We will see from the next section that it is a very simple programming language, with minimal syntax.\n",
    "\n",
    "## Variables\n",
    "\n",
    "You declare variables in much the same way as in R:"
   ]
  },
  {
   "cell_type": "code",
   "execution_count": 16,
   "id": "051306aa-e888-4a97-b056-96b8f4d183ce",
   "metadata": {},
   "outputs": [],
   "source": [
    "a = 2"
   ]
  },
  {
   "cell_type": "markdown",
   "id": "6e561562-20be-40ba-9637-ac2b734a599b",
   "metadata": {},
   "source": [
    "Python is **dynamically typed**. This means in Python you do not need to declare which **types** you are using, meaning that you do not need to declare that the variable above is an integer.\n",
    "\n",
    "In other languages you would need to say:\n",
    "\n",
    "```java\n",
    "// Java code\n",
    "int age = 21;\n",
    "String name = \"Marcus\";\n",
    "```\n",
    "\n",
    "What you are doing here is telling Java that `age` will contain an integer and `name` will contain a string.\n",
    "\n",
    "In programming a **type** is the kind of variable. All programming languages will have types such as integers (whole numbers, -3, -2, -1, 0, 1, 2, 3), floats (real numbers, 3.14 or 0.00005), strings (text, \"example\"), collections such as **lists**, **dictionaries**, and **tuples**,  and others.\n",
    "\n",
    "Being dynamically typed doesn't mean Python doesn't have types at all, it just means that they are automatically assigned based on the data. You can find a variable's type at any time using the `type()` function:"
   ]
  },
  {
   "cell_type": "code",
   "execution_count": 17,
   "id": "57e6cce7-923a-46ef-8fbc-776f8053560e",
   "metadata": {},
   "outputs": [
    {
     "data": {
      "text/plain": [
       "int"
      ]
     },
     "execution_count": 17,
     "metadata": {},
     "output_type": "execute_result"
    }
   ],
   "source": [
    "type(a)"
   ]
  },
  {
   "cell_type": "code",
   "execution_count": 18,
   "id": "e392c531-a34d-421f-be09-7226ebdf92f4",
   "metadata": {},
   "outputs": [
    {
     "data": {
      "text/plain": [
       "str"
      ]
     },
     "execution_count": 18,
     "metadata": {},
     "output_type": "execute_result"
    }
   ],
   "source": [
    "type(\"Example\")"
   ]
  },
  {
   "cell_type": "markdown",
   "id": "8d966e9c-ca69-49ec-be35-d716bd4d2f5e",
   "metadata": {},
   "source": [
    "Therefore, if you try to add two variables of different types, Python will try to work out what you are doing:"
   ]
  },
  {
   "cell_type": "code",
   "execution_count": 19,
   "id": "3c9e2b81-e841-4c8a-aa70-d48a91ae1f8f",
   "metadata": {},
   "outputs": [
    {
     "name": "stdout",
     "output_type": "stream",
     "text": [
      "6.5\n"
     ]
    }
   ],
   "source": [
    "a = 2\n",
    "b = 4.5\n",
    "\n",
    "print(a + b)"
   ]
  },
  {
   "cell_type": "code",
   "execution_count": 20,
   "id": "14ff771a-5e89-4e52-bb0a-c1f3711ee9cc",
   "metadata": {},
   "outputs": [
    {
     "data": {
      "text/plain": [
       "int"
      ]
     },
     "execution_count": 20,
     "metadata": {},
     "output_type": "execute_result"
    }
   ],
   "source": [
    "type(a)"
   ]
  },
  {
   "cell_type": "code",
   "execution_count": 21,
   "id": "b0b47e2c-384a-4833-be61-55fe874b97f9",
   "metadata": {},
   "outputs": [
    {
     "data": {
      "text/plain": [
       "float"
      ]
     },
     "execution_count": 21,
     "metadata": {},
     "output_type": "execute_result"
    }
   ],
   "source": [
    "type(b)"
   ]
  },
  {
   "cell_type": "markdown",
   "id": "8c614b2f-d402-4be8-b3cf-2e9a0beb8fa0",
   "metadata": {},
   "source": [
    "Some languages will throw an error for trying this.\n",
    "\n",
    "This automatic type coversion can only go so far, however, as the following demonstrates:"
   ]
  },
  {
   "cell_type": "code",
   "execution_count": 22,
   "id": "e1b27787-294f-42bc-81c5-c274e92d92e8",
   "metadata": {},
   "outputs": [
    {
     "ename": "TypeError",
     "evalue": "unsupported operand type(s) for +: 'int' and 'str'",
     "output_type": "error",
     "traceback": [
      "\u001b[0;31m---------------------------------------------------------------------------\u001b[0m",
      "\u001b[0;31mTypeError\u001b[0m                                 Traceback (most recent call last)",
      "Cell \u001b[0;32mIn[22], line 3\u001b[0m\n\u001b[1;32m      1\u001b[0m a \u001b[38;5;241m=\u001b[39m \u001b[38;5;241m2\u001b[39m\n\u001b[1;32m      2\u001b[0m b \u001b[38;5;241m=\u001b[39m \u001b[38;5;124m\"\u001b[39m\u001b[38;5;124m4.5\u001b[39m\u001b[38;5;124m\"\u001b[39m\n\u001b[0;32m----> 3\u001b[0m \u001b[38;5;28mprint\u001b[39m(\u001b[38;5;241;43m2\u001b[39;49m\u001b[43m \u001b[49m\u001b[38;5;241;43m+\u001b[39;49m\u001b[43m \u001b[49m\u001b[43mb\u001b[49m)\n",
      "\u001b[0;31mTypeError\u001b[0m: unsupported operand type(s) for +: 'int' and 'str'"
     ]
    }
   ],
   "source": [
    "a = 2\n",
    "b = \"4.5\"\n",
    "print(2 + b)"
   ]
  },
  {
   "cell_type": "markdown",
   "id": "f619b5fe-dec2-4c32-833d-16a7073e3974",
   "metadata": {},
   "source": [
    "The solution to this is to **cast** your variable:"
   ]
  },
  {
   "cell_type": "code",
   "execution_count": 23,
   "id": "eb76024a-2180-45fa-b2c2-8b3893a65083",
   "metadata": {},
   "outputs": [
    {
     "name": "stdout",
     "output_type": "stream",
     "text": [
      "6.5\n"
     ]
    }
   ],
   "source": [
    "a = 2\n",
    "b = \"4.5\"\n",
    "\n",
    "print(2 + float(b))"
   ]
  },
  {
   "cell_type": "markdown",
   "id": "8806885d-e474-4471-96f0-c1b2a926bd43",
   "metadata": {},
   "source": [
    "## Collections\n",
    "\n",
    "There are 4 collection types in Python, and you will come across all of them in Machine Learning tasks.\n",
    "\n",
    "You can think of collections as lists of items, and each of the 4 collection types have their own distinct properties and characteristics.\n",
    "\n",
    "The 4 collection types are:\n",
    "\n",
    "- Lists\n",
    "- Dictionaries\n",
    "- Sets\n",
    "- Tuples\n",
    "\n",
    "### Lists\n",
    "\n",
    "Lists are unsurprinsingly lists of objects. They can be numerical or text, or mixed. \n",
    "\n",
    "- Lists are **mutable**, that means they can be changed after they have been declared. \n",
    "- Lists are **ordered**, meaning their order is defined meaning they will maintain the order in which you added the elements, unless you explicitly change this. \n",
    "- You create lists by placing items inside square brackets `[]`, separated by commas.\n",
    "- Lists **allow duplicates**: they can contain multiple occurrences of the same element.\n",
    "\n",
    "Use lists when you have a collection of items where order matters and you might need to change the items (add, remove, or change).\n",
    "\n",
    "### Sets\n",
    "\n",
    "Sets are like mathematical sets. Here are some of the properties of sets:\n",
    "\n",
    "- **Mutable**: You can add or remove elements from a set\n",
    "- **Unordered**: Sets do not record element position or order of insertion. Why might ask why? This can make them very fast and are useful for containing many millions of elements.\n",
    "- You create sets by placing items inside curly brackets {}, or using the `set()` function.\n",
    "- **Duplicates are not allowed**: A set cannot contain multiple occurrences of the same element.\n",
    "\n",
    "Usage: Use sets when you need to ensure that an element only appears once in a collection, often used for membership testing, removing duplicates (if you convert a list in to a set, you can very quickly get all unique elements in the list with one quick statement). Also, they are used for mathematical set operations, such as intersection, union, and difference.\n",
    "\n",
    "\n",
    "### Dictionaries\n",
    "\n",
    "Dictionaries are different in that they are arranged in key-value pairs. We will see dictionaries often later.\n",
    "\n",
    "- **Mutable: You can change, add, or delete key-value pairs after the dictionary is created.\n",
    "- Ordered, since Python 3.7 - generally this does not matter, as dictionaries are normally accessed via their keys.\n",
    "- Syntax: Created with curly brackets {} containing key-value pairs separated by colons, in the form {'key': 'value'}.\n",
    "- **Unique Keys**: The keys have to be unique, but values can be duplicated.\n",
    "\n",
    "Usage: Use dictionaries when you need to associate a  unique key with a values.\n",
    "\n",
    "We will see dictionaries used a lot during the course, but here is an example, so that it is clear what we mean by key-value pair:\n",
    "\n",
    "```python\n",
    "d = {'name': 'marcus', 'age': 21}\n",
    "```\n",
    "\n",
    "You can access a particular value using its key, as follows:\n",
    "\n",
    "```python\n",
    "d['name']\n",
    ">>> marcus\n",
    "```\n",
    "\n",
    "### Tuples\n",
    "\n",
    "Tuples are immutable (unchangeable), ordered, and can contain duplicate items.\n",
    "\n",
    "- **Immutable**: Once a tuple is created, you cannot change it, cannot add elements to it, or remove elements from it\n",
    "- Ordered: The items have a defined order\n",
    "- Syntax: Created by placing items inside parentheses `()`, separated by commas\n",
    "- Duplicates are allowed: Tuples can contain multiple occurrences of the same element\n",
    "\n",
    "Usage: Use tuples when you have an ordered collection of items that should never change! \n",
    "\n",
    "## Control Flow\n",
    "\n",
    "So you should of course all be aware of if, else, elif:\n",
    "\n",
    "```python\n",
    "if a < b:\n",
    "    print('Computer says no')\n",
    "else:\n",
    "    print('Computer says yes')\n",
    "```\n",
    "\n",
    "and \n",
    "\n",
    "```python\n",
    "if a == '+':\n",
    "    op = PLUS\n",
    "elif a == '-':\n",
    "    op = MINUS\n",
    "elif a == '*':\n",
    "    op = TIMES\n",
    "else:\n",
    "    op = UNKNOWN\n",
    "```\n",
    "\n",
    "## Loops\n",
    "\n",
    "The `for` loop in Python is most common type of loop. It simply iterates over all elements of a list for example. \n",
    "\n",
    "We will see this many times, during the seminar.\n",
    "\n",
    "If you are looping over a list, a very useful function to know is `enumerate()`. This goes over the entire list, but also returns its index. I will cover this later.\n",
    "\n",
    "There is also the `while` loop, which we do not come across during this seminar.\n",
    "\n",
    "## Functions\n",
    "\n",
    "Functions are very similar to those in R or other languages. \n",
    "\n",
    "You define a new function using `def`:\n",
    "\n",
    "```python\n",
    "def my_function(name):\n",
    "    print(f\"Hello {name}\")\n",
    "```\n",
    "\n",
    "and call a function as follows:\n",
    "\n",
    "```python\n",
    "my_function('marcus')\n",
    ">>> Hello marcus\n",
    "```\n",
    "\n",
    "## Packages\n",
    "\n",
    "Python packages are available via the *Python Package Index*, know simply as *PyPI* and packages can be installed using `pip`, which installs packages from the PyPI repository. \n",
    "\n",
    "We can take a look at the PyPI now: <https://pypi.org>\n",
    "\n",
    "You install a package using the `pip install` command, so for example:\n",
    "\n",
    "```\n",
    "$ pip insall numpy\n",
    "```\n",
    "\n",
    "However, before you install anything, you should be aware of virtual enviroments.\n",
    "\n",
    "## Virtual Environments\n",
    "\n",
    "It is highly recommended that you create virtual environments for each of your projects. \n",
    "\n",
    "So what is a virtual environment? Basically it is an isolated Python environment. \n",
    "\n",
    "When you run the `python` command from the command line, you are running the system-side installed Python environment. It is recommended that you do not really install many packages to the system Python. \n",
    "\n",
    "Instead you should use virtual environments. Basically, for each project that you are working on, you should use a seperate virtual environment. \n",
    "\n",
    "Why do this? \n",
    "\n",
    "Some projects will require many different packages, and some packages depend on certain verions of other packages. If, for example, a package requires version 1.5 of NumPy, but another project requires at most version 1.4, then you will have a dependency conflict and these can be difficult to solve. Therefore, it is much easier to manage smaller virtual environments for each project. \n",
    "\n",
    "Create a virtual environment using Python's built-in `venv` tool. You want to do this in the root directory of your current project. \n",
    "\n",
    "```bash\n",
    "$ python -m venv my-new-virtual-env\n",
    "```\n",
    "\n",
    "This creates a new virtual enviroment called `my-new-virtual-env` in the current directory, under the directory `./my-new-virtual-env`.\n",
    "\n",
    "Within this `./my-new-virtual-env` there is a new, fresh Python environment. All you need to do now is declare this virtual environment as active:\n",
    "\n",
    "```bash\n",
    "$ source ./my-new-virtual-env/bin/activate\n",
    "```\n",
    "\n",
    "or in Windows:\n",
    "\n",
    "```cmd\n",
    "myenv\\Scripts\\activate\n",
    "```\n",
    "\n",
    "and your virtual environment will now be active. Anything you do within this environment will not affect the system version of Python, nor will it affect any other virtual enviroment.\n",
    "\n",
    "You will know you are in a virtual enviroment, as your command line shell will change its appearance, and look something like this:\n",
    "\n",
    "```bash\n",
    "(my-new-virtual-env) $\n",
    "```\n",
    "\n",
    "where the name of the current virtual environment will appears before the prompt.\n",
    "\n",
    "## Python Tips\n",
    "\n",
    "Here are a few tips that you should be aware of that I have found useful after many years of Python programming :) \n",
    "\n",
    "### Python Interactive Mode\n",
    "\n",
    "You know you can run Python scripts from the command line using: \n",
    "\n",
    "```bash\n",
    "$ python my_script.py\n",
    "hello world\n",
    "$\n",
    "```\n",
    "\n",
    "However, it can be difficult to debug these scripts, as if you encounter an error, the script will terminate and you will be dumped back to the command line. \n",
    "\n",
    "What is much more useful is to use `-i` to run a script in interactive mode: \n",
    "\n",
    "```bash\n",
    "$ python -i my_script.py\n",
    ">>>\n",
    "```\n",
    "\n",
    "This runs the script, but keeps you within an interactive session, so that you can inspect variables and so on.\n",
    "\n",
    "### Looping Over A Collection\n",
    "\n",
    "Imagine you have a list of colours: `[\"red\", \"blue\", \"green\", \"orange\"]` and you wanted to loop over it, you might be inclined to write something like:"
   ]
  },
  {
   "cell_type": "code",
   "execution_count": 24,
   "id": "bda83a64-0842-4e1f-9b3a-bf25c97aa504",
   "metadata": {},
   "outputs": [
    {
     "name": "stdout",
     "output_type": "stream",
     "text": [
      "red\n",
      "blue\n",
      "green\n",
      "orange\n"
     ]
    }
   ],
   "source": [
    "colours = [\"red\", \"blue\", \"green\", \"orange\"]\n",
    "\n",
    "for i in range(len(colours)):\n",
    "    print(colours[i])"
   ]
  },
  {
   "cell_type": "markdown",
   "id": "796e0ead-fbf8-4b66-b0a7-e508d3241f0c",
   "metadata": {},
   "source": [
    "If you came from C or some other language, you might do this intuitively. \n",
    "\n",
    "In Python this is much easier:"
   ]
  },
  {
   "cell_type": "code",
   "execution_count": 25,
   "id": "53f073c5-7f09-4aac-8cc0-46f6f58f88f2",
   "metadata": {},
   "outputs": [
    {
     "name": "stdout",
     "output_type": "stream",
     "text": [
      "red\n",
      "blue\n",
      "green\n",
      "orange\n"
     ]
    }
   ],
   "source": [
    "for colour in colours:\n",
    "    print(colour)"
   ]
  },
  {
   "cell_type": "markdown",
   "id": "735dc2cf-a348-4d72-af5c-a9e91d7e6606",
   "metadata": {},
   "source": [
    "### Removing items from a list\n",
    "\n",
    "One thing that can catch you out often, is removing items from a list while you are interating over it:\n",
    "\n",
    "```python\n",
    "for colour in colours:\n",
    "    if colour == \"red\":\n",
    "        colours.remove(colour)\n",
    "```\n",
    "\n",
    "This will cause lots of issues. Never add or remove items from a list you are iterating over! Instead use `copy()`:"
   ]
  },
  {
   "cell_type": "code",
   "execution_count": 26,
   "id": "a2f575ae-7d36-4cc3-8b4c-12a4e3007557",
   "metadata": {},
   "outputs": [],
   "source": [
    "for colour in colours.copy():\n",
    "    if colour == \"red\":\n",
    "        colours.remove(colour)"
   ]
  },
  {
   "cell_type": "code",
   "execution_count": 27,
   "id": "979b4e3f-8992-4132-be35-9fd5b9491f63",
   "metadata": {},
   "outputs": [
    {
     "data": {
      "text/plain": [
       "['blue', 'green', 'orange']"
      ]
     },
     "execution_count": 27,
     "metadata": {},
     "output_type": "execute_result"
    }
   ],
   "source": [
    "colours"
   ]
  },
  {
   "cell_type": "markdown",
   "id": "0cb34234-847d-4cc9-aa75-7d103b797c10",
   "metadata": {},
   "source": [
    "### The `reversed` keyword\n",
    "\n",
    "How would you iterate over a list backwards?\n",
    "\n",
    "You might say something like:"
   ]
  },
  {
   "cell_type": "code",
   "execution_count": 28,
   "id": "44c19d36-3b98-40fa-8362-02120bd40fa3",
   "metadata": {},
   "outputs": [
    {
     "name": "stdout",
     "output_type": "stream",
     "text": [
      "orange\n",
      "green\n",
      "blue\n"
     ]
    }
   ],
   "source": [
    "for i in range(len(colours)-1, -1, -1):\n",
    "    print(colours[i])"
   ]
  },
  {
   "cell_type": "markdown",
   "id": "63101a38-8037-43ff-9af7-7b733eaed4a4",
   "metadata": {},
   "source": [
    "This works, but it is much easier to use the `reversed` keyword:"
   ]
  },
  {
   "cell_type": "code",
   "execution_count": 29,
   "id": "aba45276-2e36-4b08-bec1-9969a788488a",
   "metadata": {},
   "outputs": [
    {
     "name": "stdout",
     "output_type": "stream",
     "text": [
      "orange\n",
      "green\n",
      "blue\n"
     ]
    }
   ],
   "source": [
    "for colour in reversed(colours):\n",
    "    print(colour)"
   ]
  },
  {
   "cell_type": "markdown",
   "id": "de842646-68bc-4ed7-af85-9239f2c5ac62",
   "metadata": {},
   "source": [
    "### Looping with indices\n",
    "\n",
    "Notice above we looped over the items and didn't have their indices. What if you needed their indices? You could say:"
   ]
  },
  {
   "cell_type": "code",
   "execution_count": 30,
   "id": "64ef06ab-3750-4abc-8b0b-70e16f84b8d2",
   "metadata": {},
   "outputs": [
    {
     "name": "stdout",
     "output_type": "stream",
     "text": [
      "0  -->  red\n",
      "1  -->  green\n",
      "2  -->  yellow\n",
      "3  -->  orange\n",
      "4  -->  purple\n"
     ]
    }
   ],
   "source": [
    "colours = ['red', 'green', 'yellow', 'orange', 'purple']\n",
    "\n",
    "for i in range(len(colours)):\n",
    "    print(i, \" --> \", colours[i])"
   ]
  },
  {
   "cell_type": "markdown",
   "id": "6dbf1dcd-8155-43f6-bea9-e0f3ea72b9b4",
   "metadata": {},
   "source": [
    "This is the C way. In Python just use `enumerate`:"
   ]
  },
  {
   "cell_type": "code",
   "execution_count": 31,
   "id": "7fb63c6f-dad8-485d-9a4e-6100fcfe9273",
   "metadata": {},
   "outputs": [
    {
     "name": "stdout",
     "output_type": "stream",
     "text": [
      "0  -->  red\n",
      "1  -->  green\n",
      "2  -->  yellow\n",
      "3  -->  orange\n",
      "4  -->  purple\n"
     ]
    }
   ],
   "source": [
    "for i, colour in enumerate(colours):\n",
    "    print(i, \" --> \", colour)"
   ]
  },
  {
   "cell_type": "markdown",
   "id": "3eff5170-4029-48ff-b9a3-71a6bd4f0cc7",
   "metadata": {},
   "source": [
    "### The `zip` keyword\n",
    "\n",
    "Imagine you had two lists:"
   ]
  },
  {
   "cell_type": "code",
   "execution_count": 32,
   "id": "946f7bd3-0d5e-4fa7-9847-7db8f7d23d1d",
   "metadata": {},
   "outputs": [],
   "source": [
    "names = [\"Matilda\", \"Theo\", \"Liam\"]\n",
    "colours = ['red', 'green', 'yellow', 'orange', 'purple']"
   ]
  },
  {
   "cell_type": "markdown",
   "id": "0022094c-f52a-4991-92d5-a44362b45900",
   "metadata": {},
   "source": [
    "And you want to loop over both lists, pairwise, one at a time. How would you do this?\n",
    "\n",
    "You could say:"
   ]
  },
  {
   "cell_type": "code",
   "execution_count": 33,
   "id": "e88b815e-0450-448b-8f23-a25e7fb1399a",
   "metadata": {},
   "outputs": [
    {
     "name": "stdout",
     "output_type": "stream",
     "text": [
      "Matilda  -->  red\n",
      "Theo  -->  green\n",
      "Liam  -->  yellow\n"
     ]
    }
   ],
   "source": [
    "n = min(len(names), len(colours))\n",
    "\n",
    "for i in range(n):\n",
    "    print(names[i], \" --> \", colours[i])"
   ]
  },
  {
   "cell_type": "markdown",
   "id": "960a6738-bdb3-4b35-a580-94363be5463c",
   "metadata": {},
   "source": [
    "This works but in Python there is of course a better way, by using the `zip` keyword:"
   ]
  },
  {
   "cell_type": "code",
   "execution_count": 34,
   "id": "dc68ee30-8b15-4c57-bade-1e2d6f6b2f85",
   "metadata": {},
   "outputs": [
    {
     "name": "stdout",
     "output_type": "stream",
     "text": [
      "Matilda  -->  red\n",
      "Theo  -->  green\n",
      "Liam  -->  yellow\n"
     ]
    }
   ],
   "source": [
    "for name, colour in zip(names, colours):\n",
    "    print(name, \" --> \", colour)"
   ]
  },
  {
   "cell_type": "markdown",
   "id": "039ca385-3264-4b27-a2db-b418edf5a530",
   "metadata": {},
   "source": [
    "If the lists are differnet lengths, it operates on the length of the shortest list:"
   ]
  },
  {
   "cell_type": "code",
   "execution_count": 35,
   "id": "ef0d48e3-c923-46bd-a931-3dfebb89e5a1",
   "metadata": {},
   "outputs": [
    {
     "data": {
      "text/plain": [
       "[('a', 1), ('b', 2)]"
      ]
     },
     "execution_count": 35,
     "metadata": {},
     "output_type": "execute_result"
    }
   ],
   "source": [
    "list(zip(['a','b','c'], [1,2]))"
   ]
  },
  {
   "cell_type": "markdown",
   "id": "07b6a234-ec96-46b1-9903-338103b3aa1d",
   "metadata": {},
   "source": [
    "### Looping in sorted order\n",
    "\n",
    "You can use the `sorted()` function to loop in sorted order: "
   ]
  },
  {
   "cell_type": "code",
   "execution_count": 36,
   "id": "b6be9455-8604-477e-860c-1148ec947e6b",
   "metadata": {},
   "outputs": [
    {
     "name": "stdout",
     "output_type": "stream",
     "text": [
      "green\n",
      "orange\n",
      "purple\n",
      "red\n",
      "yellow\n"
     ]
    }
   ],
   "source": [
    "for colour in sorted(colours):\n",
    "    print(colour)"
   ]
  },
  {
   "cell_type": "markdown",
   "id": "6e6c7cf9-c9dd-4cea-a4cb-952ac66495ee",
   "metadata": {},
   "source": [
    "What if you wanted reverse order? You can pass the argument `reverse=True`:"
   ]
  },
  {
   "cell_type": "code",
   "execution_count": 37,
   "id": "c5051b2c-9f2b-4851-adf0-e3d53f0a077b",
   "metadata": {},
   "outputs": [
    {
     "name": "stdout",
     "output_type": "stream",
     "text": [
      "yellow\n",
      "red\n",
      "purple\n",
      "orange\n",
      "green\n"
     ]
    }
   ],
   "source": [
    "for colour in sorted(colours, reverse=True):\n",
    "    print(colour)"
   ]
  },
  {
   "cell_type": "markdown",
   "id": "1c213a12-3c39-49bd-8463-fbff49c02d3f",
   "metadata": {},
   "source": [
    "### Removing Items from a Dictionary\n",
    "\n",
    "It is very easy to loop over a dictionary in Python. Imagine you had the following dictionary:"
   ]
  },
  {
   "cell_type": "code",
   "execution_count": 38,
   "id": "25c21c92-7e91-435b-b755-82b6a68a2b14",
   "metadata": {},
   "outputs": [],
   "source": [
    "d = {'matilda': 'red', 'oscar': 'green', 'liam': 'yellow'}"
   ]
  },
  {
   "cell_type": "code",
   "execution_count": 39,
   "id": "5916a338-d29b-48dd-b278-84ec8ce64ead",
   "metadata": {},
   "outputs": [
    {
     "name": "stdout",
     "output_type": "stream",
     "text": [
      "matilda\n",
      "oscar\n",
      "liam\n"
     ]
    }
   ],
   "source": [
    "for k in d:\n",
    "    print(k)"
   ]
  },
  {
   "cell_type": "markdown",
   "id": "e56433eb-0fed-43b1-a901-ef5e4fff9049",
   "metadata": {},
   "source": [
    "Notice that `k` contains the keys, as this is often what you want to loop over, and access it's contents within the loop.\n",
    "\n",
    "If you want to delete an item as you loop over it, use `list()` to get a copy of the dictionary's keys, and then use `del()`:"
   ]
  },
  {
   "cell_type": "code",
   "execution_count": 40,
   "id": "fa995490-9570-42d6-9718-cec31779ed60",
   "metadata": {},
   "outputs": [],
   "source": [
    "for k in list(d.keys()):\n",
    "    if k.startswith('l'):\n",
    "        del d[k]"
   ]
  },
  {
   "cell_type": "code",
   "execution_count": 41,
   "id": "023441fe-dc90-42f6-b107-4aad4ccbe609",
   "metadata": {},
   "outputs": [
    {
     "data": {
      "text/plain": [
       "{'matilda': 'red', 'oscar': 'green'}"
      ]
     },
     "execution_count": 41,
     "metadata": {},
     "output_type": "execute_result"
    }
   ],
   "source": [
    "d"
   ]
  },
  {
   "cell_type": "markdown",
   "id": "44c8fa3b-366a-48df-b215-b0d808864dd4",
   "metadata": {},
   "source": [
    "Again, you don't want to be deleting items from anything you are lopping over."
   ]
  },
  {
   "cell_type": "markdown",
   "id": "4920856d-f47f-48b1-886a-96a99736bb24",
   "metadata": {},
   "source": [
    "### The `range()` function\n",
    "\n",
    "The `range()` function is very useful for creating arrays of dummy data, etc.\n",
    "\n",
    "For example, for the numbers 0 to 9:"
   ]
  },
  {
   "cell_type": "code",
   "execution_count": 42,
   "id": "04bec8e6-056e-4c84-8d69-b3a735ccc233",
   "metadata": {},
   "outputs": [
    {
     "name": "stdout",
     "output_type": "stream",
     "text": [
      "0\n",
      "1\n",
      "2\n",
      "3\n",
      "4\n",
      "5\n",
      "6\n",
      "7\n",
      "8\n",
      "9\n"
     ]
    }
   ],
   "source": [
    "for i in range(10):\n",
    "    print(i)"
   ]
  },
  {
   "cell_type": "markdown",
   "id": "6959e54c-0ff7-4c73-ba04-f9902de00b28",
   "metadata": {},
   "source": [
    "When passing only one value n, you get the values 0 to n, not including n. \n",
    "\n",
    "The function actually takes the form `range([start,] end [,step])` so that you can say the following also, for example:"
   ]
  },
  {
   "cell_type": "code",
   "execution_count": 43,
   "id": "8260f741-14cb-42ca-bd60-e022f3e9e023",
   "metadata": {},
   "outputs": [
    {
     "name": "stdout",
     "output_type": "stream",
     "text": [
      "10\n",
      "11\n",
      "12\n",
      "13\n",
      "14\n",
      "15\n",
      "16\n",
      "17\n",
      "18\n",
      "19\n"
     ]
    }
   ],
   "source": [
    "for j in range(10,20):\n",
    "    print(j)"
   ]
  },
  {
   "cell_type": "markdown",
   "id": "45636a57-940c-4bbe-aea4-b4390c51e04e",
   "metadata": {},
   "source": [
    "Here you passing the start and end values. It includes the start value, but does not include the end value.\n",
    "\n",
    "Also you can specify a step also, for example:"
   ]
  },
  {
   "cell_type": "code",
   "execution_count": 44,
   "id": "2fc917cc-cd53-4385-9d3a-d43b5a0ca708",
   "metadata": {},
   "outputs": [
    {
     "name": "stdout",
     "output_type": "stream",
     "text": [
      "10\n",
      "12\n",
      "14\n",
      "16\n",
      "18\n"
     ]
    }
   ],
   "source": [
    "for k in range(10,20,2):\n",
    "    print(k)"
   ]
  },
  {
   "cell_type": "markdown",
   "id": "dd6c7f86-04ba-48ef-ae57-67dec27db8d5",
   "metadata": {},
   "source": [
    "## The `any()` and `all()` functions\n",
    "\n",
    "The `any()` and `all()` functions are often forgotten even to experienced Python programmers:"
   ]
  },
  {
   "cell_type": "code",
   "execution_count": 45,
   "id": "f5c57494-9e79-4254-9b2c-d83663819727",
   "metadata": {},
   "outputs": [
    {
     "data": {
      "text/plain": [
       "True"
      ]
     },
     "execution_count": 45,
     "metadata": {},
     "output_type": "execute_result"
    }
   ],
   "source": [
    "a = [False, True, True, True]\n",
    "any(a)"
   ]
  },
  {
   "cell_type": "code",
   "execution_count": 46,
   "id": "8158b3c5-e6ec-4db5-8d32-49dc843d1d17",
   "metadata": {},
   "outputs": [
    {
     "data": {
      "text/plain": [
       "False"
      ]
     },
     "execution_count": 46,
     "metadata": {},
     "output_type": "execute_result"
    }
   ],
   "source": [
    "all(a)"
   ]
  },
  {
   "cell_type": "markdown",
   "id": "3d6af55a-6d49-4e57-8611-40276ed679b0",
   "metadata": {},
   "source": [
    "This works not only for Booleans, but also for what might commonly evaluate as true false:"
   ]
  },
  {
   "cell_type": "code",
   "execution_count": 47,
   "id": "80f939f2-1a83-46dd-9350-3b7eb0f5a4b7",
   "metadata": {},
   "outputs": [
    {
     "data": {
      "text/plain": [
       "True"
      ]
     },
     "execution_count": 47,
     "metadata": {},
     "output_type": "execute_result"
    }
   ],
   "source": [
    "a = [0, 0, 0, 0, 1]\n",
    "any(a)"
   ]
  },
  {
   "cell_type": "code",
   "execution_count": 48,
   "id": "6d02ecbd-7aa1-478d-91c9-aa3e386d91ce",
   "metadata": {},
   "outputs": [
    {
     "data": {
      "text/plain": [
       "False"
      ]
     },
     "execution_count": 48,
     "metadata": {},
     "output_type": "execute_result"
    }
   ],
   "source": [
    "all(a)"
   ]
  },
  {
   "cell_type": "markdown",
   "id": "396933d0-6be2-48e1-9472-41c912807b8e",
   "metadata": {},
   "source": [
    "## Printing\n",
    "\n",
    "There are several ways to print using Python, which is slightly annoying as you will see various examples of each whenever you are looking for code. \n",
    "\n",
    "The cleanest and most modern way to print is using f-strings (formatted strings), and we will use those exclusively in these seminars.\n",
    "\n",
    "You define an f-string using `f` before the string's inverted commas:\n",
    "\n",
    "```python\n",
    "f\"This is a formatted string.\"\n",
    "```\n",
    "\n",
    "You will see this most often within `print()` statements.\n",
    "\n",
    "With f-strings, you can place variables within your strings using curly brackets:"
   ]
  },
  {
   "cell_type": "code",
   "execution_count": 49,
   "id": "249e9d46-35ab-4a06-acb2-7739ef043517",
   "metadata": {},
   "outputs": [
    {
     "name": "stdout",
     "output_type": "stream",
     "text": [
      "Welcome, ATSP 2024 Students!\n"
     ]
    }
   ],
   "source": [
    "greeting = 'ATSP 2024 Students'\n",
    "\n",
    "print(f\"Welcome, {greeting}!\")"
   ]
  },
  {
   "cell_type": "markdown",
   "id": "07a77e40-777a-4c2c-982a-ab73db0cf066",
   "metadata": {},
   "source": [
    "Code within the brackets are actually interpreted:"
   ]
  },
  {
   "cell_type": "code",
   "execution_count": 50,
   "id": "125f3fe8-6c12-4113-b073-86ef3436af54",
   "metadata": {},
   "outputs": [
    {
     "name": "stdout",
     "output_type": "stream",
     "text": [
      "x: 3, y: 6, sum: 9\n"
     ]
    }
   ],
   "source": [
    "x = 3\n",
    "y = 6\n",
    "print(f\"x: {x}, y: {y}, sum: {x + y}\")"
   ]
  },
  {
   "cell_type": "markdown",
   "id": "1f18e495-3e53-4277-a763-cf549dd283b3",
   "metadata": {},
   "source": [
    "One thing you will do a lot is format very long floats in to something more readable. \n",
    "\n",
    "Most algorithms return probabilities that are very long, such as 0.78667479273278, which has far too much precision for human reading:"
   ]
  },
  {
   "cell_type": "code",
   "execution_count": 51,
   "id": "fe5c81ba-62ad-46e6-acdf-a489acb5a5f1",
   "metadata": {},
   "outputs": [
    {
     "name": "stdout",
     "output_type": "stream",
     "text": [
      "Class probability: 0.7866747927327847\n"
     ]
    }
   ],
   "source": [
    "probability = 0.78667479273278472914\n",
    "\n",
    "print(f\"Class probability: {probability}\")"
   ]
  },
  {
   "cell_type": "markdown",
   "id": "ba110928-6666-4d44-a9bb-467c56c1c6ba",
   "metadata": {},
   "source": [
    "Using a `:` you can define how a variable is printed:"
   ]
  },
  {
   "cell_type": "code",
   "execution_count": 52,
   "id": "51c31aa2-9782-4f0b-97f3-ffdb5b0cc95f",
   "metadata": {},
   "outputs": [
    {
     "name": "stdout",
     "output_type": "stream",
     "text": [
      "Class probability: 0.787\n"
     ]
    }
   ],
   "source": [
    "print(f\"Class probability: {probability:.3f}\")"
   ]
  },
  {
   "cell_type": "markdown",
   "id": "1083371e-b90c-4ade-b5c3-20d8e9e38e8e",
   "metadata": {},
   "source": [
    "You can specify that you wish to have either 2 or 3 significant digits, and by passing `f` you tell it this is a float and therefore can be rounded."
   ]
  },
  {
   "cell_type": "markdown",
   "id": "f29bb876-0531-47c7-b776-af5df428304e",
   "metadata": {},
   "source": [
    "Large numbers can also be be printed using thousand seperators:"
   ]
  },
  {
   "cell_type": "code",
   "execution_count": 53,
   "id": "4c0ac3fd-13ac-4265-9cb8-32262871e3f8",
   "metadata": {},
   "outputs": [
    {
     "name": "stdout",
     "output_type": "stream",
     "text": [
      "Samples: 7,630,726,492,344.89\n"
     ]
    }
   ],
   "source": [
    "large_n = 7630726492344.8934\n",
    "\n",
    "print(f\"Samples: {large_n:,.2f}\")"
   ]
  },
  {
   "cell_type": "markdown",
   "id": "69833db6-c71a-43f7-b86e-34f3af317941",
   "metadata": {},
   "source": [
    "Often you will work with percentages:"
   ]
  },
  {
   "cell_type": "code",
   "execution_count": 54,
   "id": "847c57f8-49e2-40c4-8545-e8b9f93fc902",
   "metadata": {},
   "outputs": [
    {
     "name": "stdout",
     "output_type": "stream",
     "text": [
      "Percentage: 25.60%\n"
     ]
    }
   ],
   "source": [
    "percent = 0.256\n",
    "print(f\"Percentage: {percent:.2%}\")"
   ]
  },
  {
   "cell_type": "markdown",
   "id": "e5918f01-8f8d-42d4-b132-786aef972eab",
   "metadata": {},
   "source": [
    "Alignment can be done by specifying the preceding number of digits:"
   ]
  },
  {
   "cell_type": "code",
   "execution_count": 55,
   "id": "d76c3557-137e-4bed-b761-0b6fddc81117",
   "metadata": {},
   "outputs": [
    {
     "name": "stdout",
     "output_type": "stream",
     "text": [
      "Class ID: 423\n",
      "Class ID:  23\n",
      "Class ID:   9\n",
      "Class ID: 810\n",
      "Class ID:  10\n"
     ]
    }
   ],
   "source": [
    "class_ids = [423, 23, 9, 810, 10]\n",
    "\n",
    "for class_id in class_ids:\n",
    "    print(f\"Class ID: {class_id:3.0f}\")"
   ]
  },
  {
   "cell_type": "markdown",
   "id": "2bca4969-7640-451e-bb4a-65810c026acc",
   "metadata": {},
   "source": [
    "Just to give you an example of how strings can also be printed in Python:"
   ]
  },
  {
   "cell_type": "code",
   "execution_count": 56,
   "id": "ee01a942-aef3-481f-89a6-427e3c37a8d1",
   "metadata": {},
   "outputs": [
    {
     "name": "stdout",
     "output_type": "stream",
     "text": [
      "On Thursday it will be 13°C\n",
      "On Thursday it will be 13°C\n"
     ]
    }
   ],
   "source": [
    "temp = 13\n",
    "day = 'Thursday'\n",
    "\n",
    "# Old way\n",
    "print(\"On %s it will be %s°C\" % (day, temp))\n",
    "\n",
    "# New way\n",
    "print(f\"On {day} it will be {temp}°C\")"
   ]
  },
  {
   "cell_type": "markdown",
   "id": "582d2b09-0a22-4651-ab85-edd4575c51cf",
   "metadata": {},
   "source": [
    "The old way gets very difficult if you have 10 variables you want to print. Then you have to literally count the occurances of `%s` to find the variable you want to change and also ensure that they are in the right order in the tuple at the end of the string."
   ]
  },
  {
   "cell_type": "markdown",
   "id": "dfae437c-8f8d-483f-bcfc-01a846427feb",
   "metadata": {},
   "source": [
    "### String's `.center()` function\n",
    "\n",
    "This is very useful for nicely printing results to the console, or for printing logs and so on during debugging:"
   ]
  },
  {
   "cell_type": "code",
   "execution_count": 57,
   "id": "94ddc8f1-df7c-40fc-bfd0-00534cf4ee07",
   "metadata": {},
   "outputs": [
    {
     "name": "stdout",
     "output_type": "stream",
     "text": [
      "--------------- Summary ----------------\n",
      "Accuracy: 0.913\n",
      "f1 Score: 0.876\n",
      "------------- End Summary --------------\n"
     ]
    }
   ],
   "source": [
    "accuracy = 0.913\n",
    "f1_score = 0.876\n",
    "\n",
    "print(f\" Summary \".center(40, '-'))\n",
    "\n",
    "print(f\"Accuracy: {accuracy}\")\n",
    "print(f\"f1 Score: {f1_score}\")\n",
    "\n",
    "print(f\" End Summary \".center(40, '-'))"
   ]
  },
  {
   "cell_type": "markdown",
   "id": "501ae44e-3077-4fc2-a877-273fe3f217b5",
   "metadata": {},
   "source": [
    "## Scientific Notation\n",
    "\n",
    "You will see scientific notation a lot when using Python for Machine Learning, especially when you are looking at the outputs of models that return probabilities and so on.\n",
    "\n",
    "To print a number in scientific notation, use `:e`, as follows:"
   ]
  },
  {
   "cell_type": "code",
   "execution_count": 58,
   "id": "ba225cb9-f740-4be8-b113-207570e7c9e3",
   "metadata": {},
   "outputs": [
    {
     "name": "stdout",
     "output_type": "stream",
     "text": [
      "1.000097e-01\n"
     ]
    }
   ],
   "source": [
    "num = 0.100009732\n",
    "\n",
    "print(f\"{num:e}\")"
   ]
  },
  {
   "cell_type": "markdown",
   "id": "03c25dc8-d400-490a-9352-ca522d1e4dc3",
   "metadata": {},
   "source": [
    "If you want to go from scientific notation back to a float:"
   ]
  },
  {
   "cell_type": "code",
   "execution_count": 59,
   "id": "b7cf61d0-f428-4b16-b01f-335686fc4f5f",
   "metadata": {},
   "outputs": [
    {
     "name": "stdout",
     "output_type": "stream",
     "text": [
      "0.82885000\n"
     ]
    }
   ],
   "source": [
    "num = 8.2885e-01\n",
    "\n",
    "print(f\"{num:.8f}\")"
   ]
  },
  {
   "cell_type": "markdown",
   "id": "9c959b13-7d0f-44b6-ba58-a0bbd6003253",
   "metadata": {},
   "source": [
    "## Organising Your Code\n",
    "\n",
    "In Python, a Python file is a module, meaning it can be imported in to the current namespace using `import`. \n",
    "\n",
    "For example, we have the following file, `mathtools.py` in our current directory:\n",
    "\n",
    "```python\n",
    "# mathtools.py\n",
    "\n",
    "def square(n):\n",
    "    return n*n\n",
    "```\n",
    "\n",
    "You import this in to a Python session using `import`:"
   ]
  },
  {
   "cell_type": "code",
   "execution_count": 60,
   "id": "357d6b5b-5cde-455f-8017-166924195701",
   "metadata": {},
   "outputs": [],
   "source": [
    "import mathtools"
   ]
  },
  {
   "cell_type": "code",
   "execution_count": 61,
   "id": "58ba3262-aff1-41d2-aea4-8f82f15c40d7",
   "metadata": {},
   "outputs": [
    {
     "data": {
      "text/plain": [
       "4"
      ]
     },
     "execution_count": 61,
     "metadata": {},
     "output_type": "execute_result"
    }
   ],
   "source": [
    "mathtools.square(2)"
   ]
  },
  {
   "cell_type": "code",
   "execution_count": 62,
   "id": "e970976d-93a9-4b8f-90e0-7b41fb6df548",
   "metadata": {},
   "outputs": [],
   "source": [
    "from mathtools import square"
   ]
  },
  {
   "cell_type": "code",
   "execution_count": 63,
   "id": "03d41251-8cf8-45ab-8d63-f4b547ce2b77",
   "metadata": {},
   "outputs": [
    {
     "data": {
      "text/plain": [
       "25"
      ]
     },
     "execution_count": 63,
     "metadata": {},
     "output_type": "execute_result"
    }
   ],
   "source": [
    "square(5)"
   ]
  },
  {
   "cell_type": "markdown",
   "id": "74961573-e723-4362-9c0c-ae8bda82902b",
   "metadata": {},
   "source": [
    "This can be very useful if you have a bunch of frequently used functions you have collected over the years and just wish to use them within a notebook. "
   ]
  },
  {
   "cell_type": "markdown",
   "id": "71508c56-0546-48f0-9130-17e3888cd087",
   "metadata": {},
   "source": [
    "### Using `-i` for Scripting"
   ]
  },
  {
   "cell_type": "markdown",
   "id": "74361873-f14f-4c1f-a84c-e90166c15648",
   "metadata": {},
   "source": [
    "Most of the time, if you are using Python for data science you will most likely be using either Jupyter notebooks to at least prototype your code, and later perhaps consolidate your code in to scripts you can run from the command line. For example, very long running scripts should be run from the command line so that you do not accidentally close a browser window, or something like that. If the script outputs a lot of content to the command line, then it makes much more sense to run it in a console rather than within a Jupyter notebook.\n",
    "\n",
    "So to run a Python script from the command line, we just use the \n",
    "\n",
    "```bash\n",
    "$ python mathtools.py\n",
    "```\n",
    "\n",
    "We can demonstrate this in the console now...\n",
    "\n",
    "One aspect of this is the script will dump you back on the console as soon as the script ends. Sometimes it is much better to stay in the console and perhaps examine some of the variables or data that was created during the script. \n",
    "\n",
    "To do this, you can run scripts using `-i`:\n",
    "\n",
    "```bash\n",
    "$ python -i mathtools.py\n",
    "```\n",
    "\n",
    "Let's demo this now in the console also.\n",
    "\n",
    "By using dir() in the console, we see that we have some variables declared, and we can take a look at them. \n",
    "\n",
    "This is especially useful if an error occurs. Even after an error occurs, you are not dumped back in to the console. You can inspect the variables and perhaps find the cause of your error.\n",
    "\n",
    "Use `exit()` to finally exit your script and return to the console."
   ]
  },
  {
   "cell_type": "markdown",
   "id": "a64cb485-ae3c-4402-9ce9-c0b847cfd38f",
   "metadata": {},
   "source": [
    "---"
   ]
  },
  {
   "cell_type": "markdown",
   "id": "a5240d65-616c-4115-983e-01e876000c7e",
   "metadata": {},
   "source": [
    "# NumPy\n",
    "\n",
    "What is Numpy? You can think of it like an extension for Python which adds support for large matrix and array manipulation. It also provides a large amount of functions to work with these arrays, which we will see shortly. If you know MATLAB, then Numpy will seem very familiar to you. As opposed to Pandas, which deals with Excel style data, tabular data and so on, Numpy deals with numerical data only.\n",
    "\n",
    "## Arrays and Matrices\n",
    "\n",
    "So what are arrays and matrices?\n",
    "\n",
    "An array is just a list of numbers. You might also know it has a vector. \n",
    "\n",
    "For example:\n",
    "\n",
    "```python\n",
    "a = [1, 2, 3, 5, ..., n]\n",
    "```\n",
    "\n",
    "Matrices can be 2D or multi-dimensional. They are also called **axes** in Numpy parlance.\n",
    "\n",
    "So a standard array is 1-dimensional, and is basically a list like the list we saw above.\n",
    "\n",
    "A 2D array is like a table (you can think of it as a list of 1D arrays), and is synonymous with a matrix in mathematics.\n",
    "\n",
    "A 3D array has a depth dimension.  You can kind of think of it as a list of 2D arrays, and can be considered a tensor in mathematics.\n",
    "\n",
    "![numpy](./img/numpy-matrices-crop.png)\n",
    "\n",
    "*Source*: <https://jovian.com/anujadp4/python-numerical-computing-with-numpy>\n",
    "\n",
    "Numpy is n-dimensional, so you can go to even further dimensions, for example a 4D array is a list of 3D arrays, and so on. After about 4 dimensions it becomes a bit difficult to parse in termsof the syntax, which we will see momentarily.\n",
    "\n",
    "A lot of data in your machine learning tasks are going to be either supplied to you as Numpy data, or you will manipulate this data  using Numpy, or the software or algorithms will require input as Numpy data. Therefore, it is an essential skill.\n",
    "\n",
    "Let's start with importing Numpy:"
   ]
  },
  {
   "cell_type": "code",
   "execution_count": 64,
   "id": "9cf7533b-1666-4cf7-9805-e047e9d528d4",
   "metadata": {},
   "outputs": [],
   "source": [
    "# It is convention to import Numpy as np\n",
    "import numpy as np\n",
    "from pprint import pprint"
   ]
  },
  {
   "cell_type": "markdown",
   "id": "6d9893db-1b86-4563-af02-bc4e431e1c71",
   "metadata": {},
   "source": [
    "Let's create a 1D array:"
   ]
  },
  {
   "cell_type": "code",
   "execution_count": 65,
   "id": "b7122f26-30f0-458a-8af9-c6e48888c5e0",
   "metadata": {},
   "outputs": [],
   "source": [
    "a = np.array([1,2,3,4,5,6,8,9,10])"
   ]
  },
  {
   "cell_type": "code",
   "execution_count": 66,
   "id": "73485b37-6944-4a17-ac86-689e8a5ca1b0",
   "metadata": {},
   "outputs": [
    {
     "data": {
      "text/plain": [
       "array([ 1,  2,  3,  4,  5,  6,  8,  9, 10])"
      ]
     },
     "execution_count": 66,
     "metadata": {},
     "output_type": "execute_result"
    }
   ],
   "source": [
    "a"
   ]
  },
  {
   "cell_type": "markdown",
   "id": "2a27ae3a-f713-4091-81f4-180760af7e90",
   "metadata": {},
   "source": [
    "Let's look at its type:"
   ]
  },
  {
   "cell_type": "code",
   "execution_count": 67,
   "id": "e0ffe3cd-febe-4442-bb31-d2b050736cb5",
   "metadata": {},
   "outputs": [
    {
     "data": {
      "text/plain": [
       "numpy.ndarray"
      ]
     },
     "execution_count": 67,
     "metadata": {},
     "output_type": "execute_result"
    }
   ],
   "source": [
    "type(a)"
   ]
  },
  {
   "cell_type": "markdown",
   "id": "d059e159-5d75-4592-8016-d267432d2013",
   "metadata": {},
   "source": [
    "You can see it is a Numpy *n*-dimensional array (`ndarray`). In our case, 1D array.\n",
    "\n",
    "You can verify this using the `ndim` property:"
   ]
  },
  {
   "cell_type": "code",
   "execution_count": 68,
   "id": "fc869148-e385-4194-8787-541d23dfe50d",
   "metadata": {},
   "outputs": [
    {
     "data": {
      "text/plain": [
       "1"
      ]
     },
     "execution_count": 68,
     "metadata": {},
     "output_type": "execute_result"
    }
   ],
   "source": [
    "a.ndim"
   ]
  },
  {
   "cell_type": "markdown",
   "id": "d2454189-27fa-4d71-a201-f931d205d5a3",
   "metadata": {},
   "source": [
    "Arrays can be indexed using a zero-based index, which you can do with normal Python lists, however indexing is much more capable which we will see later.\n",
    "\n",
    "Simple index:"
   ]
  },
  {
   "cell_type": "code",
   "execution_count": 69,
   "id": "17db2cb7-05fd-4300-bb79-f981bbeb526a",
   "metadata": {},
   "outputs": [
    {
     "data": {
      "text/plain": [
       "1"
      ]
     },
     "execution_count": 69,
     "metadata": {},
     "output_type": "execute_result"
    }
   ],
   "source": [
    "a[0]"
   ]
  },
  {
   "cell_type": "markdown",
   "id": "a164c538-a7ba-4074-b6cb-d9ded0b1ec3a",
   "metadata": {},
   "source": [
    "The last element can be accessed using `-1`:"
   ]
  },
  {
   "cell_type": "code",
   "execution_count": 70,
   "id": "bd154cf6-0c6e-44dd-8a33-692545d8dbdb",
   "metadata": {},
   "outputs": [
    {
     "data": {
      "text/plain": [
       "10"
      ]
     },
     "execution_count": 70,
     "metadata": {},
     "output_type": "execute_result"
    }
   ],
   "source": [
    "a[-1]"
   ]
  },
  {
   "cell_type": "markdown",
   "id": "57372af2-b58e-4c13-8a8e-7895caf78e60",
   "metadata": {},
   "source": [
    "Or the 3rd from last element:"
   ]
  },
  {
   "cell_type": "code",
   "execution_count": 71,
   "id": "fe92d761-c4f4-4d20-9706-2360d4861a0f",
   "metadata": {},
   "outputs": [
    {
     "data": {
      "text/plain": [
       "8"
      ]
     },
     "execution_count": 71,
     "metadata": {},
     "output_type": "execute_result"
    }
   ],
   "source": [
    "a[-3]"
   ]
  },
  {
   "cell_type": "markdown",
   "id": "5ebc550c-59d4-4cc0-9222-8d5fc03bfe7c",
   "metadata": {},
   "source": [
    "So far we have seen nothing that you cannot do with normal lists.\n",
    "\n",
    "However, if you inspect the list of available functions, you will soon see that Numpy arrrays are much more powerful than standard Python lists. \n",
    "\n",
    "We can see a list of functions available using intellisense:"
   ]
  },
  {
   "cell_type": "code",
   "execution_count": 73,
   "id": "a974c137-d709-475d-a4c1-753fb1a43c42",
   "metadata": {},
   "outputs": [
    {
     "data": {
      "text/plain": [
       "True"
      ]
     },
     "execution_count": 73,
     "metadata": {},
     "output_type": "execute_result"
    }
   ],
   "source": [
    "a.all()"
   ]
  },
  {
   "cell_type": "markdown",
   "id": "fc4dec66-4f09-4346-88c0-d39eeab22d63",
   "metadata": {},
   "source": [
    "Or indeed, we can view the documentation as we have done previously. Documentation is not just for Python built in functions, but also for "
   ]
  },
  {
   "cell_type": "code",
   "execution_count": 74,
   "id": "b9c063db-2110-44a1-b58c-eaf65768981c",
   "metadata": {},
   "outputs": [
    {
     "data": {
      "text/plain": [
       "\u001b[0;31mDocstring:\u001b[0m\n",
       "array(object, dtype=None, *, copy=True, order='K', subok=False, ndmin=0,\n",
       "      like=None)\n",
       "\n",
       "Create an array.\n",
       "\n",
       "Parameters\n",
       "----------\n",
       "object : array_like\n",
       "    An array, any object exposing the array interface, an object whose\n",
       "    ``__array__`` method returns an array, or any (nested) sequence.\n",
       "    If object is a scalar, a 0-dimensional array containing object is\n",
       "    returned.\n",
       "dtype : data-type, optional\n",
       "    The desired data-type for the array. If not given, NumPy will try to use\n",
       "    a default ``dtype`` that can represent the values (by applying promotion\n",
       "    rules when necessary.)\n",
       "copy : bool, optional\n",
       "    If true (default), then the object is copied.  Otherwise, a copy will\n",
       "    only be made if ``__array__`` returns a copy, if obj is a nested\n",
       "    sequence, or if a copy is needed to satisfy any of the other\n",
       "    requirements (``dtype``, ``order``, etc.).\n",
       "order : {'K', 'A', 'C', 'F'}, optional\n",
       "    Specify the memory layout of the array. If object is not an array, the\n",
       "    newly created array will be in C order (row major) unless 'F' is\n",
       "    specified, in which case it will be in Fortran order (column major).\n",
       "    If object is an array the following holds.\n",
       "\n",
       "    ===== ========= ===================================================\n",
       "    order  no copy                     copy=True\n",
       "    ===== ========= ===================================================\n",
       "    'K'   unchanged F & C order preserved, otherwise most similar order\n",
       "    'A'   unchanged F order if input is F and not C, otherwise C order\n",
       "    'C'   C order   C order\n",
       "    'F'   F order   F order\n",
       "    ===== ========= ===================================================\n",
       "\n",
       "    When ``copy=False`` and a copy is made for other reasons, the result is\n",
       "    the same as if ``copy=True``, with some exceptions for 'A', see the\n",
       "    Notes section. The default order is 'K'.\n",
       "subok : bool, optional\n",
       "    If True, then sub-classes will be passed-through, otherwise\n",
       "    the returned array will be forced to be a base-class array (default).\n",
       "ndmin : int, optional\n",
       "    Specifies the minimum number of dimensions that the resulting\n",
       "    array should have.  Ones will be prepended to the shape as\n",
       "    needed to meet this requirement.\n",
       "like : array_like, optional\n",
       "    Reference object to allow the creation of arrays which are not\n",
       "    NumPy arrays. If an array-like passed in as ``like`` supports\n",
       "    the ``__array_function__`` protocol, the result will be defined\n",
       "    by it. In this case, it ensures the creation of an array object\n",
       "    compatible with that passed in via this argument.\n",
       "\n",
       "    .. versionadded:: 1.20.0\n",
       "\n",
       "Returns\n",
       "-------\n",
       "out : ndarray\n",
       "    An array object satisfying the specified requirements.\n",
       "\n",
       "See Also\n",
       "--------\n",
       "empty_like : Return an empty array with shape and type of input.\n",
       "ones_like : Return an array of ones with shape and type of input.\n",
       "zeros_like : Return an array of zeros with shape and type of input.\n",
       "full_like : Return a new array with shape of input filled with value.\n",
       "empty : Return a new uninitialized array.\n",
       "ones : Return a new array setting values to one.\n",
       "zeros : Return a new array setting values to zero.\n",
       "full : Return a new array of given shape filled with value.\n",
       "\n",
       "\n",
       "Notes\n",
       "-----\n",
       "When order is 'A' and ``object`` is an array in neither 'C' nor 'F' order,\n",
       "and a copy is forced by a change in dtype, then the order of the result is\n",
       "not necessarily 'C' as expected. This is likely a bug.\n",
       "\n",
       "Examples\n",
       "--------\n",
       ">>> np.array([1, 2, 3])\n",
       "array([1, 2, 3])\n",
       "\n",
       "Upcasting:\n",
       "\n",
       ">>> np.array([1, 2, 3.0])\n",
       "array([ 1.,  2.,  3.])\n",
       "\n",
       "More than one dimension:\n",
       "\n",
       ">>> np.array([[1, 2], [3, 4]])\n",
       "array([[1, 2],\n",
       "       [3, 4]])\n",
       "\n",
       "Minimum dimensions 2:\n",
       "\n",
       ">>> np.array([1, 2, 3], ndmin=2)\n",
       "array([[1, 2, 3]])\n",
       "\n",
       "Type provided:\n",
       "\n",
       ">>> np.array([1, 2, 3], dtype=complex)\n",
       "array([ 1.+0.j,  2.+0.j,  3.+0.j])\n",
       "\n",
       "Data-type consisting of more than one element:\n",
       "\n",
       ">>> x = np.array([(1,2),(3,4)],dtype=[('a','<i4'),('b','<i4')])\n",
       ">>> x['a']\n",
       "array([1, 3])\n",
       "\n",
       "Creating an array from sub-classes:\n",
       "\n",
       ">>> np.array(np.mat('1 2; 3 4'))\n",
       "array([[1, 2],\n",
       "       [3, 4]])\n",
       "\n",
       ">>> np.array(np.mat('1 2; 3 4'), subok=True)\n",
       "matrix([[1, 2],\n",
       "        [3, 4]])\n",
       "\u001b[0;31mType:\u001b[0m      builtin_function_or_method"
      ]
     },
     "metadata": {},
     "output_type": "display_data"
    }
   ],
   "source": [
    "np.array?"
   ]
  },
  {
   "cell_type": "markdown",
   "id": "851f9f5d-9548-40f3-bf14-1cab439cb617",
   "metadata": {},
   "source": [
    "## Array Broadcasting\n",
    "\n",
    "Array broadcasting allows you to perform operations over arrays without needing to loop over them.\n",
    "\n",
    "A simple example illustrates this. We declate a few standard Pytohn lists as follows:"
   ]
  },
  {
   "cell_type": "code",
   "execution_count": 75,
   "id": "e0d8da43-d907-4131-ac1c-e5c51889b666",
   "metadata": {},
   "outputs": [],
   "source": [
    "a = [[1, 2, 3],\n",
    "     [4, 5, 6],\n",
    "     [7, 8, 9]]"
   ]
  },
  {
   "cell_type": "code",
   "execution_count": 76,
   "id": "f5c1a3bc-9f41-4131-b2fc-d3728b81af53",
   "metadata": {},
   "outputs": [],
   "source": [
    "b = [10, 20, 30]"
   ]
  },
  {
   "cell_type": "markdown",
   "id": "b758b6f4-515c-425c-b676-c8ac5ce7a46c",
   "metadata": {},
   "source": [
    "Now let's say I want to add `b` to each row of `a`. \n",
    "\n",
    "Let's try to use addition:"
   ]
  },
  {
   "cell_type": "code",
   "execution_count": 77,
   "id": "0ee22b3f-c23c-4600-b07e-a2612408570a",
   "metadata": {},
   "outputs": [
    {
     "data": {
      "text/plain": [
       "[[1, 2, 3], [4, 5, 6], [7, 8, 9], 10, 20, 30]"
      ]
     },
     "execution_count": 77,
     "metadata": {},
     "output_type": "execute_result"
    }
   ],
   "source": [
    "a + b"
   ]
  },
  {
   "cell_type": "markdown",
   "id": "48c49236-b80f-46a5-9ede-5e99653e9da9",
   "metadata": {},
   "source": [
    "That is not what we wanted at all, Python has concatenated the two lists, and we have ended up with a list of 6 elements, where the first 3 elements are lists and the last 3 are the indivdual items from `b`."
   ]
  },
  {
   "cell_type": "markdown",
   "id": "a5f380b5-f485-4e53-ab06-91ab470b35a1",
   "metadata": {},
   "source": [
    "So how would we do what we wanted?\n",
    "\n",
    "We could simply use a `for` loop:"
   ]
  },
  {
   "cell_type": "code",
   "execution_count": 78,
   "id": "11e42948-7691-4d51-9599-1cd12f62ed20",
   "metadata": {},
   "outputs": [],
   "source": [
    "new_matrix = []\n",
    "\n",
    "for row in a:\n",
    "    new_row = []\n",
    "    for element, addition in zip(row, b):\n",
    "        new_row.append(element + addition)\n",
    "    new_matrix.append(new_row)"
   ]
  },
  {
   "cell_type": "code",
   "execution_count": 79,
   "id": "a1fbff39-172c-4b26-bb48-6bb19b5d2eb1",
   "metadata": {},
   "outputs": [
    {
     "data": {
      "text/plain": [
       "[[11, 22, 33], [14, 25, 36], [17, 28, 39]]"
      ]
     },
     "execution_count": 79,
     "metadata": {},
     "output_type": "execute_result"
    }
   ],
   "source": [
    "new_matrix"
   ]
  },
  {
   "cell_type": "markdown",
   "id": "054bd21f-6de5-47fb-b3f6-5f7b2828ed93",
   "metadata": {},
   "source": [
    "However, we had to write an entire loop, which is error prone and takes a lot of time, etc. \n",
    "\n",
    "In Numpy this is much easier. Let's first create Numpy arrays instead of lists:"
   ]
  },
  {
   "cell_type": "code",
   "execution_count": 80,
   "id": "79a4d915-d459-400f-91f8-5cb4f13f9afe",
   "metadata": {},
   "outputs": [
    {
     "name": "stdout",
     "output_type": "stream",
     "text": [
      "[[1 2 3]\n",
      " [4 5 6]\n",
      " [7 8 9]]\n",
      "\n",
      "[10 20 30]\n"
     ]
    }
   ],
   "source": [
    "a = np.array(a)\n",
    "b = np.array(b)\n",
    "\n",
    "print(a)\n",
    "print()\n",
    "print(b)"
   ]
  },
  {
   "cell_type": "markdown",
   "id": "801a0b39-4d8e-4fdf-a8c9-2b6c6026a2c6",
   "metadata": {},
   "source": [
    "And then add them:"
   ]
  },
  {
   "cell_type": "code",
   "execution_count": 81,
   "id": "4f971504-d131-41d4-a17d-34dc7771d97d",
   "metadata": {},
   "outputs": [
    {
     "data": {
      "text/plain": [
       "array([[11, 22, 33],\n",
       "       [14, 25, 36],\n",
       "       [17, 28, 39]])"
      ]
     },
     "execution_count": 81,
     "metadata": {},
     "output_type": "execute_result"
    }
   ],
   "source": [
    "a + b"
   ]
  },
  {
   "cell_type": "markdown",
   "id": "8c3d9891-50be-4169-99e7-f03c960f0952",
   "metadata": {},
   "source": [
    "Let's now say we had some values in a list, and you wanted to multiply each value with a set of weights. \n",
    "\n",
    "Let's declare these are Python lists:"
   ]
  },
  {
   "cell_type": "code",
   "execution_count": 82,
   "id": "5c0c389d-0fdd-4f94-a7c8-338bd640e751",
   "metadata": {},
   "outputs": [],
   "source": [
    "a = [10, 20, 30]"
   ]
  },
  {
   "cell_type": "code",
   "execution_count": 83,
   "id": "5098414d-2437-446f-ad0d-d02402b2822f",
   "metadata": {},
   "outputs": [],
   "source": [
    "weights = [1.1, 2.2, 3.3]"
   ]
  },
  {
   "cell_type": "code",
   "execution_count": 84,
   "id": "a833794a-6394-45b3-90ac-cb9a3f6f2c2f",
   "metadata": {},
   "outputs": [
    {
     "ename": "TypeError",
     "evalue": "can't multiply sequence by non-int of type 'list'",
     "output_type": "error",
     "traceback": [
      "\u001b[0;31m---------------------------------------------------------------------------\u001b[0m",
      "\u001b[0;31mTypeError\u001b[0m                                 Traceback (most recent call last)",
      "Cell \u001b[0;32mIn[84], line 1\u001b[0m\n\u001b[0;32m----> 1\u001b[0m \u001b[43ma\u001b[49m\u001b[43m \u001b[49m\u001b[38;5;241;43m*\u001b[39;49m\u001b[43m \u001b[49m\u001b[43mweights\u001b[49m\n",
      "\u001b[0;31mTypeError\u001b[0m: can't multiply sequence by non-int of type 'list'"
     ]
    }
   ],
   "source": [
    "a * weights"
   ]
  },
  {
   "cell_type": "markdown",
   "id": "aed633a4-c470-4501-91d5-25084846bd2f",
   "metadata": {},
   "source": [
    "In Python we get an error.\n",
    "\n",
    "Again, we will have to write a loop:"
   ]
  },
  {
   "cell_type": "code",
   "execution_count": 85,
   "id": "6c8f8e01-7bb6-4e41-8260-4f0b99113399",
   "metadata": {},
   "outputs": [],
   "source": [
    "weight_sums = []\n",
    "\n",
    "for i in range(3):\n",
    "    t = a[i] * weights[i]\n",
    "    weight_sums.append(t)    "
   ]
  },
  {
   "cell_type": "markdown",
   "id": "f1c62939-9d15-47f5-82ef-2fdb575cb378",
   "metadata": {},
   "source": [
    "Which produces:"
   ]
  },
  {
   "cell_type": "code",
   "execution_count": 86,
   "id": "896eb0c8-7898-4129-a99b-71b947c42b9a",
   "metadata": {},
   "outputs": [
    {
     "data": {
      "text/plain": [
       "[11.0, 44.0, 99.0]"
      ]
     },
     "execution_count": 86,
     "metadata": {},
     "output_type": "execute_result"
    }
   ],
   "source": [
    "weight_sums"
   ]
  },
  {
   "cell_type": "markdown",
   "id": "19c67499-a561-4d50-a926-ae801c32e8a2",
   "metadata": {},
   "source": [
    "This is what we wanted, but again it required writing this loop, etc.\n",
    "\n",
    "If we now look at how we could do this with Numpy:"
   ]
  },
  {
   "cell_type": "code",
   "execution_count": 87,
   "id": "f97ef48e-168e-4260-98af-3d47230f721a",
   "metadata": {},
   "outputs": [
    {
     "data": {
      "text/plain": [
       "array([11., 44., 99.])"
      ]
     },
     "execution_count": 87,
     "metadata": {},
     "output_type": "execute_result"
    }
   ],
   "source": [
    "# In this case, we convert the Python list a to a Numpy array and then multiply by the weights\n",
    "a = np.array([10, 20, 30])\n",
    "weights = np.array([1.1, 2.2, 3.3])\n",
    "a * weights "
   ]
  },
  {
   "cell_type": "markdown",
   "id": "197cc754-1c13-4a13-8b03-182b3f932d47",
   "metadata": {},
   "source": [
    "It is also worth mentioning that if you use array broadcasting, it can be more than 100x faster than using for loops in Python. The underlying Numpy code is parallel, written in C, and is very optimised.\n",
    "\n",
    "If you are writing any code that uses loops in Python, and find that it is taking a very long time, see if you can somehow perform the same thing using Numpy's matrix operations.... "
   ]
  },
  {
   "cell_type": "markdown",
   "id": "cc798f32-ca53-49e1-a769-72e5b850616d",
   "metadata": {},
   "source": [
    "### Matrix Multiplications\n",
    "\n",
    "We can briefly touch on this, however it does not appear in the rest of the seminars so we will only mention it. \n",
    "\n",
    "Matric multiiplicaitons are of the form:\n",
    "\n",
    "![Matrix](./img/matmul.png)\n",
    "\n",
    "*Image source*: James, Witten, Hastie, Tibshirani. **An Introduction to Statistical Learning**.\n",
    "\n",
    "In the case of a matrix multiplication, you need to use the `matmul()` function. \n",
    "\n",
    "Let's declare two arrays and take a look at them:"
   ]
  },
  {
   "cell_type": "code",
   "execution_count": 88,
   "id": "6b49502a-29a1-43f8-b366-ccb29fae55b7",
   "metadata": {},
   "outputs": [
    {
     "name": "stdout",
     "output_type": "stream",
     "text": [
      "A =\n",
      " [[1 2]\n",
      " [3 4]]\n",
      "B =\n",
      " [[5 6]\n",
      " [7 8]]\n"
     ]
    }
   ],
   "source": [
    "A = np.array([[1,2], [3,4]])\n",
    "B = np.array([[5,6], [7,8]])\n",
    "\n",
    "print(\"A =\\n\", A)\n",
    "print(\"B =\\n\", B)"
   ]
  },
  {
   "cell_type": "markdown",
   "id": "44e5f2b5-c0c1-4291-966c-5cadc15aea40",
   "metadata": {},
   "source": [
    "Using `matmul()` we can perform this operation quickly:"
   ]
  },
  {
   "cell_type": "code",
   "execution_count": 89,
   "id": "2951884d-10cf-404e-b487-9f5711263d2c",
   "metadata": {},
   "outputs": [
    {
     "data": {
      "text/plain": [
       "array([[19, 22],\n",
       "       [43, 50]])"
      ]
     },
     "execution_count": 89,
     "metadata": {},
     "output_type": "execute_result"
    }
   ],
   "source": [
    "np.matmul(A, B)"
   ]
  },
  {
   "cell_type": "markdown",
   "id": "23f95c12-5d56-4ddd-a6f9-e5a86f82a6d8",
   "metadata": {},
   "source": [
    "You can also use the `@` symbol for this."
   ]
  },
  {
   "cell_type": "code",
   "execution_count": 90,
   "id": "d493b67f-1a12-49fd-92e5-44d49f08c066",
   "metadata": {},
   "outputs": [
    {
     "data": {
      "text/plain": [
       "array([[19, 22],\n",
       "       [43, 50]])"
      ]
     },
     "execution_count": 90,
     "metadata": {},
     "output_type": "execute_result"
    }
   ],
   "source": [
    "A @ B"
   ]
  },
  {
   "cell_type": "markdown",
   "id": "f428e606-c9f7-4539-af7a-88d61df4764f",
   "metadata": {},
   "source": [
    "### Array comparison\n",
    "\n",
    "You can also compare arrays quickly, which can come in very handy for when you are comparing the output of a trained model with the labels, for example."
   ]
  },
  {
   "cell_type": "code",
   "execution_count": 91,
   "id": "239e7d95-8c94-447c-a618-7d4de27c909b",
   "metadata": {},
   "outputs": [],
   "source": [
    "a = np.array([[1, 2, 3], [3, 4, 5]])\n",
    "b = np.array([[2, 2, 3], [1, 2, 5]])"
   ]
  },
  {
   "cell_type": "code",
   "execution_count": 92,
   "id": "ae6eeec1-1e4f-489e-86c5-7baf19d2297d",
   "metadata": {},
   "outputs": [
    {
     "data": {
      "text/plain": [
       "array([[False,  True,  True],\n",
       "       [False, False,  True]])"
      ]
     },
     "execution_count": 92,
     "metadata": {},
     "output_type": "execute_result"
    }
   ],
   "source": [
    "a == b"
   ]
  },
  {
   "cell_type": "markdown",
   "id": "1ec1068d-5f21-4e4e-ac44-97ea7cd4f3b2",
   "metadata": {},
   "source": [
    "And the same is true for `>`, `<`, and `!=`, for example:"
   ]
  },
  {
   "cell_type": "code",
   "execution_count": 93,
   "id": "02e8d1f6-6c6b-4d82-84e5-114f75cbcf4f",
   "metadata": {},
   "outputs": [
    {
     "data": {
      "text/plain": [
       "array([[False, False, False],\n",
       "       [ True,  True, False]])"
      ]
     },
     "execution_count": 93,
     "metadata": {},
     "output_type": "execute_result"
    }
   ],
   "source": [
    "a > b"
   ]
  },
  {
   "cell_type": "markdown",
   "id": "109c3073-7ce7-467f-83e0-ed3a6264d07b",
   "metadata": {},
   "source": [
    "## Array Slicing\n",
    "\n",
    "One of NumPy's biggest strengths is the ability to slice arrays in to subsets very easily.\n",
    "\n",
    "Let's start with some simple slicing of a 1D array:"
   ]
  },
  {
   "cell_type": "code",
   "execution_count": 94,
   "id": "4607736a-f60b-4564-ab6a-ad1694705381",
   "metadata": {},
   "outputs": [
    {
     "data": {
      "text/plain": [
       "array([ 1,  2,  3,  4,  5,  6,  7,  8,  9, 10])"
      ]
     },
     "execution_count": 94,
     "metadata": {},
     "output_type": "execute_result"
    }
   ],
   "source": [
    "a = np.arange(1, 11)\n",
    "a"
   ]
  },
  {
   "cell_type": "code",
   "execution_count": 95,
   "id": "c46c2d7b-fbac-448d-bb18-99d98260009d",
   "metadata": {},
   "outputs": [
    {
     "data": {
      "text/plain": [
       "1"
      ]
     },
     "execution_count": 95,
     "metadata": {},
     "output_type": "execute_result"
    }
   ],
   "source": [
    "a[0]"
   ]
  },
  {
   "cell_type": "code",
   "execution_count": 96,
   "id": "9483a21c-a0b2-4c7e-82cf-a05c969dc6dd",
   "metadata": {},
   "outputs": [
    {
     "data": {
      "text/plain": [
       "10"
      ]
     },
     "execution_count": 96,
     "metadata": {},
     "output_type": "execute_result"
    }
   ],
   "source": [
    "a[-1]"
   ]
  },
  {
   "cell_type": "markdown",
   "id": "8fa1b2cf-52cc-4ca3-a8ee-2c0ee7ab853d",
   "metadata": {},
   "source": [
    "We have seen this already, but you can also provide a range of items you wish to retrieve:"
   ]
  },
  {
   "cell_type": "code",
   "execution_count": 97,
   "id": "7a317e90-fdd1-4bf7-ba62-3d3ec2407b63",
   "metadata": {},
   "outputs": [
    {
     "data": {
      "text/plain": [
       "array([1, 2, 3])"
      ]
     },
     "execution_count": 97,
     "metadata": {},
     "output_type": "execute_result"
    }
   ],
   "source": [
    "a[0:3]"
   ]
  },
  {
   "cell_type": "markdown",
   "id": "48714cd7-7f19-418a-8595-3db787321962",
   "metadata": {},
   "source": [
    "As is Python convention, `0:3` **includes** element 0 and **excludes** element 3."
   ]
  },
  {
   "cell_type": "markdown",
   "id": "118b0c66-7666-4b00-9504-11f0cd480a77",
   "metadata": {},
   "source": [
    "You can omit the digit before or after the `:` to mean 'from the start' or 'to the end'."
   ]
  },
  {
   "cell_type": "code",
   "execution_count": 98,
   "id": "da09b9ba-2163-4d42-ad77-55c6013969f6",
   "metadata": {},
   "outputs": [
    {
     "data": {
      "text/plain": [
       "array([1, 2, 3, 4, 5])"
      ]
     },
     "execution_count": 98,
     "metadata": {},
     "output_type": "execute_result"
    }
   ],
   "source": [
    "a[:5]"
   ]
  },
  {
   "cell_type": "markdown",
   "id": "81c4be2e-d51d-4566-a739-bf96f6c9e1f2",
   "metadata": {},
   "source": [
    "Ranges can also use negative numbers, which we say earlier for selecting the last element. \n",
    "\n",
    "Here we go from the last element to the 3rd last element:"
   ]
  },
  {
   "cell_type": "code",
   "execution_count": 99,
   "id": "8e066584-bf6d-43ba-8744-b4c6d1945efb",
   "metadata": {},
   "outputs": [
    {
     "data": {
      "text/plain": [
       "array([6, 7, 8, 9])"
      ]
     },
     "execution_count": 99,
     "metadata": {},
     "output_type": "execute_result"
    }
   ],
   "source": [
    "a[-5:-1]"
   ]
  },
  {
   "cell_type": "markdown",
   "id": "7863f6e5-6953-49c0-a882-23c9ca51e35d",
   "metadata": {},
   "source": [
    "You can also select items in steps. You place the step size after the range, in the form `start:stop:step`. \n",
    "\n",
    "Let's make a larger array for this, and select only every 10th element:"
   ]
  },
  {
   "cell_type": "code",
   "execution_count": 100,
   "id": "cf25f898-76e1-4c05-ae4c-b18540c62c13",
   "metadata": {},
   "outputs": [],
   "source": [
    "a = np.arange(100)"
   ]
  },
  {
   "cell_type": "code",
   "execution_count": 101,
   "id": "f7455cbf-394b-48ae-873b-75932a7176e4",
   "metadata": {},
   "outputs": [
    {
     "data": {
      "text/plain": [
       "array([ 0, 10, 20, 30, 40, 50, 60, 70, 80, 90])"
      ]
     },
     "execution_count": 101,
     "metadata": {},
     "output_type": "execute_result"
    }
   ],
   "source": [
    "a[0:100:10]"
   ]
  },
  {
   "cell_type": "markdown",
   "id": "6b09f31e-c51c-4a95-ab20-6828164218cb",
   "metadata": {},
   "source": [
    "Or, using no values for start and end, we can select every 2nd element:"
   ]
  },
  {
   "cell_type": "code",
   "execution_count": 102,
   "id": "60597949-e0e5-42b4-980e-adc010a5f445",
   "metadata": {},
   "outputs": [
    {
     "data": {
      "text/plain": [
       "array([ 0,  5, 10, 15, 20, 25, 30, 35, 40, 45, 50, 55, 60, 65, 70, 75, 80,\n",
       "       85, 90, 95])"
      ]
     },
     "execution_count": 102,
     "metadata": {},
     "output_type": "execute_result"
    }
   ],
   "source": [
    "a[::5]"
   ]
  },
  {
   "cell_type": "markdown",
   "id": "62edef15-2d14-4e37-8a4c-7bc08f0430dd",
   "metadata": {},
   "source": [
    "### 2D Array Slicing\n",
    "\n",
    "So far so good with 1D arrays. However, we can do advanced slicing on 2D arrays.\n",
    "\n",
    "Here are a few exmaples we will cover now:\n",
    "\n",
    "![Slicing](./img/array-slicing.jpg)\n",
    "\n",
    "Let's first replicate the dataset from the image above:"
   ]
  },
  {
   "cell_type": "code",
   "execution_count": 103,
   "id": "9a48ea4c-0449-447d-b93c-21f184cf27f9",
   "metadata": {},
   "outputs": [
    {
     "data": {
      "text/plain": [
       "array([[ 0,  1,  2,  3,  4,  5],\n",
       "       [ 6,  7,  8,  9, 10, 11],\n",
       "       [12, 13, 14, 15, 16, 17],\n",
       "       [18, 19, 20, 21, 22, 23],\n",
       "       [24, 25, 26, 27, 28, 29],\n",
       "       [30, 31, 32, 33, 34, 35]])"
      ]
     },
     "execution_count": 103,
     "metadata": {},
     "output_type": "execute_result"
    }
   ],
   "source": [
    "a = np.arange(36).reshape(6,6)\n",
    "a"
   ]
  },
  {
   "cell_type": "markdown",
   "id": "f7ac2adb-6287-46a1-8505-b4409480ff78",
   "metadata": {},
   "source": [
    "We use the function `reshape()` to create a 2D matrix out of the 1D array that `arange()` returns.\n",
    "\n",
    "So, with 2D arrays you specify each slice for each dimension using `,`.\n",
    "\n",
    "The first dimension specifies the rows you want to select, the second dimension specifies the columns you want to select.\n",
    "\n",
    "So, we can select the first row like this:"
   ]
  },
  {
   "cell_type": "code",
   "execution_count": 104,
   "id": "e4ba7f57-a20c-4ba5-8645-cd8e6647d8e7",
   "metadata": {},
   "outputs": [
    {
     "data": {
      "text/plain": [
       "array([0, 1, 2, 3, 4, 5])"
      ]
     },
     "execution_count": 104,
     "metadata": {},
     "output_type": "execute_result"
    }
   ],
   "source": [
    "a[0,:]"
   ]
  },
  {
   "cell_type": "markdown",
   "id": "de53512a-cbca-4a29-8e2c-1f740bb4500b",
   "metadata": {},
   "source": [
    "Note that we used `:` to specify the entire range, as we have seen before. \n",
    "\n",
    "So we said, we wanted row 0, all columns.\n",
    "\n",
    "If we wanted only the first **column**, then we can use the following:"
   ]
  },
  {
   "cell_type": "code",
   "execution_count": 105,
   "id": "fa8a02f0-2a9f-47b5-b75a-2b3ec053f892",
   "metadata": {},
   "outputs": [
    {
     "data": {
      "text/plain": [
       "array([ 0,  6, 12, 18, 24, 30])"
      ]
     },
     "execution_count": 105,
     "metadata": {},
     "output_type": "execute_result"
    }
   ],
   "source": [
    "a[:, 0]"
   ]
  },
  {
   "cell_type": "markdown",
   "id": "bd220ef2-bb53-4f04-81f5-fa58fbe3bd75",
   "metadata": {},
   "source": [
    "In this case, we use `:` to say all rows, and `0` to say the first column.\n",
    "\n",
    "We can also use negative indexing.  \n",
    "\n",
    "For example we want only the **last two rows**, and only the **first column**:"
   ]
  },
  {
   "cell_type": "code",
   "execution_count": 106,
   "id": "068054bb-0595-4632-aa84-598968e00b60",
   "metadata": {},
   "outputs": [
    {
     "data": {
      "text/plain": [
       "array([24, 30])"
      ]
     },
     "execution_count": 106,
     "metadata": {},
     "output_type": "execute_result"
    }
   ],
   "source": [
    "a[-2:, 0]"
   ]
  },
  {
   "cell_type": "markdown",
   "id": "4bb3943e-fc0c-4455-9551-076dd9b343f4",
   "metadata": {},
   "source": [
    "Take a look at the image above to confirm what we have selected.\n",
    "\n",
    "Ranges can be used for both axes/dimensions. So let's say we wanted only the centre rows and columns, we can use ranges for both axes:"
   ]
  },
  {
   "cell_type": "code",
   "execution_count": 107,
   "id": "77883bf9-c5a6-47bb-a4c6-015ba8679589",
   "metadata": {},
   "outputs": [
    {
     "data": {
      "text/plain": [
       "array([[13, 14, 15, 16],\n",
       "       [19, 20, 21, 22]])"
      ]
     },
     "execution_count": 107,
     "metadata": {},
     "output_type": "execute_result"
    }
   ],
   "source": [
    "a[2:4, 1:5]"
   ]
  },
  {
   "cell_type": "markdown",
   "id": "2fb0a99b-a66d-4d3f-9120-b5a894ed9336",
   "metadata": {},
   "source": [
    "### 3D Slicing\n",
    "\n",
    "Of course, 3D slicing is also possible.\n",
    "\n",
    "We will not demonstrate this very much, but bear in mind that a 3D array in NumPy is like a list of 2D arrays."
   ]
  },
  {
   "cell_type": "markdown",
   "id": "6fc63d8a-a440-40f8-bd2a-b90fae0c5eb0",
   "metadata": {},
   "source": [
    "When indexing higher dimensional arrays, the first thing to note is the **order of the axes**, which is axis 2, axis 0, axis 1. This might be different to what you have seen before, for example this contrasts with MATLAB, where order of the axes would be z, x, y.\n",
    "\n",
    "![numpy](./img/numpy-matrices-crop.png)\n",
    "\n",
    "Note that this is done in NumPy for memory efficiency reasons. It is faster to index this way as you keep data in more continuous blocks in the computer's memory.\n",
    "\n",
    "First let's make a data structure:"
   ]
  },
  {
   "cell_type": "code",
   "execution_count": 108,
   "id": "8868547c-624e-4259-9537-634b25475b1e",
   "metadata": {},
   "outputs": [
    {
     "data": {
      "text/plain": [
       "array([[[  0,   1,   2,   3,   4,   5],\n",
       "        [  6,   7,   8,   9,  10,  11],\n",
       "        [ 12,  13,  14,  15,  16,  17],\n",
       "        [ 18,  19,  20,  21,  22,  23],\n",
       "        [ 24,  25,  26,  27,  28,  29],\n",
       "        [ 30,  31,  32,  33,  34,  35]],\n",
       "\n",
       "       [[ 36,  37,  38,  39,  40,  41],\n",
       "        [ 42,  43,  44,  45,  46,  47],\n",
       "        [ 48,  49,  50,  51,  52,  53],\n",
       "        [ 54,  55,  56,  57,  58,  59],\n",
       "        [ 60,  61,  62,  63,  64,  65],\n",
       "        [ 66,  67,  68,  69,  70,  71]],\n",
       "\n",
       "       [[ 72,  73,  74,  75,  76,  77],\n",
       "        [ 78,  79,  80,  81,  82,  83],\n",
       "        [ 84,  85,  86,  87,  88,  89],\n",
       "        [ 90,  91,  92,  93,  94,  95],\n",
       "        [ 96,  97,  98,  99, 100, 101],\n",
       "        [102, 103, 104, 105, 106, 107]]])"
      ]
     },
     "execution_count": 108,
     "metadata": {},
     "output_type": "execute_result"
    }
   ],
   "source": [
    "a = np.array([\n",
    "    np.arange(36).reshape(6, 6),\n",
    "    np.arange(36, 36+36).reshape(6, 6),\n",
    "    np.arange(72, 72+36).reshape(6, 6),\n",
    "])\n",
    "a"
   ]
  },
  {
   "cell_type": "markdown",
   "id": "5eee04d0-fbda-40db-8dc0-2265830ccdb5",
   "metadata": {},
   "source": [
    "We can see that the indexing order is different if you look at the `a`'s shape:"
   ]
  },
  {
   "cell_type": "code",
   "execution_count": 109,
   "id": "c51f5915-d767-4ab7-8e56-83c2bd38657c",
   "metadata": {},
   "outputs": [
    {
     "data": {
      "text/plain": [
       "(3, 6, 6)"
      ]
     },
     "execution_count": 109,
     "metadata": {},
     "output_type": "execute_result"
    }
   ],
   "source": [
    "np.shape(a)"
   ]
  },
  {
   "cell_type": "markdown",
   "id": "ec8ce9ce-dfe4-404b-9719-9b44c8b50a54",
   "metadata": {},
   "source": [
    "Say we want the deepest of the arrays, you would use the first index :"
   ]
  },
  {
   "cell_type": "code",
   "execution_count": 110,
   "id": "9afd7352-5fd5-460a-84a7-a10542a7726f",
   "metadata": {},
   "outputs": [
    {
     "data": {
      "text/plain": [
       "array([[ 72,  73,  74,  75,  76,  77],\n",
       "       [ 78,  79,  80,  81,  82,  83],\n",
       "       [ 84,  85,  86,  87,  88,  89],\n",
       "       [ 90,  91,  92,  93,  94,  95],\n",
       "       [ 96,  97,  98,  99, 100, 101],\n",
       "       [102, 103, 104, 105, 106, 107]])"
      ]
     },
     "execution_count": 110,
     "metadata": {},
     "output_type": "execute_result"
    }
   ],
   "source": [
    "a[-1,:,:]"
   ]
  },
  {
   "cell_type": "markdown",
   "id": "fdb03876-3a25-49ef-8871-d1d104404857",
   "metadata": {},
   "source": [
    "Likewise, we can say we want all the first rows:"
   ]
  },
  {
   "cell_type": "code",
   "execution_count": 111,
   "id": "bcfb141c-fb18-40a6-aa32-1b8d593ea5f0",
   "metadata": {},
   "outputs": [
    {
     "data": {
      "text/plain": [
       "array([[ 0,  1,  2,  3,  4,  5],\n",
       "       [36, 37, 38, 39, 40, 41],\n",
       "       [72, 73, 74, 75, 76, 77]])"
      ]
     },
     "execution_count": 111,
     "metadata": {},
     "output_type": "execute_result"
    }
   ],
   "source": [
    "a[:,0,:]"
   ]
  },
  {
   "cell_type": "markdown",
   "id": "d37a4b5a-813e-4acb-828f-a15e805b0c71",
   "metadata": {},
   "source": [
    "Or all the first columns:"
   ]
  },
  {
   "cell_type": "code",
   "execution_count": 112,
   "id": "313b061e-86e6-496e-a0a5-3480159b4c0c",
   "metadata": {},
   "outputs": [
    {
     "data": {
      "text/plain": [
       "array([[  0,   6,  12,  18,  24,  30],\n",
       "       [ 36,  42,  48,  54,  60,  66],\n",
       "       [ 72,  78,  84,  90,  96, 102]])"
      ]
     },
     "execution_count": 112,
     "metadata": {},
     "output_type": "execute_result"
    }
   ],
   "source": [
    "a[:, :, 0]"
   ]
  },
  {
   "cell_type": "markdown",
   "id": "208b598f-b250-407d-9880-e0cd4fcac632",
   "metadata": {},
   "source": [
    "## Searching in NumPy\n",
    "\n",
    "You will often want to search for particular rows based on conditionals in Numpy, and this can be done using conditionals within `[]` in much the same way as we have used index slicing."
   ]
  },
  {
   "cell_type": "code",
   "execution_count": 113,
   "id": "29c0e218-0f5d-4604-a085-6950f7a31288",
   "metadata": {},
   "outputs": [
    {
     "data": {
      "text/plain": [
       "array([[1, 2, 3],\n",
       "       [4, 5, 6],\n",
       "       [7, 8, 9]])"
      ]
     },
     "execution_count": 113,
     "metadata": {},
     "output_type": "execute_result"
    }
   ],
   "source": [
    "a = np.array([[1, 2, 3], [4, 5, 6], [7, 8, 9]])\n",
    "a"
   ]
  },
  {
   "cell_type": "markdown",
   "id": "4fd112ed-25c6-4d5a-af44-bddcf78bedac",
   "metadata": {},
   "source": [
    "If you want all values greater than a certain value, use the following syntax, in the same way that you use indexing:"
   ]
  },
  {
   "cell_type": "code",
   "execution_count": 114,
   "id": "4552eda4-820e-4e8a-9adc-32a2cdb1a136",
   "metadata": {},
   "outputs": [
    {
     "data": {
      "text/plain": [
       "array([6, 7, 8, 9])"
      ]
     },
     "execution_count": 114,
     "metadata": {},
     "output_type": "execute_result"
    }
   ],
   "source": [
    "a[a > 5]"
   ]
  },
  {
   "cell_type": "markdown",
   "id": "c03efd32-0fa6-4146-9bb5-8999bb1a3cb1",
   "metadata": {},
   "source": [
    "Note that it returns an array of **values**, and loses its shape. The array `a` was a 2D array, and we got back a 1D array of values. This is often what you want, but not always.\n",
    "\n",
    "If you prefer that the indices are returned instead of the values, use the `where` function, which will maintain the shape of the array:"
   ]
  },
  {
   "cell_type": "code",
   "execution_count": 115,
   "id": "dae5ffe6-35ac-44f8-a4ab-38e76e5d9ca8",
   "metadata": {},
   "outputs": [
    {
     "data": {
      "text/plain": [
       "(array([0, 1, 1, 1, 2, 2, 2]), array([2, 0, 1, 2, 0, 1, 2]))"
      ]
     },
     "execution_count": 115,
     "metadata": {},
     "output_type": "execute_result"
    }
   ],
   "source": [
    "np.where(a>2)"
   ]
  },
  {
   "cell_type": "markdown",
   "id": "ff3ef6e8-2f94-4fa3-acc3-88e44babc7c9",
   "metadata": {},
   "source": [
    "In this case we are returned the indices as a 2D array, one for each dimention. \n",
    "\n",
    "So for example, at index 0,2 the element is greater than 2.\n",
    "\n",
    "We can see this visually or check this:"
   ]
  },
  {
   "cell_type": "code",
   "execution_count": 116,
   "id": "8a54598e-2983-4418-a784-b87e4b1884be",
   "metadata": {},
   "outputs": [
    {
     "data": {
      "text/plain": [
       "3"
      ]
     },
     "execution_count": 116,
     "metadata": {},
     "output_type": "execute_result"
    }
   ],
   "source": [
    "a[0,2]"
   ]
  },
  {
   "cell_type": "markdown",
   "id": "4692910c-8b4d-4130-80eb-37dd05b41573",
   "metadata": {},
   "source": [
    "Numpy allows you to perform sophisticated searching, far more than we have covered here, but we will leave it at that for now."
   ]
  },
  {
   "cell_type": "markdown",
   "id": "b63907a8-cc39-45d8-9c5f-5d64c172c71f",
   "metadata": {},
   "source": [
    "## Loading and Reading Data\n",
    "\n",
    "I will just mention a few helper functions here to load data. The two most commons functions for loading data from the disk are:\n",
    "\n",
    "- `np.genfromtxt()`\n",
    "- `np.loadtxt()`\n",
    "\n",
    "We will not demonstrate this now, as we will use this functionality later anyway to load in data and so on.\n",
    "\n",
    "### Summary\n",
    "\n",
    "So these examples cover the most important Numpy functionality that we use for this course. Numpy is a huge framework, and you could spend the entire course covering only Numpy.\n",
    "\n",
    "During the course of the seminar we will also cover other functionality, and anything new will be highlighted as we go along. "
   ]
  },
  {
   "cell_type": "markdown",
   "id": "440574a0-c6ff-43d8-89b2-513861b258e4",
   "metadata": {},
   "source": [
    "---\n",
    "\n",
    "# Pandas\n",
    "\n",
    "As mentioned, I am aware that Pandas was covered but if a refresher is required we can cover it now before the afternoon session.\n",
    "\n",
    "Before starting any of our Machine Learning material, we will cover the two most commonly used packages for handling and manipulating data, namely Numpy and Pandas.\n",
    "\n",
    "You can think of Numpy as an array and matrix manipulation library (if you are familiar with MATLAB, it provides much of the functionality of MATLAB). \n",
    "\n",
    "Pandas, on the other hand, provides the functionality of R's data frames, or you could think of it as Excel for Python. It allows you to manipulate data stored in Excel-like spreadsheets, in a programmatic way. Pandas is best suited for this type of **tabular** data.\n",
    "\n",
    "Therefore, unlike NumPy, Pandas DataFrames have column names for example, and you can access individual columns using the column name, while in NumPy you access columns using indices. \n",
    "\n",
    "NumPy is also used for multi-dimensional data or $n$-dimensional arrays, as we saw previously, while Pandas is for tabular data.\n",
    "\n",
    "Also, Pandas DataFrames are convenient if you get your data from doctors here the LKH or MUG, as you will likeyly receive your data as Excel, and Pandas provides convient ways of importing this data using functions such as `read_excel()`. You can also open SAS, SPSS, and SQL databases."
   ]
  },
  {
   "cell_type": "code",
   "execution_count": 117,
   "id": "d51aafc0-be5f-422e-814e-f1a09249f094",
   "metadata": {},
   "outputs": [],
   "source": [
    "import pandas as pd  # Convention \n",
    "\n",
    "# See https://www.dataquest.io/blog/excel-and-pandas/\n",
    "movies = pd.read_excel('./data/movies.xls')"
   ]
  },
  {
   "cell_type": "code",
   "execution_count": 118,
   "id": "9fe87cd3-9aa1-4e63-93b1-425e802862d4",
   "metadata": {},
   "outputs": [
    {
     "data": {
      "text/html": [
       "<div>\n",
       "<style scoped>\n",
       "    .dataframe tbody tr th:only-of-type {\n",
       "        vertical-align: middle;\n",
       "    }\n",
       "\n",
       "    .dataframe tbody tr th {\n",
       "        vertical-align: top;\n",
       "    }\n",
       "\n",
       "    .dataframe thead th {\n",
       "        text-align: right;\n",
       "    }\n",
       "</style>\n",
       "<table border=\"1\" class=\"dataframe\">\n",
       "  <thead>\n",
       "    <tr style=\"text-align: right;\">\n",
       "      <th></th>\n",
       "      <th>Title</th>\n",
       "      <th>Year</th>\n",
       "      <th>Genres</th>\n",
       "      <th>Language</th>\n",
       "      <th>Country</th>\n",
       "      <th>Content Rating</th>\n",
       "      <th>Duration</th>\n",
       "      <th>Aspect Ratio</th>\n",
       "      <th>Budget</th>\n",
       "      <th>Gross Earnings</th>\n",
       "      <th>...</th>\n",
       "      <th>Facebook Likes - Actor 1</th>\n",
       "      <th>Facebook Likes - Actor 2</th>\n",
       "      <th>Facebook Likes - Actor 3</th>\n",
       "      <th>Facebook Likes - cast Total</th>\n",
       "      <th>Facebook likes - Movie</th>\n",
       "      <th>Facenumber in posters</th>\n",
       "      <th>User Votes</th>\n",
       "      <th>Reviews by Users</th>\n",
       "      <th>Reviews by Crtiics</th>\n",
       "      <th>IMDB Score</th>\n",
       "    </tr>\n",
       "  </thead>\n",
       "  <tbody>\n",
       "    <tr>\n",
       "      <th>0</th>\n",
       "      <td>Intolerance: Love's Struggle Throughout the Ages</td>\n",
       "      <td>1916</td>\n",
       "      <td>Drama|History|War</td>\n",
       "      <td>NaN</td>\n",
       "      <td>USA</td>\n",
       "      <td>Not Rated</td>\n",
       "      <td>123</td>\n",
       "      <td>1.33</td>\n",
       "      <td>385907.0</td>\n",
       "      <td>NaN</td>\n",
       "      <td>...</td>\n",
       "      <td>436</td>\n",
       "      <td>22</td>\n",
       "      <td>9.0</td>\n",
       "      <td>481</td>\n",
       "      <td>691</td>\n",
       "      <td>1</td>\n",
       "      <td>10718</td>\n",
       "      <td>88</td>\n",
       "      <td>69.0</td>\n",
       "      <td>8.0</td>\n",
       "    </tr>\n",
       "    <tr>\n",
       "      <th>1</th>\n",
       "      <td>Over the Hill to the Poorhouse</td>\n",
       "      <td>1920</td>\n",
       "      <td>Crime|Drama</td>\n",
       "      <td>NaN</td>\n",
       "      <td>USA</td>\n",
       "      <td>NaN</td>\n",
       "      <td>110</td>\n",
       "      <td>1.33</td>\n",
       "      <td>100000.0</td>\n",
       "      <td>3000000.0</td>\n",
       "      <td>...</td>\n",
       "      <td>2</td>\n",
       "      <td>2</td>\n",
       "      <td>0.0</td>\n",
       "      <td>4</td>\n",
       "      <td>0</td>\n",
       "      <td>1</td>\n",
       "      <td>5</td>\n",
       "      <td>1</td>\n",
       "      <td>1.0</td>\n",
       "      <td>4.8</td>\n",
       "    </tr>\n",
       "    <tr>\n",
       "      <th>2</th>\n",
       "      <td>The Big Parade</td>\n",
       "      <td>1925</td>\n",
       "      <td>Drama|Romance|War</td>\n",
       "      <td>NaN</td>\n",
       "      <td>USA</td>\n",
       "      <td>Not Rated</td>\n",
       "      <td>151</td>\n",
       "      <td>1.33</td>\n",
       "      <td>245000.0</td>\n",
       "      <td>NaN</td>\n",
       "      <td>...</td>\n",
       "      <td>81</td>\n",
       "      <td>12</td>\n",
       "      <td>6.0</td>\n",
       "      <td>108</td>\n",
       "      <td>226</td>\n",
       "      <td>0</td>\n",
       "      <td>4849</td>\n",
       "      <td>45</td>\n",
       "      <td>48.0</td>\n",
       "      <td>8.3</td>\n",
       "    </tr>\n",
       "    <tr>\n",
       "      <th>3</th>\n",
       "      <td>Metropolis</td>\n",
       "      <td>1927</td>\n",
       "      <td>Drama|Sci-Fi</td>\n",
       "      <td>German</td>\n",
       "      <td>Germany</td>\n",
       "      <td>Not Rated</td>\n",
       "      <td>145</td>\n",
       "      <td>1.33</td>\n",
       "      <td>6000000.0</td>\n",
       "      <td>26435.0</td>\n",
       "      <td>...</td>\n",
       "      <td>136</td>\n",
       "      <td>23</td>\n",
       "      <td>18.0</td>\n",
       "      <td>203</td>\n",
       "      <td>12000</td>\n",
       "      <td>1</td>\n",
       "      <td>111841</td>\n",
       "      <td>413</td>\n",
       "      <td>260.0</td>\n",
       "      <td>8.3</td>\n",
       "    </tr>\n",
       "    <tr>\n",
       "      <th>4</th>\n",
       "      <td>Pandora's Box</td>\n",
       "      <td>1929</td>\n",
       "      <td>Crime|Drama|Romance</td>\n",
       "      <td>German</td>\n",
       "      <td>Germany</td>\n",
       "      <td>Not Rated</td>\n",
       "      <td>110</td>\n",
       "      <td>1.33</td>\n",
       "      <td>NaN</td>\n",
       "      <td>9950.0</td>\n",
       "      <td>...</td>\n",
       "      <td>426</td>\n",
       "      <td>20</td>\n",
       "      <td>3.0</td>\n",
       "      <td>455</td>\n",
       "      <td>926</td>\n",
       "      <td>1</td>\n",
       "      <td>7431</td>\n",
       "      <td>84</td>\n",
       "      <td>71.0</td>\n",
       "      <td>8.0</td>\n",
       "    </tr>\n",
       "    <tr>\n",
       "      <th>...</th>\n",
       "      <td>...</td>\n",
       "      <td>...</td>\n",
       "      <td>...</td>\n",
       "      <td>...</td>\n",
       "      <td>...</td>\n",
       "      <td>...</td>\n",
       "      <td>...</td>\n",
       "      <td>...</td>\n",
       "      <td>...</td>\n",
       "      <td>...</td>\n",
       "      <td>...</td>\n",
       "      <td>...</td>\n",
       "      <td>...</td>\n",
       "      <td>...</td>\n",
       "      <td>...</td>\n",
       "      <td>...</td>\n",
       "      <td>...</td>\n",
       "      <td>...</td>\n",
       "      <td>...</td>\n",
       "      <td>...</td>\n",
       "      <td>...</td>\n",
       "    </tr>\n",
       "    <tr>\n",
       "      <th>1333</th>\n",
       "      <td>Twin Falls Idaho</td>\n",
       "      <td>1999</td>\n",
       "      <td>Drama</td>\n",
       "      <td>English</td>\n",
       "      <td>USA</td>\n",
       "      <td>R</td>\n",
       "      <td>111</td>\n",
       "      <td>1.85</td>\n",
       "      <td>500000.0</td>\n",
       "      <td>985341.0</td>\n",
       "      <td>...</td>\n",
       "      <td>980</td>\n",
       "      <td>505</td>\n",
       "      <td>482.0</td>\n",
       "      <td>3166</td>\n",
       "      <td>180</td>\n",
       "      <td>0</td>\n",
       "      <td>3479</td>\n",
       "      <td>87</td>\n",
       "      <td>54.0</td>\n",
       "      <td>7.3</td>\n",
       "    </tr>\n",
       "    <tr>\n",
       "      <th>1334</th>\n",
       "      <td>Universal Soldier: The Return</td>\n",
       "      <td>1999</td>\n",
       "      <td>Action|Sci-Fi</td>\n",
       "      <td>English</td>\n",
       "      <td>USA</td>\n",
       "      <td>R</td>\n",
       "      <td>83</td>\n",
       "      <td>1.85</td>\n",
       "      <td>24000000.0</td>\n",
       "      <td>10431220.0</td>\n",
       "      <td>...</td>\n",
       "      <td>2000</td>\n",
       "      <td>577</td>\n",
       "      <td>485.0</td>\n",
       "      <td>4024</td>\n",
       "      <td>401</td>\n",
       "      <td>0</td>\n",
       "      <td>24216</td>\n",
       "      <td>162</td>\n",
       "      <td>75.0</td>\n",
       "      <td>4.1</td>\n",
       "    </tr>\n",
       "    <tr>\n",
       "      <th>1335</th>\n",
       "      <td>Varsity Blues</td>\n",
       "      <td>1999</td>\n",
       "      <td>Comedy|Drama|Romance|Sport</td>\n",
       "      <td>English</td>\n",
       "      <td>USA</td>\n",
       "      <td>R</td>\n",
       "      <td>106</td>\n",
       "      <td>1.85</td>\n",
       "      <td>16000000.0</td>\n",
       "      <td>52885587.0</td>\n",
       "      <td>...</td>\n",
       "      <td>23000</td>\n",
       "      <td>255</td>\n",
       "      <td>35.0</td>\n",
       "      <td>23369</td>\n",
       "      <td>0</td>\n",
       "      <td>0</td>\n",
       "      <td>35312</td>\n",
       "      <td>267</td>\n",
       "      <td>67.0</td>\n",
       "      <td>6.4</td>\n",
       "    </tr>\n",
       "    <tr>\n",
       "      <th>1336</th>\n",
       "      <td>Wild Wild West</td>\n",
       "      <td>1999</td>\n",
       "      <td>Action|Comedy|Sci-Fi|Western</td>\n",
       "      <td>English</td>\n",
       "      <td>USA</td>\n",
       "      <td>PG-13</td>\n",
       "      <td>106</td>\n",
       "      <td>1.85</td>\n",
       "      <td>170000000.0</td>\n",
       "      <td>113745408.0</td>\n",
       "      <td>...</td>\n",
       "      <td>10000</td>\n",
       "      <td>4000</td>\n",
       "      <td>582.0</td>\n",
       "      <td>15870</td>\n",
       "      <td>0</td>\n",
       "      <td>2</td>\n",
       "      <td>129601</td>\n",
       "      <td>648</td>\n",
       "      <td>85.0</td>\n",
       "      <td>4.8</td>\n",
       "    </tr>\n",
       "    <tr>\n",
       "      <th>1337</th>\n",
       "      <td>Wing Commander</td>\n",
       "      <td>1999</td>\n",
       "      <td>Action|Adventure|Sci-Fi</td>\n",
       "      <td>English</td>\n",
       "      <td>USA</td>\n",
       "      <td>PG-13</td>\n",
       "      <td>100</td>\n",
       "      <td>2.35</td>\n",
       "      <td>30000000.0</td>\n",
       "      <td>11576087.0</td>\n",
       "      <td>...</td>\n",
       "      <td>811</td>\n",
       "      <td>586</td>\n",
       "      <td>362.0</td>\n",
       "      <td>2497</td>\n",
       "      <td>858</td>\n",
       "      <td>3</td>\n",
       "      <td>14747</td>\n",
       "      <td>338</td>\n",
       "      <td>85.0</td>\n",
       "      <td>4.1</td>\n",
       "    </tr>\n",
       "  </tbody>\n",
       "</table>\n",
       "<p>1338 rows × 25 columns</p>\n",
       "</div>"
      ],
      "text/plain": [
       "                                                  Title  Year  \\\n",
       "0     Intolerance: Love's Struggle Throughout the Ages   1916   \n",
       "1                       Over the Hill to the Poorhouse   1920   \n",
       "2                                       The Big Parade   1925   \n",
       "3                                           Metropolis   1927   \n",
       "4                                        Pandora's Box   1929   \n",
       "...                                                 ...   ...   \n",
       "1333                                  Twin Falls Idaho   1999   \n",
       "1334                     Universal Soldier: The Return   1999   \n",
       "1335                                     Varsity Blues   1999   \n",
       "1336                                    Wild Wild West   1999   \n",
       "1337                                    Wing Commander   1999   \n",
       "\n",
       "                            Genres Language  Country Content Rating  Duration  \\\n",
       "0                Drama|History|War      NaN      USA      Not Rated       123   \n",
       "1                      Crime|Drama      NaN      USA            NaN       110   \n",
       "2                Drama|Romance|War      NaN      USA      Not Rated       151   \n",
       "3                     Drama|Sci-Fi   German  Germany      Not Rated       145   \n",
       "4              Crime|Drama|Romance   German  Germany      Not Rated       110   \n",
       "...                            ...      ...      ...            ...       ...   \n",
       "1333                         Drama  English      USA              R       111   \n",
       "1334                 Action|Sci-Fi  English      USA              R        83   \n",
       "1335    Comedy|Drama|Romance|Sport  English      USA              R       106   \n",
       "1336  Action|Comedy|Sci-Fi|Western  English      USA          PG-13       106   \n",
       "1337       Action|Adventure|Sci-Fi  English      USA          PG-13       100   \n",
       "\n",
       "      Aspect Ratio       Budget  Gross Earnings  ... Facebook Likes - Actor 1  \\\n",
       "0             1.33     385907.0             NaN  ...                      436   \n",
       "1             1.33     100000.0       3000000.0  ...                        2   \n",
       "2             1.33     245000.0             NaN  ...                       81   \n",
       "3             1.33    6000000.0         26435.0  ...                      136   \n",
       "4             1.33          NaN          9950.0  ...                      426   \n",
       "...            ...          ...             ...  ...                      ...   \n",
       "1333          1.85     500000.0        985341.0  ...                      980   \n",
       "1334          1.85   24000000.0      10431220.0  ...                     2000   \n",
       "1335          1.85   16000000.0      52885587.0  ...                    23000   \n",
       "1336          1.85  170000000.0     113745408.0  ...                    10000   \n",
       "1337          2.35   30000000.0      11576087.0  ...                      811   \n",
       "\n",
       "     Facebook Likes - Actor 2 Facebook Likes - Actor 3  \\\n",
       "0                          22                      9.0   \n",
       "1                           2                      0.0   \n",
       "2                          12                      6.0   \n",
       "3                          23                     18.0   \n",
       "4                          20                      3.0   \n",
       "...                       ...                      ...   \n",
       "1333                      505                    482.0   \n",
       "1334                      577                    485.0   \n",
       "1335                      255                     35.0   \n",
       "1336                     4000                    582.0   \n",
       "1337                      586                    362.0   \n",
       "\n",
       "     Facebook Likes - cast Total  Facebook likes - Movie  \\\n",
       "0                            481                     691   \n",
       "1                              4                       0   \n",
       "2                            108                     226   \n",
       "3                            203                   12000   \n",
       "4                            455                     926   \n",
       "...                          ...                     ...   \n",
       "1333                        3166                     180   \n",
       "1334                        4024                     401   \n",
       "1335                       23369                       0   \n",
       "1336                       15870                       0   \n",
       "1337                        2497                     858   \n",
       "\n",
       "      Facenumber in posters  User Votes  Reviews by Users  Reviews by Crtiics  \\\n",
       "0                         1       10718                88                69.0   \n",
       "1                         1           5                 1                 1.0   \n",
       "2                         0        4849                45                48.0   \n",
       "3                         1      111841               413               260.0   \n",
       "4                         1        7431                84                71.0   \n",
       "...                     ...         ...               ...                 ...   \n",
       "1333                      0        3479                87                54.0   \n",
       "1334                      0       24216               162                75.0   \n",
       "1335                      0       35312               267                67.0   \n",
       "1336                      2      129601               648                85.0   \n",
       "1337                      3       14747               338                85.0   \n",
       "\n",
       "      IMDB Score  \n",
       "0            8.0  \n",
       "1            4.8  \n",
       "2            8.3  \n",
       "3            8.3  \n",
       "4            8.0  \n",
       "...          ...  \n",
       "1333         7.3  \n",
       "1334         4.1  \n",
       "1335         6.4  \n",
       "1336         4.8  \n",
       "1337         4.1  \n",
       "\n",
       "[1338 rows x 25 columns]"
      ]
     },
     "execution_count": 118,
     "metadata": {},
     "output_type": "execute_result"
    }
   ],
   "source": [
    "movies"
   ]
  },
  {
   "cell_type": "markdown",
   "id": "f1c0fdb9-b060-4d65-978a-8a337b054b0b",
   "metadata": {},
   "source": [
    "If we were to look at the Excel file, we would see it has in fact got multiple sheets. \n",
    "\n",
    "Be default Pandas will open the first sheet, 0. Sheets are 0-indexed. You can specify the sheet you would wish to import using `sheetname`, so as follows:"
   ]
  },
  {
   "cell_type": "code",
   "execution_count": 119,
   "id": "f45ba042-71bb-4010-b551-733e24c2a87d",
   "metadata": {},
   "outputs": [],
   "source": [
    "movies_2000s = pd.read_excel('./data/movies.xls', sheet_name=1)"
   ]
  },
  {
   "cell_type": "markdown",
   "id": "2a2680b0-7023-41cf-b7c9-a0fbc2198f1a",
   "metadata": {},
   "source": [
    "If you know the name of the sheet, this is equivalent:"
   ]
  },
  {
   "cell_type": "code",
   "execution_count": 120,
   "id": "7cddc32e-32ca-4962-adf1-cf2ce826a5fb",
   "metadata": {},
   "outputs": [],
   "source": [
    "movies_2000s = pd.read_excel('./data/movies.xls', sheet_name='2000s')"
   ]
  },
  {
   "cell_type": "code",
   "execution_count": 121,
   "id": "30665e22-69df-4bc7-ba3f-c87e2fbb68f5",
   "metadata": {},
   "outputs": [
    {
     "data": {
      "text/html": [
       "<div>\n",
       "<style scoped>\n",
       "    .dataframe tbody tr th:only-of-type {\n",
       "        vertical-align: middle;\n",
       "    }\n",
       "\n",
       "    .dataframe tbody tr th {\n",
       "        vertical-align: top;\n",
       "    }\n",
       "\n",
       "    .dataframe thead th {\n",
       "        text-align: right;\n",
       "    }\n",
       "</style>\n",
       "<table border=\"1\" class=\"dataframe\">\n",
       "  <thead>\n",
       "    <tr style=\"text-align: right;\">\n",
       "      <th></th>\n",
       "      <th>Title</th>\n",
       "      <th>Year</th>\n",
       "      <th>Genres</th>\n",
       "      <th>Language</th>\n",
       "      <th>Country</th>\n",
       "      <th>Content Rating</th>\n",
       "      <th>Duration</th>\n",
       "      <th>Aspect Ratio</th>\n",
       "      <th>Budget</th>\n",
       "      <th>Gross Earnings</th>\n",
       "      <th>...</th>\n",
       "      <th>Facebook Likes - Actor 1</th>\n",
       "      <th>Facebook Likes - Actor 2</th>\n",
       "      <th>Facebook Likes - Actor 3</th>\n",
       "      <th>Facebook Likes - cast Total</th>\n",
       "      <th>Facebook likes - Movie</th>\n",
       "      <th>Facenumber in posters</th>\n",
       "      <th>User Votes</th>\n",
       "      <th>Reviews by Users</th>\n",
       "      <th>Reviews by Crtiics</th>\n",
       "      <th>IMDB Score</th>\n",
       "    </tr>\n",
       "  </thead>\n",
       "  <tbody>\n",
       "    <tr>\n",
       "      <th>0</th>\n",
       "      <td>102 Dalmatians</td>\n",
       "      <td>2000</td>\n",
       "      <td>Adventure|Comedy|Family</td>\n",
       "      <td>English</td>\n",
       "      <td>USA</td>\n",
       "      <td>G</td>\n",
       "      <td>100.0</td>\n",
       "      <td>1.85</td>\n",
       "      <td>85000000.0</td>\n",
       "      <td>66941559.0</td>\n",
       "      <td>...</td>\n",
       "      <td>2000.0</td>\n",
       "      <td>795.0</td>\n",
       "      <td>439.0</td>\n",
       "      <td>4182</td>\n",
       "      <td>372</td>\n",
       "      <td>1</td>\n",
       "      <td>26413</td>\n",
       "      <td>77.0</td>\n",
       "      <td>84.0</td>\n",
       "      <td>4.8</td>\n",
       "    </tr>\n",
       "    <tr>\n",
       "      <th>1</th>\n",
       "      <td>28 Days</td>\n",
       "      <td>2000</td>\n",
       "      <td>Comedy|Drama</td>\n",
       "      <td>English</td>\n",
       "      <td>USA</td>\n",
       "      <td>PG-13</td>\n",
       "      <td>103.0</td>\n",
       "      <td>1.37</td>\n",
       "      <td>43000000.0</td>\n",
       "      <td>37035515.0</td>\n",
       "      <td>...</td>\n",
       "      <td>12000.0</td>\n",
       "      <td>10000.0</td>\n",
       "      <td>664.0</td>\n",
       "      <td>23864</td>\n",
       "      <td>0</td>\n",
       "      <td>1</td>\n",
       "      <td>34597</td>\n",
       "      <td>194.0</td>\n",
       "      <td>116.0</td>\n",
       "      <td>6.0</td>\n",
       "    </tr>\n",
       "    <tr>\n",
       "      <th>2</th>\n",
       "      <td>3 Strikes</td>\n",
       "      <td>2000</td>\n",
       "      <td>Comedy</td>\n",
       "      <td>English</td>\n",
       "      <td>USA</td>\n",
       "      <td>R</td>\n",
       "      <td>82.0</td>\n",
       "      <td>1.85</td>\n",
       "      <td>6000000.0</td>\n",
       "      <td>9821335.0</td>\n",
       "      <td>...</td>\n",
       "      <td>939.0</td>\n",
       "      <td>706.0</td>\n",
       "      <td>585.0</td>\n",
       "      <td>3354</td>\n",
       "      <td>118</td>\n",
       "      <td>1</td>\n",
       "      <td>1415</td>\n",
       "      <td>10.0</td>\n",
       "      <td>22.0</td>\n",
       "      <td>4.0</td>\n",
       "    </tr>\n",
       "    <tr>\n",
       "      <th>3</th>\n",
       "      <td>Aberdeen</td>\n",
       "      <td>2000</td>\n",
       "      <td>Drama</td>\n",
       "      <td>English</td>\n",
       "      <td>UK</td>\n",
       "      <td>NaN</td>\n",
       "      <td>106.0</td>\n",
       "      <td>1.85</td>\n",
       "      <td>6500000.0</td>\n",
       "      <td>64148.0</td>\n",
       "      <td>...</td>\n",
       "      <td>844.0</td>\n",
       "      <td>2.0</td>\n",
       "      <td>0.0</td>\n",
       "      <td>846</td>\n",
       "      <td>260</td>\n",
       "      <td>0</td>\n",
       "      <td>2601</td>\n",
       "      <td>35.0</td>\n",
       "      <td>28.0</td>\n",
       "      <td>7.3</td>\n",
       "    </tr>\n",
       "    <tr>\n",
       "      <th>4</th>\n",
       "      <td>All the Pretty Horses</td>\n",
       "      <td>2000</td>\n",
       "      <td>Drama|Romance|Western</td>\n",
       "      <td>English</td>\n",
       "      <td>USA</td>\n",
       "      <td>PG-13</td>\n",
       "      <td>220.0</td>\n",
       "      <td>2.35</td>\n",
       "      <td>57000000.0</td>\n",
       "      <td>15527125.0</td>\n",
       "      <td>...</td>\n",
       "      <td>13000.0</td>\n",
       "      <td>861.0</td>\n",
       "      <td>820.0</td>\n",
       "      <td>15006</td>\n",
       "      <td>652</td>\n",
       "      <td>2</td>\n",
       "      <td>11388</td>\n",
       "      <td>183.0</td>\n",
       "      <td>85.0</td>\n",
       "      <td>5.8</td>\n",
       "    </tr>\n",
       "  </tbody>\n",
       "</table>\n",
       "<p>5 rows × 25 columns</p>\n",
       "</div>"
      ],
      "text/plain": [
       "                    Title  Year                   Genres Language Country  \\\n",
       "0         102 Dalmatians   2000  Adventure|Comedy|Family  English     USA   \n",
       "1                28 Days   2000             Comedy|Drama  English     USA   \n",
       "2              3 Strikes   2000                   Comedy  English     USA   \n",
       "3               Aberdeen   2000                    Drama  English      UK   \n",
       "4  All the Pretty Horses   2000    Drama|Romance|Western  English     USA   \n",
       "\n",
       "  Content Rating  Duration  Aspect Ratio      Budget  Gross Earnings  ...  \\\n",
       "0              G     100.0          1.85  85000000.0      66941559.0  ...   \n",
       "1          PG-13     103.0          1.37  43000000.0      37035515.0  ...   \n",
       "2              R      82.0          1.85   6000000.0       9821335.0  ...   \n",
       "3            NaN     106.0          1.85   6500000.0         64148.0  ...   \n",
       "4          PG-13     220.0          2.35  57000000.0      15527125.0  ...   \n",
       "\n",
       "  Facebook Likes - Actor 1 Facebook Likes - Actor 2 Facebook Likes - Actor 3  \\\n",
       "0                   2000.0                    795.0                    439.0   \n",
       "1                  12000.0                  10000.0                    664.0   \n",
       "2                    939.0                    706.0                    585.0   \n",
       "3                    844.0                      2.0                      0.0   \n",
       "4                  13000.0                    861.0                    820.0   \n",
       "\n",
       "  Facebook Likes - cast Total  Facebook likes - Movie  Facenumber in posters  \\\n",
       "0                        4182                     372                      1   \n",
       "1                       23864                       0                      1   \n",
       "2                        3354                     118                      1   \n",
       "3                         846                     260                      0   \n",
       "4                       15006                     652                      2   \n",
       "\n",
       "   User Votes  Reviews by Users  Reviews by Crtiics  IMDB Score  \n",
       "0       26413              77.0                84.0         4.8  \n",
       "1       34597             194.0               116.0         6.0  \n",
       "2        1415              10.0                22.0         4.0  \n",
       "3        2601              35.0                28.0         7.3  \n",
       "4       11388             183.0                85.0         5.8  \n",
       "\n",
       "[5 rows x 25 columns]"
      ]
     },
     "execution_count": 121,
     "metadata": {},
     "output_type": "execute_result"
    }
   ],
   "source": [
    "movies_2000s.head()"
   ]
  },
  {
   "cell_type": "markdown",
   "id": "fb6d5f3a-5834-41be-8957-c42e0ac7b8f6",
   "metadata": {},
   "source": [
    "The first columns contains an automatically created index, if we wanted we could use the film title as an index instead:"
   ]
  },
  {
   "cell_type": "code",
   "execution_count": 122,
   "id": "40d62d07-eb2c-407e-9caa-120ce9029fff",
   "metadata": {},
   "outputs": [
    {
     "data": {
      "text/html": [
       "<div>\n",
       "<style scoped>\n",
       "    .dataframe tbody tr th:only-of-type {\n",
       "        vertical-align: middle;\n",
       "    }\n",
       "\n",
       "    .dataframe tbody tr th {\n",
       "        vertical-align: top;\n",
       "    }\n",
       "\n",
       "    .dataframe thead th {\n",
       "        text-align: right;\n",
       "    }\n",
       "</style>\n",
       "<table border=\"1\" class=\"dataframe\">\n",
       "  <thead>\n",
       "    <tr style=\"text-align: right;\">\n",
       "      <th></th>\n",
       "      <th>Year</th>\n",
       "      <th>Genres</th>\n",
       "      <th>Language</th>\n",
       "      <th>Country</th>\n",
       "      <th>Content Rating</th>\n",
       "      <th>Duration</th>\n",
       "      <th>Aspect Ratio</th>\n",
       "      <th>Budget</th>\n",
       "      <th>Gross Earnings</th>\n",
       "      <th>Director</th>\n",
       "      <th>...</th>\n",
       "      <th>Facebook Likes - Actor 1</th>\n",
       "      <th>Facebook Likes - Actor 2</th>\n",
       "      <th>Facebook Likes - Actor 3</th>\n",
       "      <th>Facebook Likes - cast Total</th>\n",
       "      <th>Facebook likes - Movie</th>\n",
       "      <th>Facenumber in posters</th>\n",
       "      <th>User Votes</th>\n",
       "      <th>Reviews by Users</th>\n",
       "      <th>Reviews by Crtiics</th>\n",
       "      <th>IMDB Score</th>\n",
       "    </tr>\n",
       "    <tr>\n",
       "      <th>Title</th>\n",
       "      <th></th>\n",
       "      <th></th>\n",
       "      <th></th>\n",
       "      <th></th>\n",
       "      <th></th>\n",
       "      <th></th>\n",
       "      <th></th>\n",
       "      <th></th>\n",
       "      <th></th>\n",
       "      <th></th>\n",
       "      <th></th>\n",
       "      <th></th>\n",
       "      <th></th>\n",
       "      <th></th>\n",
       "      <th></th>\n",
       "      <th></th>\n",
       "      <th></th>\n",
       "      <th></th>\n",
       "      <th></th>\n",
       "      <th></th>\n",
       "      <th></th>\n",
       "    </tr>\n",
       "  </thead>\n",
       "  <tbody>\n",
       "    <tr>\n",
       "      <th>102 Dalmatians</th>\n",
       "      <td>2000</td>\n",
       "      <td>Adventure|Comedy|Family</td>\n",
       "      <td>English</td>\n",
       "      <td>USA</td>\n",
       "      <td>G</td>\n",
       "      <td>100.0</td>\n",
       "      <td>1.85</td>\n",
       "      <td>85000000.0</td>\n",
       "      <td>66941559.0</td>\n",
       "      <td>Kevin Lima</td>\n",
       "      <td>...</td>\n",
       "      <td>2000.0</td>\n",
       "      <td>795.0</td>\n",
       "      <td>439.0</td>\n",
       "      <td>4182</td>\n",
       "      <td>372</td>\n",
       "      <td>1</td>\n",
       "      <td>26413</td>\n",
       "      <td>77.0</td>\n",
       "      <td>84.0</td>\n",
       "      <td>4.8</td>\n",
       "    </tr>\n",
       "    <tr>\n",
       "      <th>28 Days</th>\n",
       "      <td>2000</td>\n",
       "      <td>Comedy|Drama</td>\n",
       "      <td>English</td>\n",
       "      <td>USA</td>\n",
       "      <td>PG-13</td>\n",
       "      <td>103.0</td>\n",
       "      <td>1.37</td>\n",
       "      <td>43000000.0</td>\n",
       "      <td>37035515.0</td>\n",
       "      <td>Betty Thomas</td>\n",
       "      <td>...</td>\n",
       "      <td>12000.0</td>\n",
       "      <td>10000.0</td>\n",
       "      <td>664.0</td>\n",
       "      <td>23864</td>\n",
       "      <td>0</td>\n",
       "      <td>1</td>\n",
       "      <td>34597</td>\n",
       "      <td>194.0</td>\n",
       "      <td>116.0</td>\n",
       "      <td>6.0</td>\n",
       "    </tr>\n",
       "    <tr>\n",
       "      <th>3 Strikes</th>\n",
       "      <td>2000</td>\n",
       "      <td>Comedy</td>\n",
       "      <td>English</td>\n",
       "      <td>USA</td>\n",
       "      <td>R</td>\n",
       "      <td>82.0</td>\n",
       "      <td>1.85</td>\n",
       "      <td>6000000.0</td>\n",
       "      <td>9821335.0</td>\n",
       "      <td>DJ Pooh</td>\n",
       "      <td>...</td>\n",
       "      <td>939.0</td>\n",
       "      <td>706.0</td>\n",
       "      <td>585.0</td>\n",
       "      <td>3354</td>\n",
       "      <td>118</td>\n",
       "      <td>1</td>\n",
       "      <td>1415</td>\n",
       "      <td>10.0</td>\n",
       "      <td>22.0</td>\n",
       "      <td>4.0</td>\n",
       "    </tr>\n",
       "    <tr>\n",
       "      <th>Aberdeen</th>\n",
       "      <td>2000</td>\n",
       "      <td>Drama</td>\n",
       "      <td>English</td>\n",
       "      <td>UK</td>\n",
       "      <td>NaN</td>\n",
       "      <td>106.0</td>\n",
       "      <td>1.85</td>\n",
       "      <td>6500000.0</td>\n",
       "      <td>64148.0</td>\n",
       "      <td>Hans Petter Moland</td>\n",
       "      <td>...</td>\n",
       "      <td>844.0</td>\n",
       "      <td>2.0</td>\n",
       "      <td>0.0</td>\n",
       "      <td>846</td>\n",
       "      <td>260</td>\n",
       "      <td>0</td>\n",
       "      <td>2601</td>\n",
       "      <td>35.0</td>\n",
       "      <td>28.0</td>\n",
       "      <td>7.3</td>\n",
       "    </tr>\n",
       "    <tr>\n",
       "      <th>All the Pretty Horses</th>\n",
       "      <td>2000</td>\n",
       "      <td>Drama|Romance|Western</td>\n",
       "      <td>English</td>\n",
       "      <td>USA</td>\n",
       "      <td>PG-13</td>\n",
       "      <td>220.0</td>\n",
       "      <td>2.35</td>\n",
       "      <td>57000000.0</td>\n",
       "      <td>15527125.0</td>\n",
       "      <td>Billy Bob Thornton</td>\n",
       "      <td>...</td>\n",
       "      <td>13000.0</td>\n",
       "      <td>861.0</td>\n",
       "      <td>820.0</td>\n",
       "      <td>15006</td>\n",
       "      <td>652</td>\n",
       "      <td>2</td>\n",
       "      <td>11388</td>\n",
       "      <td>183.0</td>\n",
       "      <td>85.0</td>\n",
       "      <td>5.8</td>\n",
       "    </tr>\n",
       "  </tbody>\n",
       "</table>\n",
       "<p>5 rows × 24 columns</p>\n",
       "</div>"
      ],
      "text/plain": [
       "                        Year                   Genres Language Country  \\\n",
       "Title                                                                    \n",
       "102 Dalmatians          2000  Adventure|Comedy|Family  English     USA   \n",
       "28 Days                 2000             Comedy|Drama  English     USA   \n",
       "3 Strikes               2000                   Comedy  English     USA   \n",
       "Aberdeen                2000                    Drama  English      UK   \n",
       "All the Pretty Horses   2000    Drama|Romance|Western  English     USA   \n",
       "\n",
       "                       Content Rating  Duration  Aspect Ratio      Budget  \\\n",
       "Title                                                                       \n",
       "102 Dalmatians                      G     100.0          1.85  85000000.0   \n",
       "28 Days                         PG-13     103.0          1.37  43000000.0   \n",
       "3 Strikes                           R      82.0          1.85   6000000.0   \n",
       "Aberdeen                          NaN     106.0          1.85   6500000.0   \n",
       "All the Pretty Horses           PG-13     220.0          2.35  57000000.0   \n",
       "\n",
       "                        Gross Earnings            Director  ...  \\\n",
       "Title                                                       ...   \n",
       "102 Dalmatians              66941559.0          Kevin Lima  ...   \n",
       "28 Days                     37035515.0        Betty Thomas  ...   \n",
       "3 Strikes                    9821335.0             DJ Pooh  ...   \n",
       "Aberdeen                       64148.0  Hans Petter Moland  ...   \n",
       "All the Pretty Horses       15527125.0  Billy Bob Thornton  ...   \n",
       "\n",
       "                       Facebook Likes - Actor 1 Facebook Likes - Actor 2  \\\n",
       "Title                                                                      \n",
       "102 Dalmatians                           2000.0                    795.0   \n",
       "28 Days                                 12000.0                  10000.0   \n",
       "3 Strikes                                 939.0                    706.0   \n",
       "Aberdeen                                  844.0                      2.0   \n",
       "All the Pretty Horses                   13000.0                    861.0   \n",
       "\n",
       "                       Facebook Likes - Actor 3  Facebook Likes - cast Total  \\\n",
       "Title                                                                          \n",
       "102 Dalmatians                            439.0                         4182   \n",
       "28 Days                                   664.0                        23864   \n",
       "3 Strikes                                 585.0                         3354   \n",
       "Aberdeen                                    0.0                          846   \n",
       "All the Pretty Horses                     820.0                        15006   \n",
       "\n",
       "                        Facebook likes - Movie  Facenumber in posters  \\\n",
       "Title                                                                   \n",
       "102 Dalmatians                             372                      1   \n",
       "28 Days                                      0                      1   \n",
       "3 Strikes                                  118                      1   \n",
       "Aberdeen                                   260                      0   \n",
       "All the Pretty Horses                      652                      2   \n",
       "\n",
       "                        User Votes  Reviews by Users  Reviews by Crtiics  \\\n",
       "Title                                                                      \n",
       "102 Dalmatians               26413              77.0                84.0   \n",
       "28 Days                      34597             194.0               116.0   \n",
       "3 Strikes                     1415              10.0                22.0   \n",
       "Aberdeen                      2601              35.0                28.0   \n",
       "All the Pretty Horses        11388             183.0                85.0   \n",
       "\n",
       "                        IMDB Score  \n",
       "Title                               \n",
       "102 Dalmatians                 4.8  \n",
       "28 Days                        6.0  \n",
       "3 Strikes                      4.0  \n",
       "Aberdeen                       7.3  \n",
       "All the Pretty Horses          5.8  \n",
       "\n",
       "[5 rows x 24 columns]"
      ]
     },
     "execution_count": 122,
     "metadata": {},
     "output_type": "execute_result"
    }
   ],
   "source": [
    "movies_2000s = pd.read_excel('./data/movies.xls', sheet_name=1, index_col=0)\n",
    "movies_2000s.head()"
   ]
  },
  {
   "cell_type": "markdown",
   "id": "d85ba411-d3f4-4eae-8b4d-b9ed33c16d0c",
   "metadata": {},
   "source": [
    "### Iris\n",
    "\n",
    "Let's move to another dataset, namely the Iris dataset:"
   ]
  },
  {
   "cell_type": "code",
   "execution_count": 123,
   "id": "fd4990af-3ad6-4b5f-a5ab-8ddc046c4d0e",
   "metadata": {},
   "outputs": [],
   "source": [
    "iris_df = pd.read_csv('data/iris.csv', sep=',', header=None)"
   ]
  },
  {
   "cell_type": "markdown",
   "id": "f4870cf4-fc85-49df-b1cc-359dddad805f",
   "metadata": {},
   "source": [
    "Jupyter formats your data nicely if you just execute the variable name:"
   ]
  },
  {
   "cell_type": "code",
   "execution_count": 124,
   "id": "4e219336-a159-46b1-afa7-df65084d35f5",
   "metadata": {},
   "outputs": [
    {
     "data": {
      "text/html": [
       "<div>\n",
       "<style scoped>\n",
       "    .dataframe tbody tr th:only-of-type {\n",
       "        vertical-align: middle;\n",
       "    }\n",
       "\n",
       "    .dataframe tbody tr th {\n",
       "        vertical-align: top;\n",
       "    }\n",
       "\n",
       "    .dataframe thead th {\n",
       "        text-align: right;\n",
       "    }\n",
       "</style>\n",
       "<table border=\"1\" class=\"dataframe\">\n",
       "  <thead>\n",
       "    <tr style=\"text-align: right;\">\n",
       "      <th></th>\n",
       "      <th>0</th>\n",
       "      <th>1</th>\n",
       "      <th>2</th>\n",
       "      <th>3</th>\n",
       "      <th>4</th>\n",
       "    </tr>\n",
       "  </thead>\n",
       "  <tbody>\n",
       "    <tr>\n",
       "      <th>0</th>\n",
       "      <td>5.1</td>\n",
       "      <td>3.5</td>\n",
       "      <td>1.4</td>\n",
       "      <td>0.2</td>\n",
       "      <td>Iris-setosa</td>\n",
       "    </tr>\n",
       "    <tr>\n",
       "      <th>1</th>\n",
       "      <td>4.9</td>\n",
       "      <td>3.0</td>\n",
       "      <td>1.4</td>\n",
       "      <td>0.2</td>\n",
       "      <td>Iris-setosa</td>\n",
       "    </tr>\n",
       "    <tr>\n",
       "      <th>2</th>\n",
       "      <td>4.7</td>\n",
       "      <td>3.2</td>\n",
       "      <td>1.3</td>\n",
       "      <td>0.2</td>\n",
       "      <td>Iris-setosa</td>\n",
       "    </tr>\n",
       "    <tr>\n",
       "      <th>3</th>\n",
       "      <td>4.6</td>\n",
       "      <td>3.1</td>\n",
       "      <td>1.5</td>\n",
       "      <td>0.2</td>\n",
       "      <td>Iris-setosa</td>\n",
       "    </tr>\n",
       "    <tr>\n",
       "      <th>4</th>\n",
       "      <td>5.0</td>\n",
       "      <td>3.6</td>\n",
       "      <td>1.4</td>\n",
       "      <td>0.2</td>\n",
       "      <td>Iris-setosa</td>\n",
       "    </tr>\n",
       "    <tr>\n",
       "      <th>...</th>\n",
       "      <td>...</td>\n",
       "      <td>...</td>\n",
       "      <td>...</td>\n",
       "      <td>...</td>\n",
       "      <td>...</td>\n",
       "    </tr>\n",
       "    <tr>\n",
       "      <th>145</th>\n",
       "      <td>6.7</td>\n",
       "      <td>3.0</td>\n",
       "      <td>5.2</td>\n",
       "      <td>2.3</td>\n",
       "      <td>Iris-virginica</td>\n",
       "    </tr>\n",
       "    <tr>\n",
       "      <th>146</th>\n",
       "      <td>6.3</td>\n",
       "      <td>2.5</td>\n",
       "      <td>5.0</td>\n",
       "      <td>1.9</td>\n",
       "      <td>Iris-virginica</td>\n",
       "    </tr>\n",
       "    <tr>\n",
       "      <th>147</th>\n",
       "      <td>6.5</td>\n",
       "      <td>3.0</td>\n",
       "      <td>5.2</td>\n",
       "      <td>2.0</td>\n",
       "      <td>Iris-virginica</td>\n",
       "    </tr>\n",
       "    <tr>\n",
       "      <th>148</th>\n",
       "      <td>6.2</td>\n",
       "      <td>3.4</td>\n",
       "      <td>5.4</td>\n",
       "      <td>2.3</td>\n",
       "      <td>Iris-virginica</td>\n",
       "    </tr>\n",
       "    <tr>\n",
       "      <th>149</th>\n",
       "      <td>5.9</td>\n",
       "      <td>3.0</td>\n",
       "      <td>5.1</td>\n",
       "      <td>1.8</td>\n",
       "      <td>Iris-virginica</td>\n",
       "    </tr>\n",
       "  </tbody>\n",
       "</table>\n",
       "<p>150 rows × 5 columns</p>\n",
       "</div>"
      ],
      "text/plain": [
       "       0    1    2    3               4\n",
       "0    5.1  3.5  1.4  0.2     Iris-setosa\n",
       "1    4.9  3.0  1.4  0.2     Iris-setosa\n",
       "2    4.7  3.2  1.3  0.2     Iris-setosa\n",
       "3    4.6  3.1  1.5  0.2     Iris-setosa\n",
       "4    5.0  3.6  1.4  0.2     Iris-setosa\n",
       "..   ...  ...  ...  ...             ...\n",
       "145  6.7  3.0  5.2  2.3  Iris-virginica\n",
       "146  6.3  2.5  5.0  1.9  Iris-virginica\n",
       "147  6.5  3.0  5.2  2.0  Iris-virginica\n",
       "148  6.2  3.4  5.4  2.3  Iris-virginica\n",
       "149  5.9  3.0  5.1  1.8  Iris-virginica\n",
       "\n",
       "[150 rows x 5 columns]"
      ]
     },
     "execution_count": 124,
     "metadata": {},
     "output_type": "execute_result"
    }
   ],
   "source": [
    "iris_df"
   ]
  },
  {
   "cell_type": "markdown",
   "id": "7a8b590e-129a-4c8a-8b04-f7658e2d145b",
   "metadata": {},
   "source": [
    "You can use `print()` if tou prefer to see the data in its unformatted state:"
   ]
  },
  {
   "cell_type": "code",
   "execution_count": 125,
   "id": "608fe628-c95c-4c52-9ef5-4617809e9286",
   "metadata": {},
   "outputs": [
    {
     "name": "stdout",
     "output_type": "stream",
     "text": [
      "       0    1    2    3               4\n",
      "0    5.1  3.5  1.4  0.2     Iris-setosa\n",
      "1    4.9  3.0  1.4  0.2     Iris-setosa\n",
      "2    4.7  3.2  1.3  0.2     Iris-setosa\n",
      "3    4.6  3.1  1.5  0.2     Iris-setosa\n",
      "4    5.0  3.6  1.4  0.2     Iris-setosa\n",
      "..   ...  ...  ...  ...             ...\n",
      "145  6.7  3.0  5.2  2.3  Iris-virginica\n",
      "146  6.3  2.5  5.0  1.9  Iris-virginica\n",
      "147  6.5  3.0  5.2  2.0  Iris-virginica\n",
      "148  6.2  3.4  5.4  2.3  Iris-virginica\n",
      "149  5.9  3.0  5.1  1.8  Iris-virginica\n",
      "\n",
      "[150 rows x 5 columns]\n"
     ]
    }
   ],
   "source": [
    "print(iris_df)"
   ]
  },
  {
   "cell_type": "markdown",
   "id": "76cd9e6b-a433-48a2-bfc8-ca30afd284a5",
   "metadata": {},
   "source": [
    "The `head()` and `tail()` functions are useful for previewing your data:"
   ]
  },
  {
   "cell_type": "markdown",
   "id": "28ffc101-8292-4684-88aa-9ad34e320848",
   "metadata": {},
   "source": [
    "We mentioned previously that Pandas is similar to Excel or R's data frames: here we will add a column names to the dataset:"
   ]
  },
  {
   "cell_type": "code",
   "execution_count": 126,
   "id": "7fc72764-cb10-41d2-ac06-912a7086c2ff",
   "metadata": {},
   "outputs": [],
   "source": [
    "iris_df.columns = [\"sepal_length\", 'sepal_width', 'petal_length', 'petal_width', 'class']"
   ]
  },
  {
   "cell_type": "code",
   "execution_count": 127,
   "id": "3c78c436-6f9b-4cd2-8c3b-041e684eea26",
   "metadata": {},
   "outputs": [
    {
     "data": {
      "text/html": [
       "<div>\n",
       "<style scoped>\n",
       "    .dataframe tbody tr th:only-of-type {\n",
       "        vertical-align: middle;\n",
       "    }\n",
       "\n",
       "    .dataframe tbody tr th {\n",
       "        vertical-align: top;\n",
       "    }\n",
       "\n",
       "    .dataframe thead th {\n",
       "        text-align: right;\n",
       "    }\n",
       "</style>\n",
       "<table border=\"1\" class=\"dataframe\">\n",
       "  <thead>\n",
       "    <tr style=\"text-align: right;\">\n",
       "      <th></th>\n",
       "      <th>sepal_length</th>\n",
       "      <th>sepal_width</th>\n",
       "      <th>petal_length</th>\n",
       "      <th>petal_width</th>\n",
       "      <th>class</th>\n",
       "    </tr>\n",
       "  </thead>\n",
       "  <tbody>\n",
       "    <tr>\n",
       "      <th>0</th>\n",
       "      <td>5.1</td>\n",
       "      <td>3.5</td>\n",
       "      <td>1.4</td>\n",
       "      <td>0.2</td>\n",
       "      <td>Iris-setosa</td>\n",
       "    </tr>\n",
       "    <tr>\n",
       "      <th>1</th>\n",
       "      <td>4.9</td>\n",
       "      <td>3.0</td>\n",
       "      <td>1.4</td>\n",
       "      <td>0.2</td>\n",
       "      <td>Iris-setosa</td>\n",
       "    </tr>\n",
       "    <tr>\n",
       "      <th>2</th>\n",
       "      <td>4.7</td>\n",
       "      <td>3.2</td>\n",
       "      <td>1.3</td>\n",
       "      <td>0.2</td>\n",
       "      <td>Iris-setosa</td>\n",
       "    </tr>\n",
       "    <tr>\n",
       "      <th>3</th>\n",
       "      <td>4.6</td>\n",
       "      <td>3.1</td>\n",
       "      <td>1.5</td>\n",
       "      <td>0.2</td>\n",
       "      <td>Iris-setosa</td>\n",
       "    </tr>\n",
       "    <tr>\n",
       "      <th>4</th>\n",
       "      <td>5.0</td>\n",
       "      <td>3.6</td>\n",
       "      <td>1.4</td>\n",
       "      <td>0.2</td>\n",
       "      <td>Iris-setosa</td>\n",
       "    </tr>\n",
       "    <tr>\n",
       "      <th>...</th>\n",
       "      <td>...</td>\n",
       "      <td>...</td>\n",
       "      <td>...</td>\n",
       "      <td>...</td>\n",
       "      <td>...</td>\n",
       "    </tr>\n",
       "    <tr>\n",
       "      <th>145</th>\n",
       "      <td>6.7</td>\n",
       "      <td>3.0</td>\n",
       "      <td>5.2</td>\n",
       "      <td>2.3</td>\n",
       "      <td>Iris-virginica</td>\n",
       "    </tr>\n",
       "    <tr>\n",
       "      <th>146</th>\n",
       "      <td>6.3</td>\n",
       "      <td>2.5</td>\n",
       "      <td>5.0</td>\n",
       "      <td>1.9</td>\n",
       "      <td>Iris-virginica</td>\n",
       "    </tr>\n",
       "    <tr>\n",
       "      <th>147</th>\n",
       "      <td>6.5</td>\n",
       "      <td>3.0</td>\n",
       "      <td>5.2</td>\n",
       "      <td>2.0</td>\n",
       "      <td>Iris-virginica</td>\n",
       "    </tr>\n",
       "    <tr>\n",
       "      <th>148</th>\n",
       "      <td>6.2</td>\n",
       "      <td>3.4</td>\n",
       "      <td>5.4</td>\n",
       "      <td>2.3</td>\n",
       "      <td>Iris-virginica</td>\n",
       "    </tr>\n",
       "    <tr>\n",
       "      <th>149</th>\n",
       "      <td>5.9</td>\n",
       "      <td>3.0</td>\n",
       "      <td>5.1</td>\n",
       "      <td>1.8</td>\n",
       "      <td>Iris-virginica</td>\n",
       "    </tr>\n",
       "  </tbody>\n",
       "</table>\n",
       "<p>150 rows × 5 columns</p>\n",
       "</div>"
      ],
      "text/plain": [
       "     sepal_length  sepal_width  petal_length  petal_width           class\n",
       "0             5.1          3.5           1.4          0.2     Iris-setosa\n",
       "1             4.9          3.0           1.4          0.2     Iris-setosa\n",
       "2             4.7          3.2           1.3          0.2     Iris-setosa\n",
       "3             4.6          3.1           1.5          0.2     Iris-setosa\n",
       "4             5.0          3.6           1.4          0.2     Iris-setosa\n",
       "..            ...          ...           ...          ...             ...\n",
       "145           6.7          3.0           5.2          2.3  Iris-virginica\n",
       "146           6.3          2.5           5.0          1.9  Iris-virginica\n",
       "147           6.5          3.0           5.2          2.0  Iris-virginica\n",
       "148           6.2          3.4           5.4          2.3  Iris-virginica\n",
       "149           5.9          3.0           5.1          1.8  Iris-virginica\n",
       "\n",
       "[150 rows x 5 columns]"
      ]
     },
     "execution_count": 127,
     "metadata": {},
     "output_type": "execute_result"
    }
   ],
   "source": [
    "iris_df"
   ]
  },
  {
   "cell_type": "markdown",
   "id": "da82fcff-5400-4dd2-9162-c61d5aa730c2",
   "metadata": {},
   "source": [
    "You can use the `describe()` function to get a quick look overview of some of the statistics of the data, such as the mean value per column:"
   ]
  },
  {
   "cell_type": "code",
   "execution_count": 128,
   "id": "fca69f6b-4362-4db7-aadb-c8e164d0c8dd",
   "metadata": {},
   "outputs": [
    {
     "data": {
      "text/html": [
       "<div>\n",
       "<style scoped>\n",
       "    .dataframe tbody tr th:only-of-type {\n",
       "        vertical-align: middle;\n",
       "    }\n",
       "\n",
       "    .dataframe tbody tr th {\n",
       "        vertical-align: top;\n",
       "    }\n",
       "\n",
       "    .dataframe thead th {\n",
       "        text-align: right;\n",
       "    }\n",
       "</style>\n",
       "<table border=\"1\" class=\"dataframe\">\n",
       "  <thead>\n",
       "    <tr style=\"text-align: right;\">\n",
       "      <th></th>\n",
       "      <th>sepal_length</th>\n",
       "      <th>sepal_width</th>\n",
       "      <th>petal_length</th>\n",
       "      <th>petal_width</th>\n",
       "    </tr>\n",
       "  </thead>\n",
       "  <tbody>\n",
       "    <tr>\n",
       "      <th>count</th>\n",
       "      <td>150.000000</td>\n",
       "      <td>150.000000</td>\n",
       "      <td>150.000000</td>\n",
       "      <td>150.000000</td>\n",
       "    </tr>\n",
       "    <tr>\n",
       "      <th>mean</th>\n",
       "      <td>5.843333</td>\n",
       "      <td>3.054000</td>\n",
       "      <td>3.758667</td>\n",
       "      <td>1.198667</td>\n",
       "    </tr>\n",
       "    <tr>\n",
       "      <th>std</th>\n",
       "      <td>0.828066</td>\n",
       "      <td>0.433594</td>\n",
       "      <td>1.764420</td>\n",
       "      <td>0.763161</td>\n",
       "    </tr>\n",
       "    <tr>\n",
       "      <th>min</th>\n",
       "      <td>4.300000</td>\n",
       "      <td>2.000000</td>\n",
       "      <td>1.000000</td>\n",
       "      <td>0.100000</td>\n",
       "    </tr>\n",
       "    <tr>\n",
       "      <th>25%</th>\n",
       "      <td>5.100000</td>\n",
       "      <td>2.800000</td>\n",
       "      <td>1.600000</td>\n",
       "      <td>0.300000</td>\n",
       "    </tr>\n",
       "    <tr>\n",
       "      <th>50%</th>\n",
       "      <td>5.800000</td>\n",
       "      <td>3.000000</td>\n",
       "      <td>4.350000</td>\n",
       "      <td>1.300000</td>\n",
       "    </tr>\n",
       "    <tr>\n",
       "      <th>75%</th>\n",
       "      <td>6.400000</td>\n",
       "      <td>3.300000</td>\n",
       "      <td>5.100000</td>\n",
       "      <td>1.800000</td>\n",
       "    </tr>\n",
       "    <tr>\n",
       "      <th>max</th>\n",
       "      <td>7.900000</td>\n",
       "      <td>4.400000</td>\n",
       "      <td>6.900000</td>\n",
       "      <td>2.500000</td>\n",
       "    </tr>\n",
       "  </tbody>\n",
       "</table>\n",
       "</div>"
      ],
      "text/plain": [
       "       sepal_length  sepal_width  petal_length  petal_width\n",
       "count    150.000000   150.000000    150.000000   150.000000\n",
       "mean       5.843333     3.054000      3.758667     1.198667\n",
       "std        0.828066     0.433594      1.764420     0.763161\n",
       "min        4.300000     2.000000      1.000000     0.100000\n",
       "25%        5.100000     2.800000      1.600000     0.300000\n",
       "50%        5.800000     3.000000      4.350000     1.300000\n",
       "75%        6.400000     3.300000      5.100000     1.800000\n",
       "max        7.900000     4.400000      6.900000     2.500000"
      ]
     },
     "execution_count": 128,
     "metadata": {},
     "output_type": "execute_result"
    }
   ],
   "source": [
    "iris_df.describe()"
   ]
  },
  {
   "cell_type": "markdown",
   "id": "529c8781-6032-439e-b4d0-bf7150f02e34",
   "metadata": {},
   "source": [
    "Note that the class column is not included as it does not contain numerical data."
   ]
  },
  {
   "cell_type": "markdown",
   "id": "f0159b27-4946-45d1-a017-e6830d22db6c",
   "metadata": {},
   "source": [
    "### Slicing Data\n",
    "\n",
    "You can select rows and columns based on parameters using Pandas easily. For example if you only wanted the 'sepal length (cm)' column:"
   ]
  },
  {
   "cell_type": "code",
   "execution_count": 129,
   "id": "e3c1bf2f-7794-4448-a8f5-fea6e7da150d",
   "metadata": {},
   "outputs": [
    {
     "data": {
      "text/plain": [
       "0      5.1\n",
       "1      4.9\n",
       "2      4.7\n",
       "3      4.6\n",
       "4      5.0\n",
       "      ... \n",
       "145    6.7\n",
       "146    6.3\n",
       "147    6.5\n",
       "148    6.2\n",
       "149    5.9\n",
       "Name: sepal_length, Length: 150, dtype: float64"
      ]
     },
     "execution_count": 129,
     "metadata": {},
     "output_type": "execute_result"
    }
   ],
   "source": [
    "iris_df['sepal_length']"
   ]
  },
  {
   "cell_type": "markdown",
   "id": "d1503e9f-fa16-40e6-8045-d459a5550090",
   "metadata": {},
   "source": [
    "If your column name does not contain any spaces or special characters, you can use the dot (`.`) notation to select columns:"
   ]
  },
  {
   "cell_type": "code",
   "execution_count": 130,
   "id": "3ddd9c4f-ced8-4389-b40d-975263af7e44",
   "metadata": {},
   "outputs": [
    {
     "data": {
      "text/plain": [
       "0      5.1\n",
       "1      4.9\n",
       "2      4.7\n",
       "3      4.6\n",
       "4      5.0\n",
       "      ... \n",
       "145    6.7\n",
       "146    6.3\n",
       "147    6.5\n",
       "148    6.2\n",
       "149    5.9\n",
       "Name: sepal_length, Length: 150, dtype: float64"
      ]
     },
     "execution_count": 130,
     "metadata": {},
     "output_type": "execute_result"
    }
   ],
   "source": [
    "iris_df.sepal_length"
   ]
  },
  {
   "cell_type": "markdown",
   "id": "2c8703b1-6acd-4f53-89f8-5da482f3c7e4",
   "metadata": {},
   "source": [
    "You can also select multiple columns by passing a list:"
   ]
  },
  {
   "cell_type": "code",
   "execution_count": 131,
   "id": "20c3aa4b-1080-41df-a6b5-1714ceeb8013",
   "metadata": {},
   "outputs": [
    {
     "data": {
      "text/html": [
       "<div>\n",
       "<style scoped>\n",
       "    .dataframe tbody tr th:only-of-type {\n",
       "        vertical-align: middle;\n",
       "    }\n",
       "\n",
       "    .dataframe tbody tr th {\n",
       "        vertical-align: top;\n",
       "    }\n",
       "\n",
       "    .dataframe thead th {\n",
       "        text-align: right;\n",
       "    }\n",
       "</style>\n",
       "<table border=\"1\" class=\"dataframe\">\n",
       "  <thead>\n",
       "    <tr style=\"text-align: right;\">\n",
       "      <th></th>\n",
       "      <th>petal_length</th>\n",
       "      <th>class</th>\n",
       "    </tr>\n",
       "  </thead>\n",
       "  <tbody>\n",
       "    <tr>\n",
       "      <th>0</th>\n",
       "      <td>1.4</td>\n",
       "      <td>Iris-setosa</td>\n",
       "    </tr>\n",
       "    <tr>\n",
       "      <th>1</th>\n",
       "      <td>1.4</td>\n",
       "      <td>Iris-setosa</td>\n",
       "    </tr>\n",
       "    <tr>\n",
       "      <th>2</th>\n",
       "      <td>1.3</td>\n",
       "      <td>Iris-setosa</td>\n",
       "    </tr>\n",
       "    <tr>\n",
       "      <th>3</th>\n",
       "      <td>1.5</td>\n",
       "      <td>Iris-setosa</td>\n",
       "    </tr>\n",
       "    <tr>\n",
       "      <th>4</th>\n",
       "      <td>1.4</td>\n",
       "      <td>Iris-setosa</td>\n",
       "    </tr>\n",
       "    <tr>\n",
       "      <th>...</th>\n",
       "      <td>...</td>\n",
       "      <td>...</td>\n",
       "    </tr>\n",
       "    <tr>\n",
       "      <th>145</th>\n",
       "      <td>5.2</td>\n",
       "      <td>Iris-virginica</td>\n",
       "    </tr>\n",
       "    <tr>\n",
       "      <th>146</th>\n",
       "      <td>5.0</td>\n",
       "      <td>Iris-virginica</td>\n",
       "    </tr>\n",
       "    <tr>\n",
       "      <th>147</th>\n",
       "      <td>5.2</td>\n",
       "      <td>Iris-virginica</td>\n",
       "    </tr>\n",
       "    <tr>\n",
       "      <th>148</th>\n",
       "      <td>5.4</td>\n",
       "      <td>Iris-virginica</td>\n",
       "    </tr>\n",
       "    <tr>\n",
       "      <th>149</th>\n",
       "      <td>5.1</td>\n",
       "      <td>Iris-virginica</td>\n",
       "    </tr>\n",
       "  </tbody>\n",
       "</table>\n",
       "<p>150 rows × 2 columns</p>\n",
       "</div>"
      ],
      "text/plain": [
       "     petal_length           class\n",
       "0             1.4     Iris-setosa\n",
       "1             1.4     Iris-setosa\n",
       "2             1.3     Iris-setosa\n",
       "3             1.5     Iris-setosa\n",
       "4             1.4     Iris-setosa\n",
       "..            ...             ...\n",
       "145           5.2  Iris-virginica\n",
       "146           5.0  Iris-virginica\n",
       "147           5.2  Iris-virginica\n",
       "148           5.4  Iris-virginica\n",
       "149           5.1  Iris-virginica\n",
       "\n",
       "[150 rows x 2 columns]"
      ]
     },
     "execution_count": 131,
     "metadata": {},
     "output_type": "execute_result"
    }
   ],
   "source": [
    "iris_df[['petal_length', 'class']]"
   ]
  },
  {
   "cell_type": "markdown",
   "id": "0342f227-46d9-46b2-80a2-6fdac3ab4047",
   "metadata": {},
   "source": [
    "If you know the index, which is a zero-based numerical list of all rows, then use the `loc`:"
   ]
  },
  {
   "cell_type": "code",
   "execution_count": 132,
   "id": "6232b9df-a371-445c-8b92-5044b0b040a8",
   "metadata": {},
   "outputs": [
    {
     "data": {
      "text/plain": [
       "sepal_length            5.1\n",
       "sepal_width             3.5\n",
       "petal_length            1.4\n",
       "petal_width             0.2\n",
       "class           Iris-setosa\n",
       "Name: 0, dtype: object"
      ]
     },
     "execution_count": 132,
     "metadata": {},
     "output_type": "execute_result"
    }
   ],
   "source": [
    "iris_df.loc[0]"
   ]
  },
  {
   "cell_type": "markdown",
   "id": "7602a302-fa6a-46f4-94b7-05680ef8f10f",
   "metadata": {},
   "source": [
    "You can select multiple rows:"
   ]
  },
  {
   "cell_type": "code",
   "execution_count": 133,
   "id": "6efb6842-988e-4eb6-98e0-823627511053",
   "metadata": {},
   "outputs": [
    {
     "data": {
      "text/html": [
       "<div>\n",
       "<style scoped>\n",
       "    .dataframe tbody tr th:only-of-type {\n",
       "        vertical-align: middle;\n",
       "    }\n",
       "\n",
       "    .dataframe tbody tr th {\n",
       "        vertical-align: top;\n",
       "    }\n",
       "\n",
       "    .dataframe thead th {\n",
       "        text-align: right;\n",
       "    }\n",
       "</style>\n",
       "<table border=\"1\" class=\"dataframe\">\n",
       "  <thead>\n",
       "    <tr style=\"text-align: right;\">\n",
       "      <th></th>\n",
       "      <th>sepal_length</th>\n",
       "      <th>sepal_width</th>\n",
       "      <th>petal_length</th>\n",
       "      <th>petal_width</th>\n",
       "      <th>class</th>\n",
       "    </tr>\n",
       "  </thead>\n",
       "  <tbody>\n",
       "    <tr>\n",
       "      <th>1</th>\n",
       "      <td>4.9</td>\n",
       "      <td>3.0</td>\n",
       "      <td>1.4</td>\n",
       "      <td>0.2</td>\n",
       "      <td>Iris-setosa</td>\n",
       "    </tr>\n",
       "    <tr>\n",
       "      <th>2</th>\n",
       "      <td>4.7</td>\n",
       "      <td>3.2</td>\n",
       "      <td>1.3</td>\n",
       "      <td>0.2</td>\n",
       "      <td>Iris-setosa</td>\n",
       "    </tr>\n",
       "    <tr>\n",
       "      <th>3</th>\n",
       "      <td>4.6</td>\n",
       "      <td>3.1</td>\n",
       "      <td>1.5</td>\n",
       "      <td>0.2</td>\n",
       "      <td>Iris-setosa</td>\n",
       "    </tr>\n",
       "  </tbody>\n",
       "</table>\n",
       "</div>"
      ],
      "text/plain": [
       "   sepal_length  sepal_width  petal_length  petal_width        class\n",
       "1           4.9          3.0           1.4          0.2  Iris-setosa\n",
       "2           4.7          3.2           1.3          0.2  Iris-setosa\n",
       "3           4.6          3.1           1.5          0.2  Iris-setosa"
      ]
     },
     "execution_count": 133,
     "metadata": {},
     "output_type": "execute_result"
    }
   ],
   "source": [
    "iris_df.loc[[1,2,3]]"
   ]
  },
  {
   "cell_type": "markdown",
   "id": "f6ce699b-5976-40f3-8f01-b967c1939b16",
   "metadata": {},
   "source": [
    "Or a range:"
   ]
  },
  {
   "cell_type": "code",
   "execution_count": 134,
   "id": "0afee6b6-39f5-4ce7-aeb7-faafd3217d69",
   "metadata": {},
   "outputs": [
    {
     "data": {
      "text/html": [
       "<div>\n",
       "<style scoped>\n",
       "    .dataframe tbody tr th:only-of-type {\n",
       "        vertical-align: middle;\n",
       "    }\n",
       "\n",
       "    .dataframe tbody tr th {\n",
       "        vertical-align: top;\n",
       "    }\n",
       "\n",
       "    .dataframe thead th {\n",
       "        text-align: right;\n",
       "    }\n",
       "</style>\n",
       "<table border=\"1\" class=\"dataframe\">\n",
       "  <thead>\n",
       "    <tr style=\"text-align: right;\">\n",
       "      <th></th>\n",
       "      <th>sepal_length</th>\n",
       "      <th>sepal_width</th>\n",
       "      <th>petal_length</th>\n",
       "      <th>petal_width</th>\n",
       "      <th>class</th>\n",
       "    </tr>\n",
       "  </thead>\n",
       "  <tbody>\n",
       "    <tr>\n",
       "      <th>0</th>\n",
       "      <td>5.1</td>\n",
       "      <td>3.5</td>\n",
       "      <td>1.4</td>\n",
       "      <td>0.2</td>\n",
       "      <td>Iris-setosa</td>\n",
       "    </tr>\n",
       "    <tr>\n",
       "      <th>1</th>\n",
       "      <td>4.9</td>\n",
       "      <td>3.0</td>\n",
       "      <td>1.4</td>\n",
       "      <td>0.2</td>\n",
       "      <td>Iris-setosa</td>\n",
       "    </tr>\n",
       "    <tr>\n",
       "      <th>2</th>\n",
       "      <td>4.7</td>\n",
       "      <td>3.2</td>\n",
       "      <td>1.3</td>\n",
       "      <td>0.2</td>\n",
       "      <td>Iris-setosa</td>\n",
       "    </tr>\n",
       "    <tr>\n",
       "      <th>3</th>\n",
       "      <td>4.6</td>\n",
       "      <td>3.1</td>\n",
       "      <td>1.5</td>\n",
       "      <td>0.2</td>\n",
       "      <td>Iris-setosa</td>\n",
       "    </tr>\n",
       "    <tr>\n",
       "      <th>4</th>\n",
       "      <td>5.0</td>\n",
       "      <td>3.6</td>\n",
       "      <td>1.4</td>\n",
       "      <td>0.2</td>\n",
       "      <td>Iris-setosa</td>\n",
       "    </tr>\n",
       "    <tr>\n",
       "      <th>5</th>\n",
       "      <td>5.4</td>\n",
       "      <td>3.9</td>\n",
       "      <td>1.7</td>\n",
       "      <td>0.4</td>\n",
       "      <td>Iris-setosa</td>\n",
       "    </tr>\n",
       "    <tr>\n",
       "      <th>6</th>\n",
       "      <td>4.6</td>\n",
       "      <td>3.4</td>\n",
       "      <td>1.4</td>\n",
       "      <td>0.3</td>\n",
       "      <td>Iris-setosa</td>\n",
       "    </tr>\n",
       "    <tr>\n",
       "      <th>7</th>\n",
       "      <td>5.0</td>\n",
       "      <td>3.4</td>\n",
       "      <td>1.5</td>\n",
       "      <td>0.2</td>\n",
       "      <td>Iris-setosa</td>\n",
       "    </tr>\n",
       "    <tr>\n",
       "      <th>8</th>\n",
       "      <td>4.4</td>\n",
       "      <td>2.9</td>\n",
       "      <td>1.4</td>\n",
       "      <td>0.2</td>\n",
       "      <td>Iris-setosa</td>\n",
       "    </tr>\n",
       "    <tr>\n",
       "      <th>9</th>\n",
       "      <td>4.9</td>\n",
       "      <td>3.1</td>\n",
       "      <td>1.5</td>\n",
       "      <td>0.1</td>\n",
       "      <td>Iris-setosa</td>\n",
       "    </tr>\n",
       "    <tr>\n",
       "      <th>10</th>\n",
       "      <td>5.4</td>\n",
       "      <td>3.7</td>\n",
       "      <td>1.5</td>\n",
       "      <td>0.2</td>\n",
       "      <td>Iris-setosa</td>\n",
       "    </tr>\n",
       "  </tbody>\n",
       "</table>\n",
       "</div>"
      ],
      "text/plain": [
       "    sepal_length  sepal_width  petal_length  petal_width        class\n",
       "0            5.1          3.5           1.4          0.2  Iris-setosa\n",
       "1            4.9          3.0           1.4          0.2  Iris-setosa\n",
       "2            4.7          3.2           1.3          0.2  Iris-setosa\n",
       "3            4.6          3.1           1.5          0.2  Iris-setosa\n",
       "4            5.0          3.6           1.4          0.2  Iris-setosa\n",
       "5            5.4          3.9           1.7          0.4  Iris-setosa\n",
       "6            4.6          3.4           1.4          0.3  Iris-setosa\n",
       "7            5.0          3.4           1.5          0.2  Iris-setosa\n",
       "8            4.4          2.9           1.4          0.2  Iris-setosa\n",
       "9            4.9          3.1           1.5          0.1  Iris-setosa\n",
       "10           5.4          3.7           1.5          0.2  Iris-setosa"
      ]
     },
     "execution_count": 134,
     "metadata": {},
     "output_type": "execute_result"
    }
   ],
   "source": [
    "iris_df.loc[0:10]"
   ]
  },
  {
   "cell_type": "markdown",
   "id": "1eb15e50-bbb3-4993-87d0-10b2c2a3fd20",
   "metadata": {},
   "source": [
    "And combine this with a list of column names, as follows:"
   ]
  },
  {
   "cell_type": "code",
   "execution_count": 135,
   "id": "e601f198-ced7-4afc-8748-c0ef94612f2d",
   "metadata": {},
   "outputs": [
    {
     "data": {
      "text/html": [
       "<div>\n",
       "<style scoped>\n",
       "    .dataframe tbody tr th:only-of-type {\n",
       "        vertical-align: middle;\n",
       "    }\n",
       "\n",
       "    .dataframe tbody tr th {\n",
       "        vertical-align: top;\n",
       "    }\n",
       "\n",
       "    .dataframe thead th {\n",
       "        text-align: right;\n",
       "    }\n",
       "</style>\n",
       "<table border=\"1\" class=\"dataframe\">\n",
       "  <thead>\n",
       "    <tr style=\"text-align: right;\">\n",
       "      <th></th>\n",
       "      <th>petal_length</th>\n",
       "      <th>class</th>\n",
       "    </tr>\n",
       "  </thead>\n",
       "  <tbody>\n",
       "    <tr>\n",
       "      <th>0</th>\n",
       "      <td>1.4</td>\n",
       "      <td>Iris-setosa</td>\n",
       "    </tr>\n",
       "    <tr>\n",
       "      <th>1</th>\n",
       "      <td>1.4</td>\n",
       "      <td>Iris-setosa</td>\n",
       "    </tr>\n",
       "    <tr>\n",
       "      <th>2</th>\n",
       "      <td>1.3</td>\n",
       "      <td>Iris-setosa</td>\n",
       "    </tr>\n",
       "    <tr>\n",
       "      <th>3</th>\n",
       "      <td>1.5</td>\n",
       "      <td>Iris-setosa</td>\n",
       "    </tr>\n",
       "    <tr>\n",
       "      <th>4</th>\n",
       "      <td>1.4</td>\n",
       "      <td>Iris-setosa</td>\n",
       "    </tr>\n",
       "    <tr>\n",
       "      <th>5</th>\n",
       "      <td>1.7</td>\n",
       "      <td>Iris-setosa</td>\n",
       "    </tr>\n",
       "    <tr>\n",
       "      <th>6</th>\n",
       "      <td>1.4</td>\n",
       "      <td>Iris-setosa</td>\n",
       "    </tr>\n",
       "    <tr>\n",
       "      <th>7</th>\n",
       "      <td>1.5</td>\n",
       "      <td>Iris-setosa</td>\n",
       "    </tr>\n",
       "    <tr>\n",
       "      <th>8</th>\n",
       "      <td>1.4</td>\n",
       "      <td>Iris-setosa</td>\n",
       "    </tr>\n",
       "    <tr>\n",
       "      <th>9</th>\n",
       "      <td>1.5</td>\n",
       "      <td>Iris-setosa</td>\n",
       "    </tr>\n",
       "    <tr>\n",
       "      <th>10</th>\n",
       "      <td>1.5</td>\n",
       "      <td>Iris-setosa</td>\n",
       "    </tr>\n",
       "  </tbody>\n",
       "</table>\n",
       "</div>"
      ],
      "text/plain": [
       "    petal_length        class\n",
       "0            1.4  Iris-setosa\n",
       "1            1.4  Iris-setosa\n",
       "2            1.3  Iris-setosa\n",
       "3            1.5  Iris-setosa\n",
       "4            1.4  Iris-setosa\n",
       "5            1.7  Iris-setosa\n",
       "6            1.4  Iris-setosa\n",
       "7            1.5  Iris-setosa\n",
       "8            1.4  Iris-setosa\n",
       "9            1.5  Iris-setosa\n",
       "10           1.5  Iris-setosa"
      ]
     },
     "execution_count": 135,
     "metadata": {},
     "output_type": "execute_result"
    }
   ],
   "source": [
    "iris_df.loc[0:10, ['petal_length', 'class']]"
   ]
  },
  {
   "cell_type": "code",
   "execution_count": 136,
   "id": "5cfa571e-ceed-460c-92e2-05bfb2851867",
   "metadata": {},
   "outputs": [
    {
     "data": {
      "text/html": [
       "<div>\n",
       "<style scoped>\n",
       "    .dataframe tbody tr th:only-of-type {\n",
       "        vertical-align: middle;\n",
       "    }\n",
       "\n",
       "    .dataframe tbody tr th {\n",
       "        vertical-align: top;\n",
       "    }\n",
       "\n",
       "    .dataframe thead th {\n",
       "        text-align: right;\n",
       "    }\n",
       "</style>\n",
       "<table border=\"1\" class=\"dataframe\">\n",
       "  <thead>\n",
       "    <tr style=\"text-align: right;\">\n",
       "      <th></th>\n",
       "      <th>sepal_length</th>\n",
       "      <th>sepal_width</th>\n",
       "      <th>petal_length</th>\n",
       "      <th>petal_width</th>\n",
       "      <th>class</th>\n",
       "    </tr>\n",
       "  </thead>\n",
       "  <tbody>\n",
       "    <tr>\n",
       "      <th>2</th>\n",
       "      <td>4.7</td>\n",
       "      <td>3.2</td>\n",
       "      <td>1.3</td>\n",
       "      <td>0.2</td>\n",
       "      <td>Iris-setosa</td>\n",
       "    </tr>\n",
       "    <tr>\n",
       "      <th>3</th>\n",
       "      <td>4.6</td>\n",
       "      <td>3.1</td>\n",
       "      <td>1.5</td>\n",
       "      <td>0.2</td>\n",
       "      <td>Iris-setosa</td>\n",
       "    </tr>\n",
       "    <tr>\n",
       "      <th>4</th>\n",
       "      <td>5.0</td>\n",
       "      <td>3.6</td>\n",
       "      <td>1.4</td>\n",
       "      <td>0.2</td>\n",
       "      <td>Iris-setosa</td>\n",
       "    </tr>\n",
       "    <tr>\n",
       "      <th>7</th>\n",
       "      <td>5.0</td>\n",
       "      <td>3.4</td>\n",
       "      <td>1.5</td>\n",
       "      <td>0.2</td>\n",
       "      <td>Iris-setosa</td>\n",
       "    </tr>\n",
       "    <tr>\n",
       "      <th>8</th>\n",
       "      <td>4.4</td>\n",
       "      <td>2.9</td>\n",
       "      <td>1.4</td>\n",
       "      <td>0.2</td>\n",
       "      <td>Iris-setosa</td>\n",
       "    </tr>\n",
       "    <tr>\n",
       "      <th>9</th>\n",
       "      <td>4.9</td>\n",
       "      <td>3.1</td>\n",
       "      <td>1.5</td>\n",
       "      <td>0.1</td>\n",
       "      <td>Iris-setosa</td>\n",
       "    </tr>\n",
       "  </tbody>\n",
       "</table>\n",
       "</div>"
      ],
      "text/plain": [
       "   sepal_length  sepal_width  petal_length  petal_width        class\n",
       "2           4.7          3.2           1.3          0.2  Iris-setosa\n",
       "3           4.6          3.1           1.5          0.2  Iris-setosa\n",
       "4           5.0          3.6           1.4          0.2  Iris-setosa\n",
       "7           5.0          3.4           1.5          0.2  Iris-setosa\n",
       "8           4.4          2.9           1.4          0.2  Iris-setosa\n",
       "9           4.9          3.1           1.5          0.1  Iris-setosa"
      ]
     },
     "execution_count": 136,
     "metadata": {},
     "output_type": "execute_result"
    }
   ],
   "source": [
    "import numpy as np\n",
    "iris_df.iloc[np.r_[2:5, 7:10]]"
   ]
  },
  {
   "cell_type": "markdown",
   "id": "4217f6e7-a266-476a-93cf-2a4eb5cc6641",
   "metadata": {},
   "source": [
    "A common task is to sample from your dataset based on conditions. For example, you may want all rows where the sepal length is greater than 7cm. \n",
    "\n",
    "If you run the following:"
   ]
  },
  {
   "cell_type": "code",
   "execution_count": 137,
   "id": "38878aae-efc8-48a4-86de-789c5ce3786a",
   "metadata": {},
   "outputs": [],
   "source": [
    "condition = iris_df.sepal_length > 7"
   ]
  },
  {
   "cell_type": "markdown",
   "id": "0e48b93b-627f-463d-b70e-ee38d21ed5f5",
   "metadata": {},
   "source": [
    "you will get a list back with True/False masks:"
   ]
  },
  {
   "cell_type": "code",
   "execution_count": 138,
   "id": "3405c1a6-0123-4742-8048-27654721c366",
   "metadata": {},
   "outputs": [
    {
     "data": {
      "text/plain": [
       "0      False\n",
       "1      False\n",
       "2      False\n",
       "3      False\n",
       "4      False\n",
       "       ...  \n",
       "145    False\n",
       "146    False\n",
       "147    False\n",
       "148    False\n",
       "149    False\n",
       "Name: sepal_length, Length: 150, dtype: bool"
      ]
     },
     "execution_count": 138,
     "metadata": {},
     "output_type": "execute_result"
    }
   ],
   "source": [
    "condition"
   ]
  },
  {
   "cell_type": "code",
   "execution_count": 139,
   "id": "a7b75c5c-cf2f-46ab-abfb-3794fcdcd417",
   "metadata": {},
   "outputs": [
    {
     "data": {
      "text/html": [
       "<div>\n",
       "<style scoped>\n",
       "    .dataframe tbody tr th:only-of-type {\n",
       "        vertical-align: middle;\n",
       "    }\n",
       "\n",
       "    .dataframe tbody tr th {\n",
       "        vertical-align: top;\n",
       "    }\n",
       "\n",
       "    .dataframe thead th {\n",
       "        text-align: right;\n",
       "    }\n",
       "</style>\n",
       "<table border=\"1\" class=\"dataframe\">\n",
       "  <thead>\n",
       "    <tr style=\"text-align: right;\">\n",
       "      <th></th>\n",
       "      <th>sepal_length</th>\n",
       "      <th>sepal_width</th>\n",
       "      <th>petal_length</th>\n",
       "      <th>petal_width</th>\n",
       "      <th>class</th>\n",
       "    </tr>\n",
       "  </thead>\n",
       "  <tbody>\n",
       "    <tr>\n",
       "      <th>102</th>\n",
       "      <td>7.1</td>\n",
       "      <td>3.0</td>\n",
       "      <td>5.9</td>\n",
       "      <td>2.1</td>\n",
       "      <td>Iris-virginica</td>\n",
       "    </tr>\n",
       "    <tr>\n",
       "      <th>105</th>\n",
       "      <td>7.6</td>\n",
       "      <td>3.0</td>\n",
       "      <td>6.6</td>\n",
       "      <td>2.1</td>\n",
       "      <td>Iris-virginica</td>\n",
       "    </tr>\n",
       "    <tr>\n",
       "      <th>107</th>\n",
       "      <td>7.3</td>\n",
       "      <td>2.9</td>\n",
       "      <td>6.3</td>\n",
       "      <td>1.8</td>\n",
       "      <td>Iris-virginica</td>\n",
       "    </tr>\n",
       "    <tr>\n",
       "      <th>109</th>\n",
       "      <td>7.2</td>\n",
       "      <td>3.6</td>\n",
       "      <td>6.1</td>\n",
       "      <td>2.5</td>\n",
       "      <td>Iris-virginica</td>\n",
       "    </tr>\n",
       "    <tr>\n",
       "      <th>117</th>\n",
       "      <td>7.7</td>\n",
       "      <td>3.8</td>\n",
       "      <td>6.7</td>\n",
       "      <td>2.2</td>\n",
       "      <td>Iris-virginica</td>\n",
       "    </tr>\n",
       "    <tr>\n",
       "      <th>118</th>\n",
       "      <td>7.7</td>\n",
       "      <td>2.6</td>\n",
       "      <td>6.9</td>\n",
       "      <td>2.3</td>\n",
       "      <td>Iris-virginica</td>\n",
       "    </tr>\n",
       "    <tr>\n",
       "      <th>122</th>\n",
       "      <td>7.7</td>\n",
       "      <td>2.8</td>\n",
       "      <td>6.7</td>\n",
       "      <td>2.0</td>\n",
       "      <td>Iris-virginica</td>\n",
       "    </tr>\n",
       "    <tr>\n",
       "      <th>125</th>\n",
       "      <td>7.2</td>\n",
       "      <td>3.2</td>\n",
       "      <td>6.0</td>\n",
       "      <td>1.8</td>\n",
       "      <td>Iris-virginica</td>\n",
       "    </tr>\n",
       "    <tr>\n",
       "      <th>129</th>\n",
       "      <td>7.2</td>\n",
       "      <td>3.0</td>\n",
       "      <td>5.8</td>\n",
       "      <td>1.6</td>\n",
       "      <td>Iris-virginica</td>\n",
       "    </tr>\n",
       "    <tr>\n",
       "      <th>130</th>\n",
       "      <td>7.4</td>\n",
       "      <td>2.8</td>\n",
       "      <td>6.1</td>\n",
       "      <td>1.9</td>\n",
       "      <td>Iris-virginica</td>\n",
       "    </tr>\n",
       "    <tr>\n",
       "      <th>131</th>\n",
       "      <td>7.9</td>\n",
       "      <td>3.8</td>\n",
       "      <td>6.4</td>\n",
       "      <td>2.0</td>\n",
       "      <td>Iris-virginica</td>\n",
       "    </tr>\n",
       "    <tr>\n",
       "      <th>135</th>\n",
       "      <td>7.7</td>\n",
       "      <td>3.0</td>\n",
       "      <td>6.1</td>\n",
       "      <td>2.3</td>\n",
       "      <td>Iris-virginica</td>\n",
       "    </tr>\n",
       "  </tbody>\n",
       "</table>\n",
       "</div>"
      ],
      "text/plain": [
       "     sepal_length  sepal_width  petal_length  petal_width           class\n",
       "102           7.1          3.0           5.9          2.1  Iris-virginica\n",
       "105           7.6          3.0           6.6          2.1  Iris-virginica\n",
       "107           7.3          2.9           6.3          1.8  Iris-virginica\n",
       "109           7.2          3.6           6.1          2.5  Iris-virginica\n",
       "117           7.7          3.8           6.7          2.2  Iris-virginica\n",
       "118           7.7          2.6           6.9          2.3  Iris-virginica\n",
       "122           7.7          2.8           6.7          2.0  Iris-virginica\n",
       "125           7.2          3.2           6.0          1.8  Iris-virginica\n",
       "129           7.2          3.0           5.8          1.6  Iris-virginica\n",
       "130           7.4          2.8           6.1          1.9  Iris-virginica\n",
       "131           7.9          3.8           6.4          2.0  Iris-virginica\n",
       "135           7.7          3.0           6.1          2.3  Iris-virginica"
      ]
     },
     "execution_count": 139,
     "metadata": {},
     "output_type": "execute_result"
    }
   ],
   "source": [
    "iris_df[condition]"
   ]
  },
  {
   "cell_type": "code",
   "execution_count": 140,
   "id": "e366628f-58b2-4987-8b7c-e40487ba83e8",
   "metadata": {},
   "outputs": [
    {
     "data": {
      "text/html": [
       "<div>\n",
       "<style scoped>\n",
       "    .dataframe tbody tr th:only-of-type {\n",
       "        vertical-align: middle;\n",
       "    }\n",
       "\n",
       "    .dataframe tbody tr th {\n",
       "        vertical-align: top;\n",
       "    }\n",
       "\n",
       "    .dataframe thead th {\n",
       "        text-align: right;\n",
       "    }\n",
       "</style>\n",
       "<table border=\"1\" class=\"dataframe\">\n",
       "  <thead>\n",
       "    <tr style=\"text-align: right;\">\n",
       "      <th></th>\n",
       "      <th>sepal_length</th>\n",
       "      <th>class</th>\n",
       "    </tr>\n",
       "  </thead>\n",
       "  <tbody>\n",
       "    <tr>\n",
       "      <th>102</th>\n",
       "      <td>7.1</td>\n",
       "      <td>Iris-virginica</td>\n",
       "    </tr>\n",
       "    <tr>\n",
       "      <th>105</th>\n",
       "      <td>7.6</td>\n",
       "      <td>Iris-virginica</td>\n",
       "    </tr>\n",
       "    <tr>\n",
       "      <th>107</th>\n",
       "      <td>7.3</td>\n",
       "      <td>Iris-virginica</td>\n",
       "    </tr>\n",
       "    <tr>\n",
       "      <th>109</th>\n",
       "      <td>7.2</td>\n",
       "      <td>Iris-virginica</td>\n",
       "    </tr>\n",
       "    <tr>\n",
       "      <th>117</th>\n",
       "      <td>7.7</td>\n",
       "      <td>Iris-virginica</td>\n",
       "    </tr>\n",
       "    <tr>\n",
       "      <th>118</th>\n",
       "      <td>7.7</td>\n",
       "      <td>Iris-virginica</td>\n",
       "    </tr>\n",
       "    <tr>\n",
       "      <th>122</th>\n",
       "      <td>7.7</td>\n",
       "      <td>Iris-virginica</td>\n",
       "    </tr>\n",
       "    <tr>\n",
       "      <th>125</th>\n",
       "      <td>7.2</td>\n",
       "      <td>Iris-virginica</td>\n",
       "    </tr>\n",
       "    <tr>\n",
       "      <th>129</th>\n",
       "      <td>7.2</td>\n",
       "      <td>Iris-virginica</td>\n",
       "    </tr>\n",
       "    <tr>\n",
       "      <th>130</th>\n",
       "      <td>7.4</td>\n",
       "      <td>Iris-virginica</td>\n",
       "    </tr>\n",
       "    <tr>\n",
       "      <th>131</th>\n",
       "      <td>7.9</td>\n",
       "      <td>Iris-virginica</td>\n",
       "    </tr>\n",
       "    <tr>\n",
       "      <th>135</th>\n",
       "      <td>7.7</td>\n",
       "      <td>Iris-virginica</td>\n",
       "    </tr>\n",
       "  </tbody>\n",
       "</table>\n",
       "</div>"
      ],
      "text/plain": [
       "     sepal_length           class\n",
       "102           7.1  Iris-virginica\n",
       "105           7.6  Iris-virginica\n",
       "107           7.3  Iris-virginica\n",
       "109           7.2  Iris-virginica\n",
       "117           7.7  Iris-virginica\n",
       "118           7.7  Iris-virginica\n",
       "122           7.7  Iris-virginica\n",
       "125           7.2  Iris-virginica\n",
       "129           7.2  Iris-virginica\n",
       "130           7.4  Iris-virginica\n",
       "131           7.9  Iris-virginica\n",
       "135           7.7  Iris-virginica"
      ]
     },
     "execution_count": 140,
     "metadata": {},
     "output_type": "execute_result"
    }
   ],
   "source": [
    "iris_df.loc[condition, ['sepal_length', 'class']]"
   ]
  },
  {
   "cell_type": "markdown",
   "id": "d0d908df-9dbb-4e6d-bc50-b982f37f0aae",
   "metadata": {},
   "source": [
    "You can make even more conditions:"
   ]
  },
  {
   "cell_type": "code",
   "execution_count": 141,
   "id": "c707c14a-04e3-4963-b04c-1eb9ece791b9",
   "metadata": {},
   "outputs": [],
   "source": [
    "condition_multiple = (iris_df['sepal_length'] > 5) & (iris_df['petal_length'] > 6)"
   ]
  },
  {
   "cell_type": "code",
   "execution_count": 142,
   "id": "24059f1b-daac-4a0e-9889-dcf43e0adf6f",
   "metadata": {},
   "outputs": [
    {
     "data": {
      "text/html": [
       "<div>\n",
       "<style scoped>\n",
       "    .dataframe tbody tr th:only-of-type {\n",
       "        vertical-align: middle;\n",
       "    }\n",
       "\n",
       "    .dataframe tbody tr th {\n",
       "        vertical-align: top;\n",
       "    }\n",
       "\n",
       "    .dataframe thead th {\n",
       "        text-align: right;\n",
       "    }\n",
       "</style>\n",
       "<table border=\"1\" class=\"dataframe\">\n",
       "  <thead>\n",
       "    <tr style=\"text-align: right;\">\n",
       "      <th></th>\n",
       "      <th>sepal_length</th>\n",
       "      <th>sepal_width</th>\n",
       "      <th>petal_length</th>\n",
       "      <th>petal_width</th>\n",
       "      <th>class</th>\n",
       "    </tr>\n",
       "  </thead>\n",
       "  <tbody>\n",
       "    <tr>\n",
       "      <th>105</th>\n",
       "      <td>7.6</td>\n",
       "      <td>3.0</td>\n",
       "      <td>6.6</td>\n",
       "      <td>2.1</td>\n",
       "      <td>Iris-virginica</td>\n",
       "    </tr>\n",
       "    <tr>\n",
       "      <th>107</th>\n",
       "      <td>7.3</td>\n",
       "      <td>2.9</td>\n",
       "      <td>6.3</td>\n",
       "      <td>1.8</td>\n",
       "      <td>Iris-virginica</td>\n",
       "    </tr>\n",
       "    <tr>\n",
       "      <th>109</th>\n",
       "      <td>7.2</td>\n",
       "      <td>3.6</td>\n",
       "      <td>6.1</td>\n",
       "      <td>2.5</td>\n",
       "      <td>Iris-virginica</td>\n",
       "    </tr>\n",
       "    <tr>\n",
       "      <th>117</th>\n",
       "      <td>7.7</td>\n",
       "      <td>3.8</td>\n",
       "      <td>6.7</td>\n",
       "      <td>2.2</td>\n",
       "      <td>Iris-virginica</td>\n",
       "    </tr>\n",
       "    <tr>\n",
       "      <th>118</th>\n",
       "      <td>7.7</td>\n",
       "      <td>2.6</td>\n",
       "      <td>6.9</td>\n",
       "      <td>2.3</td>\n",
       "      <td>Iris-virginica</td>\n",
       "    </tr>\n",
       "    <tr>\n",
       "      <th>122</th>\n",
       "      <td>7.7</td>\n",
       "      <td>2.8</td>\n",
       "      <td>6.7</td>\n",
       "      <td>2.0</td>\n",
       "      <td>Iris-virginica</td>\n",
       "    </tr>\n",
       "    <tr>\n",
       "      <th>130</th>\n",
       "      <td>7.4</td>\n",
       "      <td>2.8</td>\n",
       "      <td>6.1</td>\n",
       "      <td>1.9</td>\n",
       "      <td>Iris-virginica</td>\n",
       "    </tr>\n",
       "    <tr>\n",
       "      <th>131</th>\n",
       "      <td>7.9</td>\n",
       "      <td>3.8</td>\n",
       "      <td>6.4</td>\n",
       "      <td>2.0</td>\n",
       "      <td>Iris-virginica</td>\n",
       "    </tr>\n",
       "    <tr>\n",
       "      <th>135</th>\n",
       "      <td>7.7</td>\n",
       "      <td>3.0</td>\n",
       "      <td>6.1</td>\n",
       "      <td>2.3</td>\n",
       "      <td>Iris-virginica</td>\n",
       "    </tr>\n",
       "  </tbody>\n",
       "</table>\n",
       "</div>"
      ],
      "text/plain": [
       "     sepal_length  sepal_width  petal_length  petal_width           class\n",
       "105           7.6          3.0           6.6          2.1  Iris-virginica\n",
       "107           7.3          2.9           6.3          1.8  Iris-virginica\n",
       "109           7.2          3.6           6.1          2.5  Iris-virginica\n",
       "117           7.7          3.8           6.7          2.2  Iris-virginica\n",
       "118           7.7          2.6           6.9          2.3  Iris-virginica\n",
       "122           7.7          2.8           6.7          2.0  Iris-virginica\n",
       "130           7.4          2.8           6.1          1.9  Iris-virginica\n",
       "131           7.9          3.8           6.4          2.0  Iris-virginica\n",
       "135           7.7          3.0           6.1          2.3  Iris-virginica"
      ]
     },
     "execution_count": 142,
     "metadata": {},
     "output_type": "execute_result"
    }
   ],
   "source": [
    "iris_df[condition_multiple]"
   ]
  },
  {
   "cell_type": "code",
   "execution_count": 143,
   "id": "bbf6c630-09c9-4580-bb52-07260283cc1e",
   "metadata": {},
   "outputs": [
    {
     "data": {
      "text/html": [
       "<div>\n",
       "<style scoped>\n",
       "    .dataframe tbody tr th:only-of-type {\n",
       "        vertical-align: middle;\n",
       "    }\n",
       "\n",
       "    .dataframe tbody tr th {\n",
       "        vertical-align: top;\n",
       "    }\n",
       "\n",
       "    .dataframe thead th {\n",
       "        text-align: right;\n",
       "    }\n",
       "</style>\n",
       "<table border=\"1\" class=\"dataframe\">\n",
       "  <thead>\n",
       "    <tr style=\"text-align: right;\">\n",
       "      <th></th>\n",
       "      <th>sepal_length</th>\n",
       "      <th>petal_length</th>\n",
       "      <th>class</th>\n",
       "    </tr>\n",
       "  </thead>\n",
       "  <tbody>\n",
       "    <tr>\n",
       "      <th>105</th>\n",
       "      <td>7.6</td>\n",
       "      <td>6.6</td>\n",
       "      <td>Iris-virginica</td>\n",
       "    </tr>\n",
       "    <tr>\n",
       "      <th>107</th>\n",
       "      <td>7.3</td>\n",
       "      <td>6.3</td>\n",
       "      <td>Iris-virginica</td>\n",
       "    </tr>\n",
       "    <tr>\n",
       "      <th>109</th>\n",
       "      <td>7.2</td>\n",
       "      <td>6.1</td>\n",
       "      <td>Iris-virginica</td>\n",
       "    </tr>\n",
       "    <tr>\n",
       "      <th>117</th>\n",
       "      <td>7.7</td>\n",
       "      <td>6.7</td>\n",
       "      <td>Iris-virginica</td>\n",
       "    </tr>\n",
       "    <tr>\n",
       "      <th>118</th>\n",
       "      <td>7.7</td>\n",
       "      <td>6.9</td>\n",
       "      <td>Iris-virginica</td>\n",
       "    </tr>\n",
       "    <tr>\n",
       "      <th>122</th>\n",
       "      <td>7.7</td>\n",
       "      <td>6.7</td>\n",
       "      <td>Iris-virginica</td>\n",
       "    </tr>\n",
       "    <tr>\n",
       "      <th>130</th>\n",
       "      <td>7.4</td>\n",
       "      <td>6.1</td>\n",
       "      <td>Iris-virginica</td>\n",
       "    </tr>\n",
       "    <tr>\n",
       "      <th>131</th>\n",
       "      <td>7.9</td>\n",
       "      <td>6.4</td>\n",
       "      <td>Iris-virginica</td>\n",
       "    </tr>\n",
       "    <tr>\n",
       "      <th>135</th>\n",
       "      <td>7.7</td>\n",
       "      <td>6.1</td>\n",
       "      <td>Iris-virginica</td>\n",
       "    </tr>\n",
       "  </tbody>\n",
       "</table>\n",
       "</div>"
      ],
      "text/plain": [
       "     sepal_length  petal_length           class\n",
       "105           7.6           6.6  Iris-virginica\n",
       "107           7.3           6.3  Iris-virginica\n",
       "109           7.2           6.1  Iris-virginica\n",
       "117           7.7           6.7  Iris-virginica\n",
       "118           7.7           6.9  Iris-virginica\n",
       "122           7.7           6.7  Iris-virginica\n",
       "130           7.4           6.1  Iris-virginica\n",
       "131           7.9           6.4  Iris-virginica\n",
       "135           7.7           6.1  Iris-virginica"
      ]
     },
     "execution_count": 143,
     "metadata": {},
     "output_type": "execute_result"
    }
   ],
   "source": [
    "iris_df.loc[condition_multiple, ['sepal_length', 'petal_length', 'class']]"
   ]
  },
  {
   "cell_type": "markdown",
   "id": "d913bc7c-0407-45b5-9186-1a9176b83e0e",
   "metadata": {},
   "source": [
    "--- \n",
    "\n",
    "# End of Morning Session\n",
    "\n",
    "We will continue after a break"
   ]
  }
 ],
 "metadata": {
  "kernelspec": {
   "display_name": "python-course",
   "language": "python",
   "name": "python-course"
  },
  "language_info": {
   "codemirror_mode": {
    "name": "ipython",
    "version": 3
   },
   "file_extension": ".py",
   "mimetype": "text/x-python",
   "name": "python",
   "nbconvert_exporter": "python",
   "pygments_lexer": "ipython3",
   "version": "3.10.12"
  }
 },
 "nbformat": 4,
 "nbformat_minor": 5
}
